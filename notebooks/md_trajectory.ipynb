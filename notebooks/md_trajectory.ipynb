{
 "cells": [
  {
   "cell_type": "code",
   "execution_count": 1,
   "metadata": {
    "ExecuteTime": {
     "end_time": "2020-02-06T10:29:56.336649Z",
     "start_time": "2020-02-06T10:29:55.562423Z"
    }
   },
   "outputs": [],
   "source": [
    "import pytraj as pt\n",
    "import mdtraj as md\n",
    "import numpy as np\n",
    "from openbabel import pybel\n",
    "from tempfile import NamedTemporaryFile"
   ]
  },
  {
   "cell_type": "markdown",
   "metadata": {},
   "source": [
    "# simple pdb file"
   ]
  },
  {
   "cell_type": "code",
   "execution_count": 10,
   "metadata": {
    "ExecuteTime": {
     "end_time": "2020-01-07T15:54:14.067156Z",
     "start_time": "2020-01-07T15:54:14.036838Z"
    }
   },
   "outputs": [
    {
     "data": {
      "text/plain": [
       "pytraj.Trajectory, 1 frames: \n",
       "Size: 0.000054 (GB)\n",
       "<Topology: 2397 atoms, 291 residues, 1 mols, non-PBC>\n",
       "           "
      ]
     },
     "execution_count": 10,
     "metadata": {},
     "output_type": "execute_result"
    }
   ],
   "source": [
    "traj = pt.load(\"/data/backup/cicada/cbouysset/workspace/bitter/old.models_t2r/ali/T2R16_HUMAN/5JQH/T2R16_HUMAN.B99990048.pdb\")\n",
    "traj"
   ]
  },
  {
   "cell_type": "code",
   "execution_count": 11,
   "metadata": {
    "ExecuteTime": {
     "end_time": "2020-01-07T15:54:14.707154Z",
     "start_time": "2020-01-07T15:54:14.692973Z"
    }
   },
   "outputs": [],
   "source": [
    "for atom in traj.topology.atoms:\n",
    "    if atom.charge != 0:\n",
    "        print(atom)"
   ]
  },
  {
   "cell_type": "code",
   "execution_count": 12,
   "metadata": {
    "ExecuteTime": {
     "end_time": "2020-01-07T15:54:15.370587Z",
     "start_time": "2020-01-07T15:54:15.348130Z"
    }
   },
   "outputs": [
    {
     "name": "stdout",
     "output_type": "stream",
     "text": [
      "<PHE8, 11 atoms>\n",
      "Atom(name=N, type=, atomic_number=7, index=62, resid=8)\n",
      "Atom(name=CA, type=, atomic_number=6, index=63, resid=8)\n",
      "Atom(name=CB, type=, atomic_number=6, index=64, resid=8)\n",
      "Atom(name=CG, type=, atomic_number=6, index=65, resid=8)\n",
      "Atom(name=CD1, type=, atomic_number=6, index=66, resid=8)\n",
      "Atom(name=CD2, type=, atomic_number=6, index=67, resid=8)\n",
      "Atom(name=CE1, type=, atomic_number=6, index=68, resid=8)\n",
      "Atom(name=CE2, type=, atomic_number=6, index=69, resid=8)\n",
      "Atom(name=CZ, type=, atomic_number=6, index=70, resid=8)\n",
      "Atom(name=C, type=, atomic_number=6, index=71, resid=8)\n",
      "Atom(name=O, type=, atomic_number=8, index=72, resid=8)\n"
     ]
    }
   ],
   "source": [
    "r = traj.topology.residue(8)\n",
    "print(r)\n",
    "for atom in [a for a in traj.topology.atoms][r.first_atom_index:r.last_atom_index]:\n",
    "    print(atom)"
   ]
  },
  {
   "cell_type": "markdown",
   "metadata": {},
   "source": [
    "PDB: no atom types, no charges, might be missing hydrogens"
   ]
  },
  {
   "cell_type": "markdown",
   "metadata": {},
   "source": [
    "# rec and docking pose from vina"
   ]
  },
  {
   "cell_type": "code",
   "execution_count": 233,
   "metadata": {
    "ExecuteTime": {
     "end_time": "2020-01-07T11:18:18.227032Z",
     "start_time": "2020-01-07T11:18:18.197318Z"
    }
   },
   "outputs": [
    {
     "data": {
      "text/plain": [
       "pytraj.Trajectory, 1 frames: \n",
       "Size: 0.000065 (GB)\n",
       "<Topology: 2892 atoms, 291 residues, 1 mols, non-PBC>\n",
       "           "
      ]
     },
     "execution_count": 233,
     "metadata": {},
     "output_type": "execute_result"
    }
   ],
   "source": [
    "rec = pt.load(\"/data/backup/cicada/cbouysset/workspace/bitter/t2r16/docking/receptors/5JQH/T2R16_HUMAN.B99990041.pdbqt\")\n",
    "rec"
   ]
  },
  {
   "cell_type": "code",
   "execution_count": 234,
   "metadata": {
    "ExecuteTime": {
     "end_time": "2020-01-07T11:18:18.443465Z",
     "start_time": "2020-01-07T11:18:18.429591Z"
    }
   },
   "outputs": [],
   "source": [
    "for atom in rec.topology.atoms:\n",
    "    if atom.charge != 0:\n",
    "        print(atom)"
   ]
  },
  {
   "cell_type": "code",
   "execution_count": 235,
   "metadata": {
    "ExecuteTime": {
     "end_time": "2020-01-07T11:18:18.750606Z",
     "start_time": "2020-01-07T11:18:18.732460Z"
    }
   },
   "outputs": [
    {
     "name": "stdout",
     "output_type": "stream",
     "text": [
      "<PHE8, 12 atoms>\n",
      "Atom(name=N, type=, atomic_number=7, index=74, resid=8)\n",
      "Atom(name=HN, type=, atomic_number=1, index=75, resid=8)\n",
      "Atom(name=CA, type=, atomic_number=6, index=76, resid=8)\n",
      "Atom(name=C, type=, atomic_number=6, index=77, resid=8)\n",
      "Atom(name=O, type=, atomic_number=8, index=78, resid=8)\n",
      "Atom(name=CB, type=, atomic_number=6, index=79, resid=8)\n",
      "Atom()\n",
      "Atom()\n",
      "Atom()\n",
      "Atom()\n",
      "Atom()\n",
      "Atom()\n"
     ]
    }
   ],
   "source": [
    "r = rec.topology.residue(8)\n",
    "print(r)\n",
    "for atom in [a for a in rec.topology.atoms][r.first_atom_index:r.last_atom_index]:\n",
    "    print(atom)"
   ]
  },
  {
   "cell_type": "markdown",
   "metadata": {},
   "source": [
    "PDBQT: cannot be read directly by pytraj (read as a bad PDB). But since Vina is used a lot, we should find a workaround !"
   ]
  },
  {
   "cell_type": "code",
   "execution_count": 128,
   "metadata": {
    "ExecuteTime": {
     "end_time": "2020-01-06T15:31:10.137162Z",
     "start_time": "2020-01-06T15:31:10.122612Z"
    }
   },
   "outputs": [
    {
     "data": {
      "text/plain": [
       "pytraj.Trajectory, 216 frames: \n",
       "Size: 0.000005 (GB)\n",
       "<Topology: 1 atoms, 1 residues, 1 mols, non-PBC>\n",
       "           "
      ]
     },
     "execution_count": 128,
     "metadata": {},
     "output_type": "execute_result"
    }
   ],
   "source": [
    "lig = pt.load(\"/data/backup/cicada/cbouysset/workspace/bitter/t2r16/docking/output/5JQH/T2R16_HUMAN.B99990041/ligand_001/docking_poses.pdbqt\")\n",
    "lig"
   ]
  },
  {
   "cell_type": "code",
   "execution_count": 34,
   "metadata": {
    "ExecuteTime": {
     "end_time": "2020-01-06T16:49:35.655903Z",
     "start_time": "2020-01-06T16:49:35.639894Z"
    }
   },
   "outputs": [
    {
     "data": {
      "text/plain": [
       "pytraj.Trajectory, 216 frames: \n",
       "Size: 0.000005 (GB)\n",
       "<Topology: 1 atoms, 1 residues, 1 mols, non-PBC>\n",
       "           "
      ]
     },
     "execution_count": 34,
     "metadata": {},
     "output_type": "execute_result"
    }
   ],
   "source": [
    "lig = pt.load(\"/data/backup/cicada/cbouysset/workspace/bitter/t2r16/docking/output/5JQH/T2R16_HUMAN.B99990041/ligand_001/docking_poses.pdbqt\")\n",
    "lig"
   ]
  },
  {
   "cell_type": "code",
   "execution_count": 146,
   "metadata": {
    "ExecuteTime": {
     "end_time": "2020-01-06T18:58:13.329323Z",
     "start_time": "2020-01-06T18:58:13.248068Z"
    }
   },
   "outputs": [
    {
     "name": "stdout",
     "output_type": "stream",
     "text": [
      "9\n"
     ]
    },
    {
     "data": {
      "image/svg+xml": [
       "<svg xmlns=\"http://www.w3.org/2000/svg\" font-family=\"sans-serif\" height=\"100\" stroke=\"rgb(0,0,0)\" stroke-linecap=\"round\" stroke-width=\"2\" viewBox=\"0 0 510.836 343.37\" width=\"100\" x=\"0\" y=\"0\">\n",
       "<line opacity=\"1.0\" stroke=\"rgb(0,0,0)\" stroke-width=\"2.0\" x1=\"307.1\" x2=\"274.3\" y1=\"172.4\" y2=\"191.3\" />\n",
       "<line opacity=\"1.0\" stroke=\"rgb(0,0,0)\" stroke-width=\"2.0\" x1=\"307.1\" x2=\"372.6\" y1=\"172.4\" y2=\"134.5\" />\n",
       "<line opacity=\"1.0\" stroke=\"rgb(0,0,0)\" stroke-width=\"2.0\" x1=\"307.1\" x2=\"326.0\" y1=\"172.4\" y2=\"205.1\" />\n",
       "<line opacity=\"1.0\" stroke=\"rgb(0,0,0)\" stroke-width=\"2.0\" x1=\"307.1\" x2=\"275.8\" y1=\"172.4\" y2=\"118.1\" />\n",
       "<line opacity=\"1.0\" stroke=\"rgb(0,0,0)\" stroke-width=\"2.0\" x1=\"256.3\" x2=\"244.4\" y1=\"106.9\" y2=\"106.9\" />\n",
       "<line opacity=\"1.0\" stroke=\"rgb(0,0,0)\" stroke-width=\"2.0\" x1=\"274.3\" x2=\"241.6\" y1=\"191.3\" y2=\"172.4\" />\n",
       "<line opacity=\"1.0\" stroke=\"rgb(0,0,0)\" stroke-width=\"2.0\" x1=\"241.6\" x2=\"176.1\" y1=\"172.4\" y2=\"210.2\" />\n",
       "<line opacity=\"1.0\" stroke=\"rgb(0,0,0)\" stroke-width=\"2.0\" x1=\"176.1\" x2=\"154.6\" y1=\"210.2\" y2=\"197.8\" />\n",
       "<line opacity=\"1.0\" stroke=\"rgb(0,0,0)\" stroke-width=\"2.0\" x1=\"274.3\" x2=\"261.9\" y1=\"191.3\" y2=\"212.8\" />\n",
       "<line opacity=\"1.0\" stroke=\"rgb(0,0,0)\" stroke-width=\"2.0\" x1=\"274.3\" x2=\"286.7\" y1=\"191.3\" y2=\"212.8\" />\n",
       "<line opacity=\"1.0\" stroke=\"rgb(0,0,0)\" stroke-width=\"2.0\" x1=\"241.6\" x2=\"229.2\" y1=\"172.4\" y2=\"150.9\" />\n",
       "<line opacity=\"1.0\" stroke=\"rgb(0,0,0)\" stroke-width=\"2.0\" x1=\"241.6\" x2=\"254.0\" y1=\"172.4\" y2=\"150.9\" />\n",
       "<line opacity=\"1.0\" stroke=\"rgb(0,0,0)\" stroke-width=\"2.0\" x1=\"176.1\" x2=\"163.7\" y1=\"210.2\" y2=\"231.7\" />\n",
       "<line opacity=\"1.0\" stroke=\"rgb(0,0,0)\" stroke-width=\"2.0\" x1=\"176.1\" x2=\"188.5\" y1=\"210.2\" y2=\"231.7\" />\n",
       "<line opacity=\"1.0\" stroke=\"rgb(0,0,0)\" stroke-width=\"2.0\" x1=\"143.3\" x2=\"168.1\" y1=\"153.5\" y2=\"153.5\" />\n",
       "<line opacity=\"1.0\" stroke=\"rgb(0,0,0)\" stroke-width=\"2.0\" x1=\"143.3\" x2=\"155.7\" y1=\"153.5\" y2=\"132.0\" />\n",
       "<line opacity=\"1.0\" stroke=\"rgb(0,0,0)\" stroke-width=\"2.0\" x1=\"110.6\" x2=\"123.0\" y1=\"134.5\" y2=\"113.1\" />\n",
       "<line opacity=\"1.0\" stroke=\"rgb(0,0,0)\" stroke-width=\"2.0\" x1=\"110.6\" x2=\"98.2\" y1=\"134.5\" y2=\"113.1\" />\n",
       "<line opacity=\"1.0\" stroke=\"rgb(0,0,0)\" stroke-width=\"2.0\" x1=\"77.8\" x2=\"65.4\" y1=\"153.5\" y2=\"132.0\" />\n",
       "<line opacity=\"1.0\" stroke=\"rgb(0,0,0)\" stroke-width=\"2.0\" x1=\"77.8\" x2=\"53.0\" y1=\"153.5\" y2=\"153.5\" />\n",
       "<line opacity=\"1.0\" stroke=\"rgb(0,0,0)\" stroke-width=\"2.0\" x1=\"77.8\" x2=\"53.0\" y1=\"191.3\" y2=\"191.3\" />\n",
       "<line opacity=\"1.0\" stroke=\"rgb(0,0,0)\" stroke-width=\"2.0\" x1=\"77.8\" x2=\"65.4\" y1=\"191.3\" y2=\"212.8\" />\n",
       "<line opacity=\"1.0\" stroke=\"rgb(0,0,0)\" stroke-width=\"2.0\" x1=\"110.6\" x2=\"98.2\" y1=\"210.2\" y2=\"231.7\" />\n",
       "<line opacity=\"1.0\" stroke=\"rgb(0,0,0)\" stroke-width=\"2.0\" x1=\"110.6\" x2=\"123.0\" y1=\"210.2\" y2=\"231.7\" />\n",
       "<line opacity=\"1.0\" stroke=\"rgb(0,0,0)\" stroke-width=\"2.0\" x1=\"307.1\" x2=\"282.3\" y1=\"237.9\" y2=\"237.9\" />\n",
       "<line opacity=\"1.0\" stroke=\"rgb(0,0,0)\" stroke-width=\"2.0\" x1=\"326.0\" x2=\"313.6\" y1=\"270.6\" y2=\"292.1\" />\n",
       "<line opacity=\"1.0\" stroke=\"rgb(0,0,0)\" stroke-width=\"2.0\" x1=\"363.8\" x2=\"376.2\" y1=\"270.6\" y2=\"292.1\" />\n",
       "<line opacity=\"1.0\" stroke=\"rgb(0,0,0)\" stroke-width=\"2.0\" x1=\"382.7\" x2=\"407.5\" y1=\"237.9\" y2=\"237.9\" />\n",
       "<line opacity=\"1.0\" stroke=\"rgb(0,0,0)\" stroke-width=\"2.0\" x1=\"363.8\" x2=\"376.2\" y1=\"205.1\" y2=\"183.6\" />\n",
       "<line opacity=\"1.0\" stroke=\"rgb(0,0,0)\" stroke-width=\"2.0\" x1=\"405.3\" x2=\"405.3\" y1=\"153.5\" y2=\"178.3\" />\n",
       "<line opacity=\"1.0\" stroke=\"rgb(0,0,0)\" stroke-width=\"2.0\" x1=\"438.1\" x2=\"459.6\" y1=\"134.5\" y2=\"147.0\" />\n",
       "<line opacity=\"1.0\" stroke=\"rgb(0,0,0)\" stroke-width=\"2.0\" x1=\"438.1\" x2=\"459.6\" y1=\"96.7\" y2=\"84.3\" />\n",
       "<line opacity=\"1.0\" stroke=\"rgb(0,0,0)\" stroke-width=\"2.0\" x1=\"405.3\" x2=\"405.3\" y1=\"77.8\" y2=\"53.0\" />\n",
       "<line opacity=\"1.0\" stroke=\"rgb(0,0,0)\" stroke-width=\"2.0\" x1=\"372.6\" x2=\"351.1\" y1=\"96.7\" y2=\"84.3\" />\n",
       "<line opacity=\"1.0\" stroke=\"rgb(0,0,0)\" stroke-width=\"2.0\" x1=\"326.0\" x2=\"363.8\" y1=\"270.6\" y2=\"270.6\" />\n",
       "<line opacity=\"1.0\" stroke=\"rgb(0,0,0)\" stroke-width=\"2.0\" x1=\"363.8\" x2=\"382.7\" y1=\"270.6\" y2=\"237.9\" />\n",
       "<line opacity=\"1.0\" stroke=\"rgb(0,0,0)\" stroke-width=\"2.0\" x1=\"360.6\" x2=\"373.5\" y1=\"261.8\" y2=\"239.5\" />\n",
       "<line opacity=\"1.0\" stroke=\"rgb(0,0,0)\" stroke-width=\"2.0\" x1=\"382.7\" x2=\"363.8\" y1=\"237.9\" y2=\"205.1\" />\n",
       "<line opacity=\"1.0\" stroke=\"rgb(0,0,0)\" stroke-width=\"2.0\" x1=\"363.8\" x2=\"326.0\" y1=\"205.1\" y2=\"205.1\" />\n",
       "<line opacity=\"1.0\" stroke=\"rgb(0,0,0)\" stroke-width=\"2.0\" x1=\"357.8\" x2=\"332.0\" y1=\"212.3\" y2=\"212.3\" />\n",
       "<line opacity=\"1.0\" stroke=\"rgb(0,0,0)\" stroke-width=\"2.0\" x1=\"326.0\" x2=\"307.1\" y1=\"205.1\" y2=\"237.9\" />\n",
       "<line opacity=\"1.0\" stroke=\"rgb(0,0,0)\" stroke-width=\"2.0\" x1=\"307.1\" x2=\"326.0\" y1=\"237.9\" y2=\"270.6\" />\n",
       "<line opacity=\"1.0\" stroke=\"rgb(0,0,0)\" stroke-width=\"2.0\" x1=\"316.3\" x2=\"329.2\" y1=\"239.5\" y2=\"261.8\" />\n",
       "<line opacity=\"1.0\" stroke=\"rgb(0,0,0)\" stroke-width=\"2.0\" x1=\"438.1\" x2=\"438.1\" y1=\"134.5\" y2=\"96.7\" />\n",
       "<line opacity=\"1.0\" stroke=\"rgb(0,0,0)\" stroke-width=\"2.0\" x1=\"438.1\" x2=\"405.3\" y1=\"96.7\" y2=\"77.8\" />\n",
       "<line opacity=\"1.0\" stroke=\"rgb(0,0,0)\" stroke-width=\"2.0\" x1=\"429.3\" x2=\"406.9\" y1=\"100.0\" y2=\"87.1\" />\n",
       "<line opacity=\"1.0\" stroke=\"rgb(0,0,0)\" stroke-width=\"2.0\" x1=\"405.3\" x2=\"372.6\" y1=\"77.8\" y2=\"96.7\" />\n",
       "<line opacity=\"1.0\" stroke=\"rgb(0,0,0)\" stroke-width=\"2.0\" x1=\"372.6\" x2=\"372.6\" y1=\"96.7\" y2=\"134.5\" />\n",
       "<line opacity=\"1.0\" stroke=\"rgb(0,0,0)\" stroke-width=\"2.0\" x1=\"379.8\" x2=\"379.8\" y1=\"102.7\" y2=\"128.5\" />\n",
       "<line opacity=\"1.0\" stroke=\"rgb(0,0,0)\" stroke-width=\"2.0\" x1=\"372.6\" x2=\"405.3\" y1=\"134.5\" y2=\"153.5\" />\n",
       "<line opacity=\"1.0\" stroke=\"rgb(0,0,0)\" stroke-width=\"2.0\" x1=\"405.3\" x2=\"438.1\" y1=\"153.5\" y2=\"134.5\" />\n",
       "<line opacity=\"1.0\" stroke=\"rgb(0,0,0)\" stroke-width=\"2.0\" x1=\"406.9\" x2=\"429.3\" y1=\"144.2\" y2=\"131.3\" />\n",
       "<line opacity=\"1.0\" stroke=\"rgb(0,0,0)\" stroke-width=\"2.0\" x1=\"110.6\" x2=\"77.8\" y1=\"134.5\" y2=\"153.5\" />\n",
       "<line opacity=\"1.0\" stroke=\"rgb(0,0,0)\" stroke-width=\"2.0\" x1=\"77.8\" x2=\"77.8\" y1=\"153.5\" y2=\"191.3\" />\n",
       "<line opacity=\"1.0\" stroke=\"rgb(0,0,0)\" stroke-width=\"2.0\" x1=\"77.8\" x2=\"110.6\" y1=\"191.3\" y2=\"210.2\" />\n",
       "<line opacity=\"1.0\" stroke=\"rgb(0,0,0)\" stroke-width=\"2.0\" x1=\"110.6\" x2=\"132.1\" y1=\"210.2\" y2=\"197.8\" />\n",
       "<line opacity=\"1.0\" stroke=\"rgb(0,0,0)\" stroke-width=\"2.0\" x1=\"143.3\" x2=\"143.3\" y1=\"178.3\" y2=\"153.5\" />\n",
       "<line opacity=\"1.0\" stroke=\"rgb(0,0,0)\" stroke-width=\"2.0\" x1=\"143.3\" x2=\"110.6\" y1=\"153.5\" y2=\"134.5\" />\n",
       "<text fill=\"rgb(191,191,191)\" font-size=\"16\" font-weight=\"bold\" stroke-width=\"0\" x=\"85.660597\" y=\"250.933324\">H</text>\n",
       "<text fill=\"rgb(191,191,191)\" font-size=\"16\" font-weight=\"bold\" stroke-width=\"0\" x=\"216.666622\" y=\"147.612130\">H</text>\n",
       "<text fill=\"rgb(191,191,191)\" font-size=\"16\" font-weight=\"bold\" stroke-width=\"0\" x=\"254.484804\" y=\"147.612130\">H</text>\n",
       "<text fill=\"rgb(191,191,191)\" font-size=\"16\" font-weight=\"bold\" stroke-width=\"0\" x=\"151.163609\" y=\"250.933324\">H</text>\n",
       "<text fill=\"rgb(191,191,191)\" font-size=\"16\" font-weight=\"bold\" stroke-width=\"0\" x=\"188.981791\" y=\"250.933324\">H</text>\n",
       "<text fill=\"rgb(191,191,191)\" font-size=\"16\" font-weight=\"bold\" stroke-width=\"0\" x=\"175.139376\" y=\"161.454545\">H</text>\n",
       "<text fill=\"rgb(191,191,191)\" font-size=\"16\" font-weight=\"bold\" stroke-width=\"0\" x=\"156.230285\" y=\"128.703039\">H</text>\n",
       "<text fill=\"rgb(191,191,191)\" font-size=\"16\" font-weight=\"bold\" stroke-width=\"0\" x=\"123.478779\" y=\"109.793948\">H</text>\n",
       "<text fill=\"rgb(191,191,191)\" font-size=\"16\" font-weight=\"bold\" stroke-width=\"0\" x=\"85.660597\" y=\"109.793948\">H</text>\n",
       "<text fill=\"rgb(191,191,191)\" font-size=\"16\" font-weight=\"bold\" stroke-width=\"0\" x=\"52.909091\" y=\"128.703039\">H</text>\n",
       "<text fill=\"rgb(191,191,191)\" font-size=\"16\" font-weight=\"bold\" stroke-width=\"0\" x=\"34.000000\" y=\"161.454545\">H</text>\n",
       "<text fill=\"rgb(191,191,191)\" font-size=\"16\" font-weight=\"bold\" stroke-width=\"0\" x=\"34.000000\" y=\"199.272727\">H</text>\n",
       "<text fill=\"rgb(191,191,191)\" font-size=\"16\" font-weight=\"bold\" stroke-width=\"0\" x=\"52.909091\" y=\"232.024233\">H</text>\n",
       "<text fill=\"rgb(191,191,191)\" font-size=\"16\" font-weight=\"bold\" stroke-width=\"0\" x=\"287.236310\" y=\"232.024233\">H</text>\n",
       "<text fill=\"rgb(191,191,191)\" font-size=\"16\" font-weight=\"bold\" stroke-width=\"0\" x=\"123.478779\" y=\"250.933324\">H</text>\n",
       "<text fill=\"rgb(191,191,191)\" font-size=\"16\" font-weight=\"bold\" stroke-width=\"0\" x=\"263.260543\" y=\"245.866649\">H</text>\n",
       "<text fill=\"rgb(191,191,191)\" font-size=\"16\" font-weight=\"bold\" stroke-width=\"0\" x=\"301.078725\" y=\"311.369661\">H</text>\n",
       "<text fill=\"rgb(191,191,191)\" font-size=\"16\" font-weight=\"bold\" stroke-width=\"0\" x=\"376.715089\" y=\"311.369661\">H</text>\n",
       "<text fill=\"rgb(191,191,191)\" font-size=\"16\" font-weight=\"bold\" stroke-width=\"0\" x=\"414.533271\" y=\"245.866649\">H</text>\n",
       "<text fill=\"rgb(191,191,191)\" font-size=\"16\" font-weight=\"bold\" stroke-width=\"0\" x=\"376.715089\" y=\"180.363636\">H</text>\n",
       "<text fill=\"rgb(191,191,191)\" font-size=\"16\" font-weight=\"bold\" stroke-width=\"0\" x=\"399.333244\" y=\"199.272727\">H</text>\n",
       "<text fill=\"rgb(191,191,191)\" font-size=\"16\" font-weight=\"bold\" stroke-width=\"0\" x=\"464.836256\" y=\"161.454545\">H</text>\n",
       "<text fill=\"rgb(191,191,191)\" font-size=\"16\" font-weight=\"bold\" stroke-width=\"0\" x=\"464.836256\" y=\"85.818182\">H</text>\n",
       "<text fill=\"rgb(191,191,191)\" font-size=\"16\" font-weight=\"bold\" stroke-width=\"0\" x=\"399.333244\" y=\"48.000000\">H</text>\n",
       "<text fill=\"rgb(191,191,191)\" font-size=\"16\" font-weight=\"bold\" stroke-width=\"0\" x=\"333.830231\" y=\"85.818182\">H</text>\n",
       "<text fill=\"rgb(255,12,12)\" font-size=\"16\" font-weight=\"bold\" stroke-width=\"0\" x=\"263.260543\" y=\"114.860624\">O</text>\n",
       "<text fill=\"rgb(191,191,191)\" font-size=\"16\" font-weight=\"bold\" stroke-width=\"0\" x=\"225.442361\" y=\"114.860624\">H</text>\n",
       "<text fill=\"rgb(12,12,255)\" font-size=\"16\" font-weight=\"bold\" stroke-width=\"0\" x=\"137.321194\" y=\"199.272727\">N</text>\n",
       "<text fill=\"rgb(191,191,191)\" font-size=\"16\" font-weight=\"bold\" stroke-width=\"0\" x=\"249.418128\" y=\"232.024233\">H</text>\n",
       "</svg>\n"
      ],
      "text/plain": [
       "<openbabel.pybel.Molecule at 0x7fcc73155ba8>"
      ]
     },
     "execution_count": 146,
     "metadata": {},
     "output_type": "execute_result"
    }
   ],
   "source": [
    "ligs = [i for i in pybel.readfile(\"pdbqt\", \"/data/backup/cicada/cbouysset/workspace/bitter/t2r16/docking/output/5JQH/T2R16_HUMAN.B99990041/ligand_001/docking_poses.pdbqt\")]\n",
    "print(len(ligs))\n",
    "lig = ligs[0]\n",
    "# necessary to properly add H\n",
    "lig = pybel.readstring(\"pdb\", lig.write(\"pdb\"))\n",
    "lig.addh()\n",
    "lig"
   ]
  },
  {
   "cell_type": "code",
   "execution_count": 2,
   "metadata": {
    "ExecuteTime": {
     "end_time": "2020-01-08T14:34:35.801496Z",
     "start_time": "2020-01-08T14:34:35.750699Z"
    },
    "code_folding": []
   },
   "outputs": [
    {
     "data": {
      "text/plain": [
       "pytraj.Trajectory, 9 frames: \n",
       "Size: 0.000010 (GB)\n",
       "<Topology: 50 atoms, 1 residues, 1 mols, non-PBC>\n",
       "           "
      ]
     },
     "execution_count": 2,
     "metadata": {},
     "output_type": "execute_result"
    }
   ],
   "source": [
    "def pdbqt_to_mol2(path):\n",
    "    mols = []\n",
    "    for m in pybel.readfile(\"pdbqt\", path):\n",
    "        # necessary to properly add H\n",
    "        mH = pybel.readstring(\"pdb\", m.write(\"pdb\"))\n",
    "        mH.addh()\n",
    "        # need to reassign old charges to mol\n",
    "        mH.OBMol.SetPartialChargesPerceived(True)\n",
    "        for i, (atom, old) in enumerate(zip(mH.atoms, m.atoms)):\n",
    "            if i == len(m.atoms): # stop at new hydrogens\n",
    "                break\n",
    "            # assign old charges\n",
    "            atom.OBAtom.SetPartialCharge(old.partialcharge)\n",
    "        mols.append(mH)\n",
    "    return \"\\n\".join(x.write(\"mol2\") for x in mols)\n",
    "\n",
    "with NamedTemporaryFile(mode='w', encoding='utf-8') as f:\n",
    "    data = pdbqt_to_mol2(\"/data/backup/cicada/cbouysset/workspace/bitter/t2r16/docking/output/5JQH/T2R16_HUMAN.B99990041/ligand_001/docking_poses.pdbqt\")\n",
    "    f.write(data)\n",
    "    traj = pt.load(f.name)\n",
    "\n",
    "traj"
   ]
  },
  {
   "cell_type": "code",
   "execution_count": 195,
   "metadata": {
    "ExecuteTime": {
     "end_time": "2020-01-07T11:03:49.667527Z",
     "start_time": "2020-01-07T11:03:49.640992Z"
    },
    "scrolled": true
   },
   "outputs": [
    {
     "name": "stdout",
     "output_type": "stream",
     "text": [
      "Atom(name=C1, type=C.3, atomic_number=6, index=0, resid=0) 0.112\n",
      "Atom(name=O1, type=O.3, atomic_number=8, index=1, resid=0) -0.38\n",
      "Atom(name=H1, type=H, atomic_number=1, index=2, resid=0) 0.211\n",
      "Atom(name=C2, type=C.3, atomic_number=6, index=3, resid=0) 0.05\n",
      "Atom(name=C3, type=C.3, atomic_number=6, index=4, resid=0) 0.034\n",
      "Atom(name=C4, type=C.3, atomic_number=6, index=5, resid=0) 0.272\n",
      "Atom(name=N1, type=N.3, atomic_number=7, index=6, resid=0) 0.088\n",
      "Atom(name=C5, type=C.3, atomic_number=6, index=7, resid=0) 0.272\n",
      "Atom(name=C6, type=C.3, atomic_number=6, index=8, resid=0) 0.03\n",
      "Atom(name=C7, type=C.3, atomic_number=6, index=9, resid=0) 0.003\n",
      "Atom(name=C8, type=C.3, atomic_number=6, index=10, resid=0) 0.03\n",
      "Atom(name=C9, type=C.3, atomic_number=6, index=11, resid=0) 0.272\n",
      "Atom(name=C10, type=C.ar, atomic_number=6, index=12, resid=0) -0.019\n",
      "Atom(name=C11, type=C.ar, atomic_number=6, index=13, resid=0) 0.01\n",
      "Atom(name=C12, type=C.ar, atomic_number=6, index=14, resid=0) 0.001\n",
      "Atom(name=C13, type=C.ar, atomic_number=6, index=15, resid=0) 0.0\n",
      "Atom(name=C14, type=C.ar, atomic_number=6, index=16, resid=0) 0.001\n",
      "Atom(name=C15, type=C.ar, atomic_number=6, index=17, resid=0) 0.01\n",
      "Atom(name=C16, type=C.ar, atomic_number=6, index=18, resid=0) -0.019\n",
      "Atom(name=C17, type=C.ar, atomic_number=6, index=19, resid=0) 0.01\n",
      "Atom(name=C18, type=C.ar, atomic_number=6, index=20, resid=0) 0.001\n",
      "Atom(name=C19, type=C.ar, atomic_number=6, index=21, resid=0) 0.0\n",
      "Atom(name=C20, type=C.ar, atomic_number=6, index=22, resid=0) 0.001\n",
      "Atom(name=C21, type=C.ar, atomic_number=6, index=23, resid=0) 0.01\n",
      "Atom(name=H, type=H, atomic_number=1, index=24, resid=0) 0.0\n",
      "Atom(name=H, type=H, atomic_number=1, index=25, resid=0) 0.0\n",
      "Atom(name=H, type=H, atomic_number=1, index=26, resid=0) 0.0\n",
      "Atom(name=H, type=H, atomic_number=1, index=27, resid=0) 0.0\n",
      "Atom(name=H, type=H, atomic_number=1, index=28, resid=0) 0.0\n",
      "Atom(name=H, type=H, atomic_number=1, index=29, resid=0) 0.0\n",
      "Atom(name=H, type=H, atomic_number=1, index=30, resid=0) 0.0\n",
      "Atom(name=H, type=H, atomic_number=1, index=31, resid=0) 0.0\n",
      "Atom(name=H, type=H, atomic_number=1, index=32, resid=0) 0.0\n",
      "Atom(name=H, type=H, atomic_number=1, index=33, resid=0) 0.0\n",
      "Atom(name=H, type=H, atomic_number=1, index=34, resid=0) 0.0\n",
      "Atom(name=H, type=H, atomic_number=1, index=35, resid=0) 0.0\n",
      "Atom(name=H, type=H, atomic_number=1, index=36, resid=0) 0.0\n",
      "Atom(name=H, type=H, atomic_number=1, index=37, resid=0) 0.0\n",
      "Atom(name=H, type=H, atomic_number=1, index=38, resid=0) 0.0\n",
      "Atom(name=H, type=H, atomic_number=1, index=39, resid=0) 0.0\n",
      "Atom(name=H, type=H, atomic_number=1, index=40, resid=0) 0.0\n",
      "Atom(name=H, type=H, atomic_number=1, index=41, resid=0) 0.0\n",
      "Atom(name=H, type=H, atomic_number=1, index=42, resid=0) 0.0\n",
      "Atom(name=H, type=H, atomic_number=1, index=43, resid=0) 0.0\n",
      "Atom(name=H, type=H, atomic_number=1, index=44, resid=0) 0.0\n",
      "Atom(name=H, type=H, atomic_number=1, index=45, resid=0) 0.0\n",
      "Atom(name=H, type=H, atomic_number=1, index=46, resid=0) 0.0\n",
      "Atom(name=H, type=H, atomic_number=1, index=47, resid=0) 0.0\n",
      "Atom(name=H, type=H, atomic_number=1, index=48, resid=0) 0.0\n",
      "Atom(name=H, type=H, atomic_number=1, index=49, resid=0) 0.0\n"
     ]
    }
   ],
   "source": [
    "for atom in traj.topology.atoms:\n",
    "        print(atom, atom.charge)"
   ]
  },
  {
   "cell_type": "markdown",
   "metadata": {},
   "source": [
    "Now, PDBQT have atom types, partial charges, and can be read directly from Vina results (no need to split the output file). Each docking pose is read a a trajectory frame.\n",
    "\n",
    "Other free docking software (PLANTS... and probably others) output a MOL2 file (either 1 per pose or a multi-pose single file) so we can now use docking output to read trajectories.\n",
    "\n",
    "Aromaticity seem to be perceived correctly through the SYBYL atom types, so we should require only PDBQT or MOL2 files as input (and MD traj of course)."
   ]
  },
  {
   "cell_type": "markdown",
   "metadata": {},
   "source": [
    "# rec and docking pose from PLANTS"
   ]
  },
  {
   "cell_type": "code",
   "execution_count": 237,
   "metadata": {
    "ExecuteTime": {
     "end_time": "2020-01-07T11:29:54.549975Z",
     "start_time": "2020-01-07T11:29:54.536106Z"
    }
   },
   "outputs": [
    {
     "data": {
      "text/plain": [
       "pytraj.Trajectory, 1 frames: \n",
       "Size: 0.000003 (GB)\n",
       "<Topology: 126 atoms, 1 residues, 1 mols, non-PBC>\n",
       "           "
      ]
     },
     "execution_count": 237,
     "metadata": {},
     "output_type": "execute_result"
    }
   ],
   "source": [
    "rec = pt.load(\"/home/cbouy/Downloads/CB7-initial.mol2\")\n",
    "rec"
   ]
  },
  {
   "cell_type": "code",
   "execution_count": 239,
   "metadata": {
    "ExecuteTime": {
     "end_time": "2020-01-07T11:30:45.884596Z",
     "start_time": "2020-01-07T11:30:45.877659Z"
    }
   },
   "outputs": [
    {
     "name": "stdout",
     "output_type": "stream",
     "text": [
      "<CB710, 126 atoms>\n"
     ]
    }
   ],
   "source": [
    "for r in rec.topology.residues:\n",
    "    print(r)"
   ]
  },
  {
   "cell_type": "code",
   "execution_count": 240,
   "metadata": {
    "ExecuteTime": {
     "end_time": "2020-01-07T11:30:52.442387Z",
     "start_time": "2020-01-07T11:30:52.391727Z"
    }
   },
   "outputs": [
    {
     "name": "stdout",
     "output_type": "stream",
     "text": [
      "Atom(name=O1, type=O.2, atomic_number=8, index=0, resid=0) -0.2522\n",
      "Atom(name=O2, type=O.2, atomic_number=8, index=1, resid=0) -0.2522\n",
      "Atom(name=O3, type=O.2, atomic_number=8, index=2, resid=0) -0.2522\n",
      "Atom(name=O4, type=O.2, atomic_number=8, index=3, resid=0) -0.2522\n",
      "Atom(name=O5, type=O.2, atomic_number=8, index=4, resid=0) -0.2522\n",
      "Atom(name=O6, type=O.2, atomic_number=8, index=5, resid=0) -0.2522\n",
      "Atom(name=O7, type=O.2, atomic_number=8, index=6, resid=0) -0.2522\n",
      "Atom(name=O8, type=O.2, atomic_number=8, index=7, resid=0) -0.2522\n",
      "Atom(name=O9, type=O.2, atomic_number=8, index=8, resid=0) -0.2522\n",
      "Atom(name=O10, type=O.2, atomic_number=8, index=9, resid=0) -0.2522\n",
      "Atom(name=O11, type=O.2, atomic_number=8, index=10, resid=0) -0.2522\n",
      "Atom(name=O12, type=O.2, atomic_number=8, index=11, resid=0) -0.2522\n",
      "Atom(name=O13, type=O.2, atomic_number=8, index=12, resid=0) -0.2522\n",
      "Atom(name=O14, type=O.2, atomic_number=8, index=13, resid=0) -0.2522\n",
      "Atom(name=N15, type=N.am, atomic_number=7, index=14, resid=0) -0.2471\n",
      "Atom(name=N16, type=N.am, atomic_number=7, index=15, resid=0) -0.2471\n",
      "Atom(name=N17, type=N.am, atomic_number=7, index=16, resid=0) -0.2471\n",
      "Atom(name=N18, type=N.am, atomic_number=7, index=17, resid=0) -0.2471\n",
      "Atom(name=N19, type=N.am, atomic_number=7, index=18, resid=0) -0.2471\n",
      "Atom(name=N20, type=N.am, atomic_number=7, index=19, resid=0) -0.2471\n",
      "Atom(name=N21, type=N.am, atomic_number=7, index=20, resid=0) -0.2471\n",
      "Atom(name=N22, type=N.am, atomic_number=7, index=21, resid=0) -0.2471\n",
      "Atom(name=N23, type=N.am, atomic_number=7, index=22, resid=0) -0.2471\n",
      "Atom(name=N24, type=N.am, atomic_number=7, index=23, resid=0) -0.2471\n",
      "Atom(name=N25, type=N.am, atomic_number=7, index=24, resid=0) -0.2471\n",
      "Atom(name=N26, type=N.am, atomic_number=7, index=25, resid=0) -0.2471\n",
      "Atom(name=N27, type=N.am, atomic_number=7, index=26, resid=0) -0.2471\n",
      "Atom(name=N28, type=N.am, atomic_number=7, index=27, resid=0) -0.2471\n",
      "Atom(name=N29, type=N.am, atomic_number=7, index=28, resid=0) -0.2471\n",
      "Atom(name=N30, type=N.am, atomic_number=7, index=29, resid=0) -0.2471\n",
      "Atom(name=N31, type=N.am, atomic_number=7, index=30, resid=0) -0.2471\n",
      "Atom(name=N32, type=N.am, atomic_number=7, index=31, resid=0) -0.2471\n",
      "Atom(name=N33, type=N.am, atomic_number=7, index=32, resid=0) -0.2471\n",
      "Atom(name=N34, type=N.am, atomic_number=7, index=33, resid=0) -0.2471\n",
      "Atom(name=N35, type=N.am, atomic_number=7, index=34, resid=0) -0.2471\n",
      "Atom(name=N36, type=N.am, atomic_number=7, index=35, resid=0) -0.2471\n",
      "Atom(name=N37, type=N.am, atomic_number=7, index=36, resid=0) -0.2471\n",
      "Atom(name=N38, type=N.am, atomic_number=7, index=37, resid=0) -0.2471\n",
      "Atom(name=N39, type=N.am, atomic_number=7, index=38, resid=0) -0.2471\n",
      "Atom(name=N40, type=N.am, atomic_number=7, index=39, resid=0) -0.2471\n",
      "Atom(name=N41, type=N.am, atomic_number=7, index=40, resid=0) -0.2471\n",
      "Atom(name=N42, type=N.am, atomic_number=7, index=41, resid=0) -0.2471\n",
      "Atom(name=C43, type=C.2, atomic_number=6, index=42, resid=0) 0.3102\n",
      "Atom(name=C44, type=C.3, atomic_number=6, index=43, resid=0) 0.1358\n",
      "Atom(name=H45, type=H, atomic_number=1, index=44, resid=0) 0.0749\n",
      "Atom(name=C46, type=C.3, atomic_number=6, index=45, resid=0) 0.1358\n",
      "Atom(name=H47, type=H, atomic_number=1, index=46, resid=0) 0.0749\n",
      "Atom(name=C48, type=C.2, atomic_number=6, index=47, resid=0) 0.3102\n",
      "Atom(name=C49, type=C.3, atomic_number=6, index=48, resid=0) 0.0902\n",
      "Atom(name=H50, type=H, atomic_number=1, index=49, resid=0) 0.0676\n",
      "Atom(name=H51, type=H, atomic_number=1, index=50, resid=0) 0.0676\n",
      "Atom(name=C52, type=C.3, atomic_number=6, index=51, resid=0) 0.0902\n",
      "Atom(name=H53, type=H, atomic_number=1, index=52, resid=0) 0.0676\n",
      "Atom(name=H54, type=H, atomic_number=1, index=53, resid=0) 0.0676\n",
      "Atom(name=C55, type=C.2, atomic_number=6, index=54, resid=0) 0.3102\n",
      "Atom(name=C56, type=C.3, atomic_number=6, index=55, resid=0) 0.1358\n",
      "Atom(name=H57, type=H, atomic_number=1, index=56, resid=0) 0.0749\n",
      "Atom(name=C58, type=C.3, atomic_number=6, index=57, resid=0) 0.1358\n",
      "Atom(name=H59, type=H, atomic_number=1, index=58, resid=0) 0.0749\n",
      "Atom(name=C60, type=C.2, atomic_number=6, index=59, resid=0) 0.3102\n",
      "Atom(name=C61, type=C.3, atomic_number=6, index=60, resid=0) 0.0902\n",
      "Atom(name=H62, type=H, atomic_number=1, index=61, resid=0) 0.0676\n",
      "Atom(name=H63, type=H, atomic_number=1, index=62, resid=0) 0.0676\n",
      "Atom(name=C64, type=C.3, atomic_number=6, index=63, resid=0) 0.0902\n",
      "Atom(name=H65, type=H, atomic_number=1, index=64, resid=0) 0.0676\n",
      "Atom(name=H66, type=H, atomic_number=1, index=65, resid=0) 0.0676\n",
      "Atom(name=C67, type=C.2, atomic_number=6, index=66, resid=0) 0.3102\n",
      "Atom(name=C68, type=C.3, atomic_number=6, index=67, resid=0) 0.1358\n",
      "Atom(name=H69, type=H, atomic_number=1, index=68, resid=0) 0.0749\n",
      "Atom(name=C70, type=C.3, atomic_number=6, index=69, resid=0) 0.1358\n",
      "Atom(name=H71, type=H, atomic_number=1, index=70, resid=0) 0.0749\n",
      "Atom(name=C72, type=C.2, atomic_number=6, index=71, resid=0) 0.3102\n",
      "Atom(name=C73, type=C.3, atomic_number=6, index=72, resid=0) 0.0902\n",
      "Atom(name=H74, type=H, atomic_number=1, index=73, resid=0) 0.0676\n",
      "Atom(name=H75, type=H, atomic_number=1, index=74, resid=0) 0.0676\n",
      "Atom(name=C76, type=C.3, atomic_number=6, index=75, resid=0) 0.0902\n",
      "Atom(name=H77, type=H, atomic_number=1, index=76, resid=0) 0.0676\n",
      "Atom(name=H78, type=H, atomic_number=1, index=77, resid=0) 0.0676\n",
      "Atom(name=C79, type=C.2, atomic_number=6, index=78, resid=0) 0.3102\n",
      "Atom(name=C80, type=C.3, atomic_number=6, index=79, resid=0) 0.1358\n",
      "Atom(name=H81, type=H, atomic_number=1, index=80, resid=0) 0.0749\n",
      "Atom(name=C82, type=C.3, atomic_number=6, index=81, resid=0) 0.1358\n",
      "Atom(name=H83, type=H, atomic_number=1, index=82, resid=0) 0.0749\n",
      "Atom(name=C84, type=C.2, atomic_number=6, index=83, resid=0) 0.3102\n",
      "Atom(name=C85, type=C.3, atomic_number=6, index=84, resid=0) 0.0902\n",
      "Atom(name=H86, type=H, atomic_number=1, index=85, resid=0) 0.0676\n",
      "Atom(name=H87, type=H, atomic_number=1, index=86, resid=0) 0.0676\n",
      "Atom(name=C88, type=C.3, atomic_number=6, index=87, resid=0) 0.0902\n",
      "Atom(name=H89, type=H, atomic_number=1, index=88, resid=0) 0.0676\n",
      "Atom(name=H90, type=H, atomic_number=1, index=89, resid=0) 0.0676\n",
      "Atom(name=C91, type=C.2, atomic_number=6, index=90, resid=0) 0.3102\n",
      "Atom(name=C92, type=C.3, atomic_number=6, index=91, resid=0) 0.1358\n",
      "Atom(name=H93, type=H, atomic_number=1, index=92, resid=0) 0.0749\n",
      "Atom(name=C94, type=C.3, atomic_number=6, index=93, resid=0) 0.1358\n",
      "Atom(name=H95, type=H, atomic_number=1, index=94, resid=0) 0.0749\n",
      "Atom(name=C96, type=C.2, atomic_number=6, index=95, resid=0) 0.3102\n",
      "Atom(name=C97, type=C.3, atomic_number=6, index=96, resid=0) 0.0902\n",
      "Atom(name=H98, type=H, atomic_number=1, index=97, resid=0) 0.0676\n",
      "Atom(name=H99, type=H, atomic_number=1, index=98, resid=0) 0.0676\n",
      "Atom(name=C100, type=C.3, atomic_number=6, index=99, resid=0) 0.0902\n",
      "Atom(name=H101, type=H, atomic_number=1, index=100, resid=0) 0.0676\n",
      "Atom(name=H102, type=H, atomic_number=1, index=101, resid=0) 0.0676\n",
      "Atom(name=C103, type=C.2, atomic_number=6, index=102, resid=0) 0.3102\n",
      "Atom(name=C104, type=C.3, atomic_number=6, index=103, resid=0) 0.1358\n",
      "Atom(name=H105, type=H, atomic_number=1, index=104, resid=0) 0.0749\n",
      "Atom(name=C106, type=C.3, atomic_number=6, index=105, resid=0) 0.1358\n",
      "Atom(name=H107, type=H, atomic_number=1, index=106, resid=0) 0.0749\n",
      "Atom(name=C108, type=C.2, atomic_number=6, index=107, resid=0) 0.3102\n",
      "Atom(name=C109, type=C.3, atomic_number=6, index=108, resid=0) 0.0902\n",
      "Atom(name=H110, type=H, atomic_number=1, index=109, resid=0) 0.0676\n",
      "Atom(name=H111, type=H, atomic_number=1, index=110, resid=0) 0.0676\n",
      "Atom(name=C112, type=C.3, atomic_number=6, index=111, resid=0) 0.0902\n",
      "Atom(name=H113, type=H, atomic_number=1, index=112, resid=0) 0.0676\n",
      "Atom(name=H114, type=H, atomic_number=1, index=113, resid=0) 0.0676\n",
      "Atom(name=C115, type=C.2, atomic_number=6, index=114, resid=0) 0.3102\n",
      "Atom(name=C116, type=C.3, atomic_number=6, index=115, resid=0) 0.1358\n",
      "Atom(name=H117, type=H, atomic_number=1, index=116, resid=0) 0.0749\n",
      "Atom(name=C118, type=C.3, atomic_number=6, index=117, resid=0) 0.1358\n",
      "Atom(name=H119, type=H, atomic_number=1, index=118, resid=0) 0.0749\n",
      "Atom(name=C120, type=C.2, atomic_number=6, index=119, resid=0) 0.3102\n",
      "Atom(name=C121, type=C.3, atomic_number=6, index=120, resid=0) 0.0902\n",
      "Atom(name=H122, type=H, atomic_number=1, index=121, resid=0) 0.0676\n",
      "Atom(name=H123, type=H, atomic_number=1, index=122, resid=0) 0.0676\n",
      "Atom(name=C124, type=C.3, atomic_number=6, index=123, resid=0) 0.0902\n",
      "Atom(name=H125, type=H, atomic_number=1, index=124, resid=0) 0.0676\n",
      "Atom(name=H126, type=H, atomic_number=1, index=125, resid=0) 0.0676\n"
     ]
    }
   ],
   "source": [
    "for atom in rec.topology.atoms:\n",
    "    if atom.charge != 0:\n",
    "        print(atom, atom.charge)"
   ]
  },
  {
   "cell_type": "markdown",
   "metadata": {},
   "source": [
    "it's a host-guest system so there are no residues but atom types seem correct"
   ]
  },
  {
   "cell_type": "code",
   "execution_count": 241,
   "metadata": {
    "ExecuteTime": {
     "end_time": "2020-01-07T11:37:14.050430Z",
     "start_time": "2020-01-07T11:37:14.039071Z"
    }
   },
   "outputs": [
    {
     "data": {
      "text/plain": [
       "pytraj.Trajectory, 1 frames: \n",
       "Size: 0.000001 (GB)\n",
       "<Topology: 27 atoms, 1 residues, 1 mols, non-PBC>\n",
       "           "
      ]
     },
     "execution_count": 241,
     "metadata": {},
     "output_type": "execute_result"
    }
   ],
   "source": [
    "lig = pt.load(\"/home/cbouy/Downloads/AD0_entry_00001_conf_10.mol2\")\n",
    "lig"
   ]
  },
  {
   "cell_type": "code",
   "execution_count": 242,
   "metadata": {
    "ExecuteTime": {
     "end_time": "2020-01-07T11:37:38.669814Z",
     "start_time": "2020-01-07T11:37:38.649873Z"
    },
    "scrolled": true
   },
   "outputs": [
    {
     "name": "stdout",
     "output_type": "stream",
     "text": [
      "Atom(name=C1, type=C.3, atomic_number=6, index=0, resid=0) -0.0379\n",
      "Atom(name=C2, type=C.3, atomic_number=6, index=1, resid=0) -0.0472\n",
      "Atom(name=C3, type=C.3, atomic_number=6, index=2, resid=0) -0.0379\n",
      "Atom(name=C4, type=C.3, atomic_number=6, index=3, resid=0) -0.0472\n",
      "Atom(name=C5, type=C.3, atomic_number=6, index=4, resid=0) -0.0472\n",
      "Atom(name=C6, type=C.3, atomic_number=6, index=5, resid=0) -0.0379\n",
      "Atom(name=C7, type=C.3, atomic_number=6, index=6, resid=0) -0.0211\n",
      "Atom(name=C8, type=C.3, atomic_number=6, index=7, resid=0) -0.0211\n",
      "Atom(name=C9, type=C.3, atomic_number=6, index=8, resid=0) -0.0211\n",
      "Atom(name=C10, type=C.3, atomic_number=6, index=9, resid=0) 0.0669\n",
      "Atom(name=O11, type=O.3, atomic_number=8, index=10, resid=0) -0.3885\n",
      "Atom(name=H12, type=H, atomic_number=1, index=11, resid=0) 0.0302\n",
      "Atom(name=H13, type=H, atomic_number=1, index=12, resid=0) 0.0271\n",
      "Atom(name=H14, type=H, atomic_number=1, index=13, resid=0) 0.0271\n",
      "Atom(name=H15, type=H, atomic_number=1, index=14, resid=0) 0.0302\n",
      "Atom(name=H16, type=H, atomic_number=1, index=15, resid=0) 0.0271\n",
      "Atom(name=H17, type=H, atomic_number=1, index=16, resid=0) 0.0271\n",
      "Atom(name=H18, type=H, atomic_number=1, index=17, resid=0) 0.0271\n",
      "Atom(name=H19, type=H, atomic_number=1, index=18, resid=0) 0.0271\n",
      "Atom(name=H20, type=H, atomic_number=1, index=19, resid=0) 0.0302\n",
      "Atom(name=H21, type=H, atomic_number=1, index=20, resid=0) 0.0296\n",
      "Atom(name=H22, type=H, atomic_number=1, index=21, resid=0) 0.0296\n",
      "Atom(name=H23, type=H, atomic_number=1, index=22, resid=0) 0.0296\n",
      "Atom(name=H24, type=H, atomic_number=1, index=23, resid=0) 0.0296\n",
      "Atom(name=H25, type=H, atomic_number=1, index=24, resid=0) 0.0296\n",
      "Atom(name=H26, type=H, atomic_number=1, index=25, resid=0) 0.0296\n",
      "Atom(name=H27, type=H, atomic_number=1, index=26, resid=0) 0.2102\n"
     ]
    }
   ],
   "source": [
    "for atom in lig.topology.atoms:\n",
    "    print(atom, atom.charge)"
   ]
  },
  {
   "cell_type": "markdown",
   "metadata": {},
   "source": [
    "PLANTS docking output seem to be correct as well"
   ]
  },
  {
   "cell_type": "code",
   "execution_count": 243,
   "metadata": {
    "ExecuteTime": {
     "end_time": "2020-01-07T11:38:23.477594Z",
     "start_time": "2020-01-07T11:38:23.466163Z"
    }
   },
   "outputs": [
    {
     "data": {
      "text/plain": [
       "pytraj.Trajectory, 1 frames: \n",
       "Size: 0.000001 (GB)\n",
       "<Topology: 61 atoms, 1 residues, 1 mols, non-PBC>\n",
       "           "
      ]
     },
     "execution_count": 243,
     "metadata": {},
     "output_type": "execute_result"
    }
   ],
   "source": [
    "lig = pt.load(\"/home/cbouy/Downloads/SMM2_CK571_MD.mol2\")\n",
    "lig"
   ]
  },
  {
   "cell_type": "code",
   "execution_count": 244,
   "metadata": {
    "ExecuteTime": {
     "end_time": "2020-01-07T11:38:29.304092Z",
     "start_time": "2020-01-07T11:38:29.273769Z"
    },
    "scrolled": true
   },
   "outputs": [
    {
     "name": "stdout",
     "output_type": "stream",
     "text": [
      "Atom(name=N1, type=n, atomic_number=7, index=0, resid=0) -0.5239\n",
      "Atom(name=N2, type=n, atomic_number=7, index=1, resid=0) -0.4668\n",
      "Atom(name=N3, type=n, atomic_number=7, index=2, resid=0) -0.5244\n",
      "Atom(name=N4, type=nb, atomic_number=7, index=3, resid=0) -0.659\n",
      "Atom(name=C5, type=ca, atomic_number=6, index=4, resid=0) 0.1289\n",
      "Atom(name=C6, type=ca, atomic_number=6, index=5, resid=0) -0.0196\n",
      "Atom(name=C7, type=ca, atomic_number=6, index=6, resid=0) -0.154\n",
      "Atom(name=C8, type=ca, atomic_number=6, index=7, resid=0) -0.106\n",
      "Atom(name=C9, type=ca, atomic_number=6, index=8, resid=0) -0.111\n",
      "Atom(name=C10, type=ca, atomic_number=6, index=9, resid=0) -0.0993\n",
      "Atom(name=C11, type=c3, atomic_number=6, index=10, resid=0) 0.1203\n",
      "Atom(name=C12, type=c, atomic_number=6, index=11, resid=0) 0.7581\n",
      "Atom(name=C13, type=c3, atomic_number=6, index=12, resid=0) 0.0753\n",
      "Atom(name=C14, type=c3, atomic_number=6, index=13, resid=0) 0.0727\n",
      "Atom(name=C15, type=c3, atomic_number=6, index=14, resid=0) -0.1314\n",
      "Atom(name=C16, type=c3, atomic_number=6, index=15, resid=0) 0.1021\n",
      "Atom(name=C17, type=c3, atomic_number=6, index=16, resid=0) 0.1384\n",
      "Atom(name=C18, type=c3, atomic_number=6, index=17, resid=0) 0.1434\n",
      "Atom(name=C19, type=c, atomic_number=6, index=18, resid=0) 0.7521\n",
      "Atom(name=C20, type=ca, atomic_number=6, index=19, resid=0) 0.5322\n",
      "Atom(name=C21, type=ca, atomic_number=6, index=20, resid=0) -0.2833\n",
      "Atom(name=C22, type=ca, atomic_number=6, index=21, resid=0) 0.015\n",
      "Atom(name=C23, type=ca, atomic_number=6, index=22, resid=0) -0.1853\n",
      "Atom(name=C24, type=ca, atomic_number=6, index=23, resid=0) 0.4532\n",
      "Atom(name=C25, type=ca, atomic_number=6, index=24, resid=0) -0.134\n",
      "Atom(name=C26, type=ca, atomic_number=6, index=25, resid=0) -0.103\n",
      "Atom(name=C27, type=ca, atomic_number=6, index=26, resid=0) -0.14\n",
      "Atom(name=C28, type=ca, atomic_number=6, index=27, resid=0) -0.09\n",
      "Atom(name=O29, type=o, atomic_number=8, index=28, resid=0) -0.6581\n",
      "Atom(name=O30, type=oh, atomic_number=8, index=29, resid=0) -0.6008\n",
      "Atom(name=O31, type=oh, atomic_number=8, index=30, resid=0) -0.6228\n",
      "Atom(name=O32, type=os, atomic_number=8, index=31, resid=0) -0.4509\n",
      "Atom(name=O33, type=o, atomic_number=8, index=32, resid=0) -0.531\n",
      "Atom(name=Cl34, type=cl, atomic_number=17, index=33, resid=0) -0.0784\n",
      "Atom(name=F35, type=f, atomic_number=9, index=34, resid=0) -0.1269\n",
      "Atom(name=H1, type=hn, atomic_number=1, index=35, resid=0) 0.3005\n",
      "Atom(name=H3, type=hn, atomic_number=1, index=36, resid=0) 0.3395\n",
      "Atom(name=H7, type=ha, atomic_number=1, index=37, resid=0) 0.154\n",
      "Atom(name=H8, type=ha, atomic_number=1, index=38, resid=0) 0.147\n",
      "Atom(name=H9, type=ha, atomic_number=1, index=39, resid=0) 0.163\n",
      "Atom(name=H112, type=h1, atomic_number=1, index=40, resid=0) 0.0852\n",
      "Atom(name=H113, type=h1, atomic_number=1, index=41, resid=0) 0.0852\n",
      "Atom(name=H14, type=h1, atomic_number=1, index=42, resid=0) 0.1147\n",
      "Atom(name=H152, type=hc, atomic_number=1, index=43, resid=0) 0.0577\n",
      "Atom(name=H153, type=hc, atomic_number=1, index=44, resid=0) 0.0577\n",
      "Atom(name=H16, type=h1, atomic_number=1, index=45, resid=0) 0.0597\n",
      "Atom(name=H172, type=h1, atomic_number=1, index=46, resid=0) 0.0462\n",
      "Atom(name=H173, type=h1, atomic_number=1, index=47, resid=0) 0.0462\n",
      "Atom(name=H182, type=h1, atomic_number=1, index=48, resid=0) 0.0732\n",
      "Atom(name=H183, type=h1, atomic_number=1, index=49, resid=0) 0.0732\n",
      "Atom(name=H21, type=ha, atomic_number=1, index=50, resid=0) 0.146\n",
      "Atom(name=H24, type=h4, atomic_number=1, index=51, resid=0) 0.0311\n",
      "Atom(name=H25, type=ha, atomic_number=1, index=52, resid=0) 0.137\n",
      "Atom(name=H26, type=ha, atomic_number=1, index=53, resid=0) 0.136\n",
      "Atom(name=H27, type=ha, atomic_number=1, index=54, resid=0) 0.137\n",
      "Atom(name=H28, type=ha, atomic_number=1, index=55, resid=0) 0.138\n",
      "Atom(name=H131, type=h1, atomic_number=1, index=56, resid=0) 0.0417\n",
      "Atom(name=H132, type=h1, atomic_number=1, index=57, resid=0) 0.0417\n",
      "Atom(name=H133, type=h1, atomic_number=1, index=58, resid=0) 0.0417\n",
      "Atom(name=H31, type=ho, atomic_number=1, index=59, resid=0) 0.435\n",
      "Atom(name=H30, type=ho, atomic_number=1, index=60, resid=0) 0.419\n"
     ]
    }
   ],
   "source": [
    "for atom in lig.topology.atoms:\n",
    "    print(atom, atom.charge)"
   ]
  },
  {
   "cell_type": "markdown",
   "metadata": {},
   "source": [
    "Don't remember how this was generated but aromaticity is a bit different on this one..."
   ]
  },
  {
   "cell_type": "markdown",
   "metadata": {},
   "source": [
    "# md"
   ]
  },
  {
   "cell_type": "code",
   "execution_count": 188,
   "metadata": {
    "ExecuteTime": {
     "end_time": "2020-01-07T11:02:34.690604Z",
     "start_time": "2020-01-07T11:02:34.602504Z"
    }
   },
   "outputs": [
    {
     "data": {
      "text/plain": [
       "pytraj.Trajectory, 100 frames: \n",
       "Size: 0.021878 (GB)\n",
       "<Topology: 9788 atoms, 3082 residues, 3064 mols, PBC with box type = truncoct>\n",
       "           "
      ]
     },
     "execution_count": 188,
     "metadata": {},
     "output_type": "execute_result"
    }
   ],
   "source": [
    "traj = pt.load(\"/home/cbouy/Downloads/polyAT_wat_md1.nc\", \"/home/cbouy/Downloads/polyAT_wat.prmtop\")\n",
    "traj"
   ]
  },
  {
   "cell_type": "code",
   "execution_count": 189,
   "metadata": {
    "ExecuteTime": {
     "end_time": "2020-01-07T11:02:38.610916Z",
     "start_time": "2020-01-07T11:02:38.584823Z"
    },
    "scrolled": true
   },
   "outputs": [
    {
     "name": "stdout",
     "output_type": "stream",
     "text": [
      "Atom(name=P, type=P, atomic_number=15, index=30, resid=1)\n",
      "Atom(name=P, type=P, atomic_number=15, index=62, resid=2)\n",
      "Atom(name=P, type=P, atomic_number=15, index=94, resid=3)\n",
      "Atom(name=P, type=P, atomic_number=15, index=126, resid=4)\n",
      "Atom(name=P, type=P, atomic_number=15, index=158, resid=5)\n",
      "Atom(name=P, type=P, atomic_number=15, index=190, resid=6)\n",
      "Atom(name=P, type=P, atomic_number=15, index=222, resid=7)\n",
      "Atom(name=P, type=P, atomic_number=15, index=254, resid=8)\n",
      "Atom(name=P, type=P, atomic_number=15, index=286, resid=9)\n",
      "Atom(name=P, type=P, atomic_number=15, index=349, resid=11)\n",
      "Atom(name=P, type=P, atomic_number=15, index=381, resid=12)\n",
      "Atom(name=P, type=P, atomic_number=15, index=413, resid=13)\n",
      "Atom(name=P, type=P, atomic_number=15, index=445, resid=14)\n",
      "Atom(name=P, type=P, atomic_number=15, index=477, resid=15)\n",
      "Atom(name=P, type=P, atomic_number=15, index=509, resid=16)\n",
      "Atom(name=P, type=P, atomic_number=15, index=541, resid=17)\n",
      "Atom(name=P, type=P, atomic_number=15, index=573, resid=18)\n",
      "Atom(name=P, type=P, atomic_number=15, index=605, resid=19)\n",
      "Atom(name=Na+, type=Na+, atomic_number=11, index=638, resid=20)\n",
      "Atom(name=Na+, type=Na+, atomic_number=11, index=639, resid=21)\n",
      "Atom(name=Na+, type=Na+, atomic_number=11, index=640, resid=22)\n",
      "Atom(name=Na+, type=Na+, atomic_number=11, index=641, resid=23)\n",
      "Atom(name=Na+, type=Na+, atomic_number=11, index=642, resid=24)\n",
      "Atom(name=Na+, type=Na+, atomic_number=11, index=643, resid=25)\n",
      "Atom(name=Na+, type=Na+, atomic_number=11, index=644, resid=26)\n",
      "Atom(name=Na+, type=Na+, atomic_number=11, index=645, resid=27)\n",
      "Atom(name=Na+, type=Na+, atomic_number=11, index=646, resid=28)\n",
      "Atom(name=Na+, type=Na+, atomic_number=11, index=647, resid=29)\n",
      "Atom(name=Na+, type=Na+, atomic_number=11, index=648, resid=30)\n",
      "Atom(name=Na+, type=Na+, atomic_number=11, index=649, resid=31)\n",
      "Atom(name=Na+, type=Na+, atomic_number=11, index=650, resid=32)\n",
      "Atom(name=Na+, type=Na+, atomic_number=11, index=651, resid=33)\n",
      "Atom(name=Na+, type=Na+, atomic_number=11, index=652, resid=34)\n",
      "Atom(name=Na+, type=Na+, atomic_number=11, index=653, resid=35)\n",
      "Atom(name=Na+, type=Na+, atomic_number=11, index=654, resid=36)\n",
      "Atom(name=Na+, type=Na+, atomic_number=11, index=655, resid=37)\n"
     ]
    }
   ],
   "source": [
    "for atom in traj.topology.atoms:\n",
    "    if abs(atom.charge) >= 1:\n",
    "        print(atom)"
   ]
  },
  {
   "cell_type": "code",
   "execution_count": 190,
   "metadata": {
    "ExecuteTime": {
     "end_time": "2020-01-07T11:02:39.344692Z",
     "start_time": "2020-01-07T11:02:39.336100Z"
    }
   },
   "outputs": [
    {
     "data": {
      "text/plain": [
       "Atom(name=P, type=P, atomic_number=15, index=0, resid=2)"
      ]
     },
     "execution_count": 190,
     "metadata": {},
     "output_type": "execute_result"
    }
   ],
   "source": [
    "a = traj.topology.atom(62)\n",
    "a"
   ]
  },
  {
   "cell_type": "code",
   "execution_count": 191,
   "metadata": {
    "ExecuteTime": {
     "end_time": "2020-01-07T11:02:40.061013Z",
     "start_time": "2020-01-07T11:02:40.024997Z"
    }
   },
   "outputs": [
    {
     "data": {
      "text/plain": [
       "pytraj.Trajectory, 100 frames: \n",
       "Size: 0.001390 (GB)\n",
       "<Topology: 622 atoms, 36 residues, 19 mols, PBC with box type = truncoct>\n",
       "           "
      ]
     },
     "execution_count": 191,
     "metadata": {},
     "output_type": "execute_result"
    }
   ],
   "source": [
    "tr = traj[':{}'.format(\",\".join(str(atom.resid) for atom in traj.topology.atoms if (abs(atom.charge) >= 1)))]\n",
    "tr"
   ]
  },
  {
   "cell_type": "code",
   "execution_count": 192,
   "metadata": {
    "ExecuteTime": {
     "end_time": "2020-01-07T11:02:44.072600Z",
     "start_time": "2020-01-07T11:02:40.636904Z"
    },
    "scrolled": true
   },
   "outputs": [
    {
     "name": "stdout",
     "output_type": "stream",
     "text": [
      "P (charged 1.1659000016463343) and Na+ (charged 1.0) were distant from 2.80A at 4.66854965792987e-310ps\n",
      "P (charged 1.1659000016463343) and Na+ (charged 1.0) were distant from 2.58A at 4.66854965792987e-310ps\n",
      "P (charged 1.1659000016463343) and Na+ (charged 1.0) were distant from 2.61A at 4.66854965792987e-310ps\n",
      "P (charged 1.1659000016463343) and Na+ (charged 1.0) were distant from 2.95A at 4.66854965792987e-310ps\n",
      "P (charged 1.1659000016463343) and Na+ (charged 1.0) were distant from 2.96A at 4.66854965792987e-310ps\n",
      "P (charged 1.1659000016463343) and Na+ (charged 1.0) were distant from 2.87A at 4.66854965792987e-310ps\n",
      "P (charged 1.1659000016463343) and Na+ (charged 1.0) were distant from 2.62A at 4.66854965792987e-310ps\n",
      "P (charged 1.1659000016463343) and Na+ (charged 1.0) were distant from 2.49A at 4.66854965792987e-310ps\n",
      "P (charged 1.1659000016463343) and Na+ (charged 1.0) were distant from 2.36A at 4.66854965792987e-310ps\n",
      "P (charged 1.1659000016463343) and Na+ (charged 1.0) were distant from 2.65A at 4.66854965792987e-310ps\n",
      "P (charged 1.1659000016463343) and Na+ (charged 1.0) were distant from 2.89A at 4.66854965792987e-310ps\n",
      "P (charged 1.1659000016463343) and Na+ (charged 1.0) were distant from 2.47A at 4.66854965792987e-310ps\n",
      "P (charged 1.1659000016463343) and Na+ (charged 1.0) were distant from 2.63A at 4.66854965792987e-310ps\n",
      "P (charged 1.1659000016463343) and Na+ (charged 1.0) were distant from 2.94A at 4.66854965792987e-310ps\n",
      "P (charged 1.1659000016463343) and Na+ (charged 1.0) were distant from 3.15A at 4.66854965792987e-310ps\n",
      "P (charged 1.1659000016463343) and Na+ (charged 1.0) were distant from 3.28A at 4.66854965792987e-310ps\n",
      "P (charged 1.1659000016463343) and Na+ (charged 1.0) were distant from 3.35A at 4.66854965792987e-310ps\n",
      "P (charged 1.1659000016463343) and Na+ (charged 1.0) were distant from 3.70A at 4.66854965792987e-310ps\n",
      "P (charged 1.1659000016463343) and Na+ (charged 1.0) were distant from 3.80A at 4.66854965792987e-310ps\n",
      "P (charged 1.1659000016463343) and Na+ (charged 1.0) were distant from 3.76A at 4.66854965792987e-310ps\n",
      "P (charged 1.1659000016463343) and Na+ (charged 1.0) were distant from 3.81A at 4.66854965792987e-310ps\n",
      "P (charged 1.1659000016463343) and Na+ (charged 1.0) were distant from 3.55A at 4.66854965792987e-310ps\n",
      "P (charged 1.1659000016463343) and Na+ (charged 1.0) were distant from 3.50A at 4.66854965792987e-310ps\n",
      "P (charged 1.1659000016463343) and Na+ (charged 1.0) were distant from 3.57A at 4.66854965792987e-310ps\n",
      "P (charged 1.1659000016463343) and Na+ (charged 1.0) were distant from 3.26A at 4.66854965792987e-310ps\n",
      "P (charged 1.1659000016463343) and Na+ (charged 1.0) were distant from 2.94A at 4.66854965792987e-310ps\n",
      "P (charged 1.1659000016463343) and Na+ (charged 1.0) were distant from 2.67A at 4.66854965792987e-310ps\n",
      "P (charged 1.1659000016463343) and Na+ (charged 1.0) were distant from 2.62A at 4.66854965792987e-310ps\n",
      "P (charged 1.1659000016463343) and Na+ (charged 1.0) were distant from 3.03A at 4.66854965792987e-310ps\n",
      "P (charged 1.1659000016463343) and Na+ (charged 1.0) were distant from 2.87A at 4.66854965792987e-310ps\n",
      "P (charged 1.1659000016463343) and Na+ (charged 1.0) were distant from 2.59A at 4.66854965792987e-310ps\n",
      "P (charged 1.1659000016463343) and Na+ (charged 1.0) were distant from 2.87A at 4.66854965792987e-310ps\n",
      "P (charged 1.1659000016463343) and Na+ (charged 1.0) were distant from 2.39A at 4.66854965792987e-310ps\n",
      "P (charged 1.1659000016463343) and Na+ (charged 1.0) were distant from 2.66A at 4.66854965792987e-310ps\n",
      "P (charged 1.1659000016463343) and Na+ (charged 1.0) were distant from 2.89A at 4.66854965792987e-310ps\n",
      "P (charged 1.1659000016463343) and Na+ (charged 1.0) were distant from 2.64A at 4.66854965792987e-310ps\n",
      "P (charged 1.1659000016463343) and Na+ (charged 1.0) were distant from 2.51A at 4.66854965792987e-310ps\n",
      "P (charged 1.1659000016463343) and Na+ (charged 1.0) were distant from 2.60A at 4.66854965792987e-310ps\n",
      "P (charged 1.1659000016463343) and Na+ (charged 1.0) were distant from 2.46A at 4.66854965792987e-310ps\n",
      "P (charged 1.1659000016463343) and Na+ (charged 1.0) were distant from 2.67A at 4.66854965792987e-310ps\n",
      "P (charged 1.1659000016463343) and Na+ (charged 1.0) were distant from 2.76A at 4.66854965792987e-310ps\n",
      "P (charged 1.1659000016463343) and Na+ (charged 1.0) were distant from 2.64A at 4.66854965792987e-310ps\n",
      "P (charged 1.1659000016463343) and Na+ (charged 1.0) were distant from 2.87A at 4.66854965792987e-310ps\n",
      "P (charged 1.1659000016463343) and Na+ (charged 1.0) were distant from 2.82A at 4.66854965792987e-310ps\n",
      "P (charged 1.1659000016463343) and Na+ (charged 1.0) were distant from 3.00A at 4.66854965792987e-310ps\n",
      "P (charged 1.1659000016463343) and Na+ (charged 1.0) were distant from 2.73A at 4.66854965792987e-310ps\n",
      "P (charged 1.1659000016463343) and Na+ (charged 1.0) were distant from 2.60A at 4.66854965792987e-310ps\n",
      "P (charged 1.1659000016463343) and Na+ (charged 1.0) were distant from 2.77A at 4.66854965792987e-310ps\n",
      "P (charged 1.1659000016463343) and Na+ (charged 1.0) were distant from 2.96A at 4.66854965792987e-310ps\n",
      "P (charged 1.1659000016463343) and Na+ (charged 1.0) were distant from 3.13A at 4.66854965792987e-310ps\n",
      "P (charged 1.1659000016463343) and Na+ (charged 1.0) were distant from 3.02A at 4.66854965792987e-310ps\n",
      "P (charged 1.1659000016463343) and Na+ (charged 1.0) were distant from 2.60A at 4.66854965792987e-310ps\n",
      "P (charged 1.1659000016463343) and Na+ (charged 1.0) were distant from 2.99A at 4.66854965792987e-310ps\n",
      "P (charged 1.1659000016463343) and Na+ (charged 1.0) were distant from 2.72A at 4.66854965792987e-310ps\n",
      "P (charged 1.1659000016463343) and Na+ (charged 1.0) were distant from 3.05A at 4.66854965792987e-310ps\n",
      "P (charged 1.1659000016463343) and Na+ (charged 1.0) were distant from 2.74A at 4.66854965792987e-310ps\n",
      "P (charged 1.1659000016463343) and Na+ (charged 1.0) were distant from 2.66A at 4.66854965792987e-310ps\n",
      "P (charged 1.1659000016463343) and Na+ (charged 1.0) were distant from 2.84A at 4.66854965792987e-310ps\n",
      "P (charged 1.1659000016463343) and Na+ (charged 1.0) were distant from 2.44A at 4.66854965792987e-310ps\n",
      "P (charged 1.1659000016463343) and Na+ (charged 1.0) were distant from 2.76A at 4.66854965792987e-310ps\n",
      "P (charged 1.1659000016463343) and Na+ (charged 1.0) were distant from 2.35A at 4.66854965792987e-310ps\n",
      "P (charged 1.1659000016463343) and Na+ (charged 1.0) were distant from 2.68A at 4.66854965792987e-310ps\n",
      "P (charged 1.1659000016463343) and Na+ (charged 1.0) were distant from 2.44A at 4.66854965792987e-310ps\n",
      "P (charged 1.1659000016463343) and Na+ (charged 1.0) were distant from 3.06A at 4.66854965792987e-310ps\n",
      "P (charged 1.1659000016463343) and Na+ (charged 1.0) were distant from 2.70A at 4.66854965792987e-310ps\n",
      "P (charged 1.1659000016463343) and Na+ (charged 1.0) were distant from 2.94A at 4.66854965792987e-310ps\n",
      "P (charged 1.1659000016463343) and Na+ (charged 1.0) were distant from 2.52A at 4.66854965792987e-310ps\n",
      "P (charged 1.1659000016463343) and Na+ (charged 1.0) were distant from 2.59A at 4.66854965792987e-310ps\n",
      "P (charged 1.1659000016463343) and Na+ (charged 1.0) were distant from 2.39A at 4.66854965792987e-310ps\n",
      "P (charged 1.1659000016463343) and Na+ (charged 1.0) were distant from 2.45A at 4.66854965792987e-310ps\n",
      "P (charged 1.1659000016463343) and Na+ (charged 1.0) were distant from 2.58A at 4.66854965792987e-310ps\n",
      "P (charged 1.1659000016463343) and Na+ (charged 1.0) were distant from 2.97A at 4.66854965792987e-310ps\n",
      "P (charged 1.1659000016463343) and Na+ (charged 1.0) were distant from 2.74A at 4.66854965792987e-310ps\n",
      "P (charged 1.1659000016463343) and Na+ (charged 1.0) were distant from 2.50A at 4.66854965792987e-310ps\n",
      "P (charged 1.1659000016463343) and Na+ (charged 1.0) were distant from 2.78A at 4.66854965792987e-310ps\n",
      "P (charged 1.1659000016463343) and Na+ (charged 1.0) were distant from 2.81A at 4.66854965792987e-310ps\n",
      "P (charged 1.1659000016463343) and Na+ (charged 1.0) were distant from 2.72A at 4.66854965792987e-310ps\n",
      "P (charged 1.1659000016463343) and Na+ (charged 1.0) were distant from 2.51A at 4.66854965792987e-310ps\n",
      "P (charged 1.1659000016463343) and Na+ (charged 1.0) were distant from 2.37A at 4.66854965792987e-310ps\n",
      "P (charged 1.1659000016463343) and Na+ (charged 1.0) were distant from 2.58A at 4.66854965792987e-310ps\n",
      "P (charged 1.1659000016463343) and Na+ (charged 1.0) were distant from 2.50A at 4.66854965792987e-310ps\n",
      "P (charged 1.1659000016463343) and Na+ (charged 1.0) were distant from 2.52A at 4.66854965792987e-310ps\n",
      "P (charged 1.1659000016463343) and Na+ (charged 1.0) were distant from 2.52A at 4.66854965792987e-310ps\n",
      "P (charged 1.1659000016463343) and Na+ (charged 1.0) were distant from 2.64A at 4.66854965792987e-310ps\n",
      "P (charged 1.1659000016463343) and Na+ (charged 1.0) were distant from 2.51A at 4.66854965792987e-310ps\n",
      "P (charged 1.1659000016463343) and Na+ (charged 1.0) were distant from 2.55A at 4.66854965792987e-310ps\n",
      "P (charged 1.1659000016463343) and Na+ (charged 1.0) were distant from 2.66A at 4.66854965792987e-310ps\n",
      "P (charged 1.1659000016463343) and Na+ (charged 1.0) were distant from 2.48A at 4.66854965792987e-310ps\n",
      "P (charged 1.1659000016463343) and Na+ (charged 1.0) were distant from 2.26A at 4.66854965792987e-310ps\n",
      "P (charged 1.1659000016463343) and Na+ (charged 1.0) were distant from 2.52A at 4.66854965792987e-310ps\n",
      "P (charged 1.1659000016463343) and Na+ (charged 1.0) were distant from 2.87A at 4.66854965792987e-310ps\n",
      "P (charged 1.1659000016463343) and Na+ (charged 1.0) were distant from 2.44A at 4.66854965792987e-310ps\n",
      "P (charged 1.1659000016463343) and Na+ (charged 1.0) were distant from 2.43A at 4.66854965792987e-310ps\n",
      "P (charged 1.1659000016463343) and Na+ (charged 1.0) were distant from 2.62A at 4.66854965792987e-310ps\n",
      "P (charged 1.1659000016463343) and Na+ (charged 1.0) were distant from 2.55A at 4.66854965792987e-310ps\n",
      "P (charged 1.1659000016463343) and Na+ (charged 1.0) were distant from 2.53A at 4.66854965792987e-310ps\n",
      "P (charged 1.1659000016463343) and Na+ (charged 1.0) were distant from 2.49A at 4.66854965792987e-310ps\n",
      "P (charged 1.1659000016463343) and Na+ (charged 1.0) were distant from 2.76A at 4.66854965792987e-310ps\n",
      "P (charged 1.1659000016463343) and Na+ (charged 1.0) were distant from 2.53A at 4.66854965792987e-310ps\n",
      "P (charged 1.1659000016463343) and Na+ (charged 1.0) were distant from 2.48A at 4.66854965792987e-310ps\n",
      "P (charged 1.1659000016463343) and Na+ (charged 1.0) were distant from 2.73A at 4.66854965792987e-310ps\n",
      "P (charged 1.1659000016463343) and Na+ (charged 1.0) were distant from 2.48A at 4.66854965792987e-310ps\n",
      "P (charged 1.1659000016463343) and Na+ (charged 1.0) were distant from 2.47A at 4.66854965792987e-310ps\n",
      "P (charged 1.1659000016463343) and Na+ (charged 1.0) were distant from 2.72A at 4.66854965792987e-310ps\n",
      "P (charged 1.1659000016463343) and Na+ (charged 1.0) were distant from 2.38A at 4.66854965792987e-310ps\n",
      "P (charged 1.1659000016463343) and Na+ (charged 1.0) were distant from 2.48A at 4.66854965792987e-310ps\n",
      "P (charged 1.1659000016463343) and Na+ (charged 1.0) were distant from 2.81A at 4.66854965792987e-310ps\n",
      "P (charged 1.1659000016463343) and Na+ (charged 1.0) were distant from 2.84A at 4.66854965792987e-310ps\n",
      "P (charged 1.1659000016463343) and Na+ (charged 1.0) were distant from 2.78A at 4.66854965792987e-310ps\n",
      "P (charged 1.1659000016463343) and Na+ (charged 1.0) were distant from 2.52A at 4.66854965792987e-310ps\n",
      "P (charged 1.1659000016463343) and Na+ (charged 1.0) were distant from 3.11A at 4.66854965792987e-310ps\n",
      "P (charged 1.1659000016463343) and Na+ (charged 1.0) were distant from 2.90A at 4.66854965792987e-310ps\n",
      "P (charged 1.1659000016463343) and Na+ (charged 1.0) were distant from 2.49A at 4.66854965792987e-310ps\n",
      "P (charged 1.1659000016463343) and Na+ (charged 1.0) were distant from 2.65A at 4.66854965792987e-310ps\n",
      "P (charged 1.1659000016463343) and Na+ (charged 1.0) were distant from 2.71A at 4.66854965792987e-310ps\n",
      "P (charged 1.1659000016463343) and Na+ (charged 1.0) were distant from 2.80A at 4.66854965792987e-310ps\n",
      "P (charged 1.1659000016463343) and Na+ (charged 1.0) were distant from 3.04A at 4.66854965792987e-310ps\n",
      "P (charged 1.1659000016463343) and Na+ (charged 1.0) were distant from 2.84A at 4.66854965792987e-310ps\n",
      "P (charged 1.1659000016463343) and Na+ (charged 1.0) were distant from 3.30A at 4.66854965792987e-310ps\n",
      "P (charged 1.1659000016463343) and Na+ (charged 1.0) were distant from 2.87A at 4.66854965792987e-310ps\n",
      "P (charged 1.1659000016463343) and Na+ (charged 1.0) were distant from 2.66A at 4.66854965792987e-310ps\n",
      "P (charged 1.1659000016463343) and Na+ (charged 1.0) were distant from 2.92A at 4.66854965792987e-310ps\n",
      "P (charged 1.1659000016463343) and Na+ (charged 1.0) were distant from 2.67A at 4.66854965792987e-310ps\n",
      "P (charged 1.1659000016463343) and Na+ (charged 1.0) were distant from 2.42A at 4.66854965792987e-310ps\n",
      "P (charged 1.1659000016463343) and Na+ (charged 1.0) were distant from 2.51A at 4.66854965792987e-310ps\n",
      "P (charged 1.1659000016463343) and Na+ (charged 1.0) were distant from 2.50A at 4.66854965792987e-310ps\n",
      "P (charged 1.1659000016463343) and Na+ (charged 1.0) were distant from 2.64A at 4.66854965792987e-310ps\n",
      "P (charged 1.1659000016463343) and Na+ (charged 1.0) were distant from 2.38A at 4.66854965792987e-310ps\n",
      "P (charged 1.1659000016463343) and Na+ (charged 1.0) were distant from 2.76A at 4.66854965792987e-310ps\n",
      "P (charged 1.1659000016463343) and Na+ (charged 1.0) were distant from 2.52A at 4.66854965792987e-310ps\n",
      "P (charged 1.1659000016463343) and Na+ (charged 1.0) were distant from 2.77A at 4.66854965792987e-310ps\n",
      "P (charged 1.1659000016463343) and Na+ (charged 1.0) were distant from 2.94A at 4.66854965792987e-310ps\n",
      "P (charged 1.1659000016463343) and Na+ (charged 1.0) were distant from 2.82A at 4.66854965792987e-310ps\n",
      "P (charged 1.1659000016463343) and Na+ (charged 1.0) were distant from 3.11A at 4.66854965792987e-310ps\n",
      "P (charged 1.1659000016463343) and Na+ (charged 1.0) were distant from 3.11A at 4.66854965792987e-310ps\n",
      "P (charged 1.1659000016463343) and Na+ (charged 1.0) were distant from 2.81A at 4.66854965792987e-310ps\n",
      "P (charged 1.1659000016463343) and Na+ (charged 1.0) were distant from 2.49A at 4.66854965792987e-310ps\n",
      "P (charged 1.1659000016463343) and Na+ (charged 1.0) were distant from 2.58A at 4.66854965792987e-310ps\n",
      "P (charged 1.1659000016463343) and Na+ (charged 1.0) were distant from 2.94A at 4.66854965792987e-310ps\n",
      "P (charged 1.1659000016463343) and Na+ (charged 1.0) were distant from 2.62A at 4.66854965792987e-310ps\n",
      "P (charged 1.1659000016463343) and Na+ (charged 1.0) were distant from 2.28A at 4.66854965792987e-310ps\n",
      "P (charged 1.1659000016463343) and Na+ (charged 1.0) were distant from 2.90A at 4.66854965792987e-310ps\n",
      "P (charged 1.1659000016463343) and Na+ (charged 1.0) were distant from 2.43A at 4.66854965792987e-310ps\n",
      "P (charged 1.1659000016463343) and Na+ (charged 1.0) were distant from 2.70A at 4.66854965792987e-310ps\n",
      "P (charged 1.1659000016463343) and Na+ (charged 1.0) were distant from 2.60A at 4.66854965792987e-310ps\n",
      "P (charged 1.1659000016463343) and Na+ (charged 1.0) were distant from 2.92A at 4.66854965792987e-310ps\n",
      "P (charged 1.1659000016463343) and Na+ (charged 1.0) were distant from 2.63A at 4.66854965792987e-310ps\n",
      "P (charged 1.1659000016463343) and Na+ (charged 1.0) were distant from 2.64A at 4.66854965792987e-310ps\n",
      "P (charged 1.1659000016463343) and Na+ (charged 1.0) were distant from 2.44A at 4.66854965792987e-310ps\n",
      "P (charged 1.1659000016463343) and Na+ (charged 1.0) were distant from 2.36A at 4.66854965792987e-310ps\n",
      "P (charged 1.1659000016463343) and Na+ (charged 1.0) were distant from 2.27A at 4.66854965792987e-310ps\n",
      "P (charged 1.1659000016463343) and Na+ (charged 1.0) were distant from 2.28A at 4.66854965792987e-310ps\n",
      "P (charged 1.1659000016463343) and Na+ (charged 1.0) were distant from 2.35A at 4.66854965792987e-310ps\n",
      "P (charged 1.1659000016463343) and Na+ (charged 1.0) were distant from 2.48A at 4.66854965792987e-310ps\n",
      "P (charged 1.1659000016463343) and Na+ (charged 1.0) were distant from 2.83A at 4.66854965792987e-310ps\n",
      "P (charged 1.1659000016463343) and Na+ (charged 1.0) were distant from 2.54A at 4.66854965792987e-310ps\n",
      "P (charged 1.1659000016463343) and Na+ (charged 1.0) were distant from 2.75A at 4.66854965792987e-310ps\n",
      "P (charged 1.1659000016463343) and Na+ (charged 1.0) were distant from 2.42A at 4.66854965792987e-310ps\n",
      "P (charged 1.1659000016463343) and Na+ (charged 1.0) were distant from 2.59A at 4.66854965792987e-310ps\n",
      "P (charged 1.1659000016463343) and Na+ (charged 1.0) were distant from 2.37A at 4.66854965792987e-310ps\n",
      "P (charged 1.1659000016463343) and Na+ (charged 1.0) were distant from 2.46A at 4.66854965792987e-310ps\n",
      "P (charged 1.1659000016463343) and Na+ (charged 1.0) were distant from 2.67A at 4.66854965792987e-310ps\n",
      "P (charged 1.1659000016463343) and Na+ (charged 1.0) were distant from 2.80A at 4.66854965792987e-310ps\n",
      "P (charged 1.1659000016463343) and Na+ (charged 1.0) were distant from 2.76A at 4.66854965792987e-310ps\n",
      "P (charged 1.1659000016463343) and Na+ (charged 1.0) were distant from 2.94A at 4.66854965792987e-310ps\n",
      "P (charged 1.1659000016463343) and Na+ (charged 1.0) were distant from 2.46A at 4.66854965792987e-310ps\n",
      "P (charged 1.1659000016463343) and Na+ (charged 1.0) were distant from 2.35A at 4.66854965792987e-310ps\n",
      "P (charged 1.1659000016463343) and Na+ (charged 1.0) were distant from 2.49A at 4.66854965792987e-310ps\n",
      "P (charged 1.1659000016463343) and Na+ (charged 1.0) were distant from 2.52A at 4.66854965792987e-310ps\n",
      "P (charged 1.1659000016463343) and Na+ (charged 1.0) were distant from 2.54A at 4.66854965792987e-310ps\n",
      "P (charged 1.1659000016463343) and Na+ (charged 1.0) were distant from 2.80A at 4.66854965792987e-310ps\n",
      "P (charged 1.1659000016463343) and Na+ (charged 1.0) were distant from 2.79A at 4.66854965792987e-310ps\n",
      "P (charged 1.1659000016463343) and Na+ (charged 1.0) were distant from 3.13A at 4.66854965792987e-310ps\n",
      "P (charged 1.1659000016463343) and Na+ (charged 1.0) were distant from 3.30A at 4.66854965792987e-310ps\n",
      "P (charged 1.1659000016463343) and Na+ (charged 1.0) were distant from 3.66A at 4.66854965792987e-310ps\n",
      "P (charged 1.1659000016463343) and Na+ (charged 1.0) were distant from 3.27A at 4.66854965792987e-310ps\n",
      "P (charged 1.1659000016463343) and Na+ (charged 1.0) were distant from 3.15A at 4.66854965792987e-310ps\n",
      "P (charged 1.1659000016463343) and Na+ (charged 1.0) were distant from 2.93A at 4.66854965792987e-310ps\n",
      "P (charged 1.1659000016463343) and Na+ (charged 1.0) were distant from 3.15A at 4.66854965792987e-310ps\n",
      "P (charged 1.1659000016463343) and Na+ (charged 1.0) were distant from 3.54A at 4.66854965792987e-310ps\n",
      "P (charged 1.1659000016463343) and Na+ (charged 1.0) were distant from 2.89A at 4.66854965792987e-310ps\n",
      "P (charged 1.1659000016463343) and Na+ (charged 1.0) were distant from 2.90A at 4.66854965792987e-310ps\n",
      "P (charged 1.1659000016463343) and Na+ (charged 1.0) were distant from 2.67A at 4.66854965792987e-310ps\n",
      "P (charged 1.1659000016463343) and Na+ (charged 1.0) were distant from 2.57A at 4.66854965792987e-310ps\n",
      "P (charged 1.1659000016463343) and Na+ (charged 1.0) were distant from 2.44A at 4.66854965792987e-310ps\n",
      "P (charged 1.1659000016463343) and Na+ (charged 1.0) were distant from 2.77A at 4.66854965792987e-310ps\n",
      "P (charged 1.1659000016463343) and Na+ (charged 1.0) were distant from 2.73A at 4.66854965792987e-310ps\n",
      "P (charged 1.1659000016463343) and Na+ (charged 1.0) were distant from 3.33A at 4.66854965792987e-310ps\n",
      "P (charged 1.1659000016463343) and Na+ (charged 1.0) were distant from 3.30A at 4.66854965792987e-310ps\n",
      "P (charged 1.1659000016463343) and Na+ (charged 1.0) were distant from 2.99A at 4.66854965792987e-310ps\n",
      "P (charged 1.1659000016463343) and Na+ (charged 1.0) were distant from 3.16A at 4.66854965792987e-310ps\n",
      "P (charged 1.1659000016463343) and Na+ (charged 1.0) were distant from 3.24A at 4.66854965792987e-310ps\n",
      "P (charged 1.1659000016463343) and Na+ (charged 1.0) were distant from 2.85A at 4.66854965792987e-310ps\n",
      "P (charged 1.1659000016463343) and Na+ (charged 1.0) were distant from 3.32A at 4.66854965792987e-310ps\n",
      "P (charged 1.1659000016463343) and Na+ (charged 1.0) were distant from 3.52A at 4.66854965792987e-310ps\n",
      "P (charged 1.1659000016463343) and Na+ (charged 1.0) were distant from 3.73A at 4.66854965792987e-310ps\n",
      "P (charged 1.1659000016463343) and Na+ (charged 1.0) were distant from 3.68A at 4.66854965792987e-310ps\n",
      "P (charged 1.1659000016463343) and Na+ (charged 1.0) were distant from 3.17A at 4.66854965792987e-310ps\n",
      "P (charged 1.1659000016463343) and Na+ (charged 1.0) were distant from 2.59A at 4.66854965792987e-310ps\n",
      "P (charged 1.1659000016463343) and Na+ (charged 1.0) were distant from 2.68A at 4.66854965792987e-310ps\n"
     ]
    },
    {
     "name": "stdout",
     "output_type": "stream",
     "text": [
      "P (charged 1.1659000016463343) and Na+ (charged 1.0) were distant from 3.07A at 4.66854965792987e-310ps\n",
      "P (charged 1.1659000016463343) and Na+ (charged 1.0) were distant from 2.70A at 4.66854965792987e-310ps\n",
      "P (charged 1.1659000016463343) and Na+ (charged 1.0) were distant from 2.76A at 4.66854965792987e-310ps\n",
      "P (charged 1.1659000016463343) and Na+ (charged 1.0) were distant from 2.58A at 4.66854965792987e-310ps\n",
      "P (charged 1.1659000016463343) and Na+ (charged 1.0) were distant from 2.54A at 4.66854965792987e-310ps\n",
      "P (charged 1.1659000016463343) and Na+ (charged 1.0) were distant from 2.72A at 4.66854965792987e-310ps\n",
      "P (charged 1.1659000016463343) and Na+ (charged 1.0) were distant from 2.52A at 4.66854965792987e-310ps\n",
      "P (charged 1.1659000016463343) and Na+ (charged 1.0) were distant from 2.81A at 4.66854965792987e-310ps\n",
      "P (charged 1.1659000016463343) and Na+ (charged 1.0) were distant from 2.40A at 4.66854965792987e-310ps\n",
      "P (charged 1.1659000016463343) and Na+ (charged 1.0) were distant from 2.52A at 4.66854965792987e-310ps\n",
      "P (charged 1.1659000016463343) and Na+ (charged 1.0) were distant from 2.77A at 4.66854965792987e-310ps\n",
      "P (charged 1.1659000016463343) and Na+ (charged 1.0) were distant from 2.71A at 4.66854965792987e-310ps\n",
      "P (charged 1.1659000016463343) and Na+ (charged 1.0) were distant from 2.52A at 4.66854965792987e-310ps\n",
      "P (charged 1.1659000016463343) and Na+ (charged 1.0) were distant from 2.65A at 4.66854965792987e-310ps\n",
      "P (charged 1.1659000016463343) and Na+ (charged 1.0) were distant from 3.08A at 4.66854965792987e-310ps\n",
      "P (charged 1.1659000016463343) and Na+ (charged 1.0) were distant from 3.15A at 4.66854965792987e-310ps\n",
      "P (charged 1.1659000016463343) and Na+ (charged 1.0) were distant from 3.61A at 4.66854965792987e-310ps\n",
      "P (charged 1.1659000016463343) and Na+ (charged 1.0) were distant from 3.66A at 4.66854965792987e-310ps\n",
      "P (charged 1.1659000016463343) and Na+ (charged 1.0) were distant from 3.23A at 4.66854965792987e-310ps\n",
      "P (charged 1.1659000016463343) and Na+ (charged 1.0) were distant from 2.86A at 4.66854965792987e-310ps\n",
      "P (charged 1.1659000016463343) and Na+ (charged 1.0) were distant from 2.88A at 4.66854965792987e-310ps\n",
      "P (charged 1.1659000016463343) and Na+ (charged 1.0) were distant from 3.06A at 4.66854965792987e-310ps\n",
      "P (charged 1.1659000016463343) and Na+ (charged 1.0) were distant from 3.02A at 4.66854965792987e-310ps\n",
      "P (charged 1.1659000016463343) and Na+ (charged 1.0) were distant from 2.93A at 4.66854965792987e-310ps\n",
      "P (charged 1.1659000016463343) and Na+ (charged 1.0) were distant from 2.98A at 4.66854965792987e-310ps\n",
      "P (charged 1.1659000016463343) and Na+ (charged 1.0) were distant from 2.65A at 4.66854965792987e-310ps\n",
      "P (charged 1.1659000016463343) and Na+ (charged 1.0) were distant from 3.09A at 4.66854965792987e-310ps\n",
      "P (charged 1.1659000016463343) and Na+ (charged 1.0) were distant from 3.28A at 4.66854965792987e-310ps\n",
      "P (charged 1.1659000016463343) and Na+ (charged 1.0) were distant from 3.22A at 4.66854965792987e-310ps\n",
      "P (charged 1.1659000016463343) and Na+ (charged 1.0) were distant from 3.06A at 4.66854965792987e-310ps\n",
      "P (charged 1.1659000016463343) and Na+ (charged 1.0) were distant from 3.36A at 4.66854965792987e-310ps\n",
      "P (charged 1.1659000016463343) and Na+ (charged 1.0) were distant from 3.37A at 4.66854965792987e-310ps\n",
      "P (charged 1.1659000016463343) and Na+ (charged 1.0) were distant from 3.06A at 4.66854965792987e-310ps\n",
      "P (charged 1.1659000016463343) and Na+ (charged 1.0) were distant from 2.66A at 4.66854965792987e-310ps\n",
      "P (charged 1.1659000016463343) and Na+ (charged 1.0) were distant from 2.93A at 4.66854965792987e-310ps\n",
      "P (charged 1.1659000016463343) and Na+ (charged 1.0) were distant from 2.36A at 4.66854965792987e-310ps\n",
      "P (charged 1.1659000016463343) and Na+ (charged 1.0) were distant from 2.64A at 4.66854965792987e-310ps\n",
      "P (charged 1.1659000016463343) and Na+ (charged 1.0) were distant from 3.02A at 4.66854965792987e-310ps\n",
      "P (charged 1.1659000016463343) and Na+ (charged 1.0) were distant from 2.89A at 4.66854965792987e-310ps\n",
      "P (charged 1.1659000016463343) and Na+ (charged 1.0) were distant from 2.93A at 4.66854965792987e-310ps\n",
      "P (charged 1.1659000016463343) and Na+ (charged 1.0) were distant from 2.95A at 4.66854965792987e-310ps\n",
      "P (charged 1.1659000016463343) and Na+ (charged 1.0) were distant from 2.59A at 4.66854965792987e-310ps\n",
      "P (charged 1.1659000016463343) and Na+ (charged 1.0) were distant from 2.59A at 4.66854965792987e-310ps\n",
      "P (charged 1.1659000016463343) and Na+ (charged 1.0) were distant from 2.63A at 4.66854965792987e-310ps\n",
      "P (charged 1.1659000016463343) and Na+ (charged 1.0) were distant from 2.35A at 4.66854965792987e-310ps\n",
      "P (charged 1.1659000016463343) and Na+ (charged 1.0) were distant from 2.55A at 4.66854965792987e-310ps\n",
      "P (charged 1.1659000016463343) and Na+ (charged 1.0) were distant from 2.75A at 4.66854965792987e-310ps\n",
      "P (charged 1.1659000016463343) and Na+ (charged 1.0) were distant from 2.90A at 4.66854965792987e-310ps\n",
      "P (charged 1.1659000016463343) and Na+ (charged 1.0) were distant from 2.64A at 4.66854965792987e-310ps\n",
      "P (charged 1.1659000016463343) and Na+ (charged 1.0) were distant from 2.46A at 4.66854965792987e-310ps\n",
      "P (charged 1.1659000016463343) and Na+ (charged 1.0) were distant from 2.55A at 4.66854965792987e-310ps\n",
      "P (charged 1.1659000016463343) and Na+ (charged 1.0) were distant from 2.55A at 4.66854965792987e-310ps\n",
      "P (charged 1.1659000016463343) and Na+ (charged 1.0) were distant from 2.53A at 4.66854965792987e-310ps\n",
      "P (charged 1.1659000016463343) and Na+ (charged 1.0) were distant from 2.50A at 4.66854965792987e-310ps\n",
      "P (charged 1.1659000016463343) and Na+ (charged 1.0) were distant from 2.65A at 4.66854965792987e-310ps\n",
      "P (charged 1.1659000016463343) and Na+ (charged 1.0) were distant from 2.64A at 4.66854965792987e-310ps\n",
      "P (charged 1.1659000016463343) and Na+ (charged 1.0) were distant from 2.72A at 4.66854965792987e-310ps\n",
      "P (charged 1.1659000016463343) and Na+ (charged 1.0) were distant from 2.56A at 4.66854965792987e-310ps\n",
      "P (charged 1.1659000016463343) and Na+ (charged 1.0) were distant from 2.97A at 4.66854965792987e-310ps\n",
      "P (charged 1.1659000016463343) and Na+ (charged 1.0) were distant from 2.75A at 4.66854965792987e-310ps\n",
      "P (charged 1.1659000016463343) and Na+ (charged 1.0) were distant from 2.49A at 4.66854965792987e-310ps\n",
      "P (charged 1.1659000016463343) and Na+ (charged 1.0) were distant from 2.43A at 4.66854965792987e-310ps\n",
      "P (charged 1.1659000016463343) and Na+ (charged 1.0) were distant from 2.69A at 4.66854965792987e-310ps\n",
      "P (charged 1.1659000016463343) and Na+ (charged 1.0) were distant from 2.67A at 4.66854965792987e-310ps\n",
      "P (charged 1.1659000016463343) and Na+ (charged 1.0) were distant from 2.57A at 4.66854965792987e-310ps\n",
      "P (charged 1.1659000016463343) and Na+ (charged 1.0) were distant from 2.47A at 4.66854965792987e-310ps\n",
      "P (charged 1.1659000016463343) and Na+ (charged 1.0) were distant from 2.32A at 4.66854965792987e-310ps\n",
      "P (charged 1.1659000016463343) and Na+ (charged 1.0) were distant from 2.64A at 4.66854965792987e-310ps\n",
      "P (charged 1.1659000016463343) and Na+ (charged 1.0) were distant from 2.39A at 4.66854965792987e-310ps\n",
      "P (charged 1.1659000016463343) and Na+ (charged 1.0) were distant from 2.35A at 4.66854965792987e-310ps\n",
      "P (charged 1.1659000016463343) and Na+ (charged 1.0) were distant from 2.48A at 4.66854965792987e-310ps\n",
      "P (charged 1.1659000016463343) and Na+ (charged 1.0) were distant from 2.29A at 4.66854965792987e-310ps\n",
      "P (charged 1.1659000016463343) and Na+ (charged 1.0) were distant from 2.66A at 4.66854965792987e-310ps\n",
      "P (charged 1.1659000016463343) and Na+ (charged 1.0) were distant from 2.84A at 4.66854965792987e-310ps\n",
      "P (charged 1.1659000016463343) and Na+ (charged 1.0) were distant from 2.54A at 4.66854965792987e-310ps\n",
      "P (charged 1.1659000016463343) and Na+ (charged 1.0) were distant from 2.56A at 4.66854965792987e-310ps\n",
      "P (charged 1.1659000016463343) and Na+ (charged 1.0) were distant from 2.48A at 4.66854965792987e-310ps\n",
      "P (charged 1.1659000016463343) and Na+ (charged 1.0) were distant from 2.71A at 4.66854965792987e-310ps\n",
      "P (charged 1.1659000016463343) and Na+ (charged 1.0) were distant from 2.67A at 4.66854965792987e-310ps\n",
      "P (charged 1.1659000016463343) and Na+ (charged 1.0) were distant from 2.65A at 4.66854965792987e-310ps\n",
      "P (charged 1.1659000016463343) and Na+ (charged 1.0) were distant from 2.43A at 4.66854965792987e-310ps\n",
      "P (charged 1.1659000016463343) and Na+ (charged 1.0) were distant from 2.23A at 4.66854965792987e-310ps\n",
      "P (charged 1.1659000016463343) and Na+ (charged 1.0) were distant from 2.43A at 4.66854965792987e-310ps\n",
      "P (charged 1.1659000016463343) and Na+ (charged 1.0) were distant from 2.84A at 4.66854965792987e-310ps\n",
      "P (charged 1.1659000016463343) and Na+ (charged 1.0) were distant from 2.80A at 4.66854965792987e-310ps\n",
      "P (charged 1.1659000016463343) and Na+ (charged 1.0) were distant from 2.85A at 4.66854965792987e-310ps\n",
      "P (charged 1.1659000016463343) and Na+ (charged 1.0) were distant from 2.59A at 4.66854965792987e-310ps\n",
      "P (charged 1.1659000016463343) and Na+ (charged 1.0) were distant from 2.40A at 4.66854965792987e-310ps\n",
      "P (charged 1.1659000016463343) and Na+ (charged 1.0) were distant from 3.11A at 4.66854965792987e-310ps\n",
      "P (charged 1.1659000016463343) and Na+ (charged 1.0) were distant from 2.92A at 4.66854965792987e-310ps\n",
      "P (charged 1.1659000016463343) and Na+ (charged 1.0) were distant from 2.90A at 4.66854965792987e-310ps\n",
      "P (charged 1.1659000016463343) and Na+ (charged 1.0) were distant from 2.59A at 4.66854965792987e-310ps\n",
      "P (charged 1.1659000016463343) and Na+ (charged 1.0) were distant from 2.52A at 4.66854965792987e-310ps\n",
      "P (charged 1.1659000016463343) and Na+ (charged 1.0) were distant from 2.86A at 4.66854965792987e-310ps\n",
      "P (charged 1.1659000016463343) and Na+ (charged 1.0) were distant from 2.68A at 4.66854965792987e-310ps\n",
      "P (charged 1.1659000016463343) and Na+ (charged 1.0) were distant from 2.58A at 4.66854965792987e-310ps\n",
      "P (charged 1.1659000016463343) and Na+ (charged 1.0) were distant from 2.68A at 4.66854965792987e-310ps\n",
      "P (charged 1.1659000016463343) and Na+ (charged 1.0) were distant from 2.56A at 4.66854965792987e-310ps\n",
      "P (charged 1.1659000016463343) and Na+ (charged 1.0) were distant from 2.86A at 4.66854965792987e-310ps\n",
      "P (charged 1.1659000016463343) and Na+ (charged 1.0) were distant from 2.65A at 4.66854965792987e-310ps\n",
      "P (charged 1.1659000016463343) and Na+ (charged 1.0) were distant from 3.86A at 1.2286355632555e-311ps\n",
      "P (charged 1.1659000016463343) and Na+ (charged 1.0) were distant from 3.97A at 1.2286355632555e-311ps\n"
     ]
    },
    {
     "name": "stdout",
     "output_type": "stream",
     "text": [
      "P (charged 1.1659000016463343) and Na+ (charged 1.0) were distant from 3.98A at 1.2286355632555e-311ps\n",
      "P (charged 1.1659000016463343) and Na+ (charged 1.0) were distant from 3.85A at 1.2286355632555e-311ps\n",
      "P (charged 1.1659000016463343) and Na+ (charged 1.0) were distant from 3.88A at 1.2286355632555e-311ps\n",
      "P (charged 1.1659000016463343) and Na+ (charged 1.0) were distant from 3.91A at 1.2286355632555e-311ps\n",
      "P (charged 1.1659000016463343) and Na+ (charged 1.0) were distant from 3.91A at 1.2286355632555e-311ps\n",
      "P (charged 1.1659000016463343) and Na+ (charged 1.0) were distant from 3.99A at 1.2286355632555e-311ps\n",
      "P (charged 1.1659000016463343) and Na+ (charged 1.0) were distant from 3.55A at 1.2286355632555e-311ps\n",
      "P (charged 1.1659000016463343) and Na+ (charged 1.0) were distant from 3.80A at 1.2286355632555e-311ps\n",
      "P (charged 1.1659000016463343) and Na+ (charged 1.0) were distant from 3.82A at 1.2286355632555e-311ps\n",
      "P (charged 1.1659000016463343) and Na+ (charged 1.0) were distant from 3.93A at 1.2286355632555e-311ps\n",
      "P (charged 1.1659000016463343) and Na+ (charged 1.0) were distant from 3.52A at 1.2286355632555e-311ps\n",
      "P (charged 1.1659000016463343) and Na+ (charged 1.0) were distant from 3.76A at 1.2286355632555e-311ps\n",
      "P (charged 1.1659000016463343) and Na+ (charged 1.0) were distant from 3.85A at 1.2286355632555e-311ps\n",
      "P (charged 1.1659000016463343) and Na+ (charged 1.0) were distant from 3.90A at 1.2286355632555e-311ps\n",
      "P (charged 1.1659000016463343) and Na+ (charged 1.0) were distant from 3.82A at 1.2286355632555e-311ps\n",
      "P (charged 1.1659000016463343) and Na+ (charged 1.0) were distant from 3.56A at 1.2286355632555e-311ps\n",
      "P (charged 1.1659000016463343) and Na+ (charged 1.0) were distant from 3.79A at 1.2286355632555e-311ps\n",
      "P (charged 1.1659000016463343) and Na+ (charged 1.0) were distant from 3.80A at 1.2286355632555e-311ps\n",
      "P (charged 1.1659000016463343) and Na+ (charged 1.0) were distant from 3.99A at 1.2286355632555e-311ps\n",
      "P (charged 1.1659000016463343) and Na+ (charged 1.0) were distant from 3.85A at 1.2286355632555e-311ps\n",
      "P (charged 1.1659000016463343) and Na+ (charged 1.0) were distant from 3.94A at 1.2286355632555e-311ps\n",
      "P (charged 1.1659000016463343) and Na+ (charged 1.0) were distant from 3.79A at 1.2286355632555e-311ps\n",
      "P (charged 1.1659000016463343) and Na+ (charged 1.0) were distant from 3.80A at 1.2286355632555e-311ps\n",
      "P (charged 1.1659000016463343) and Na+ (charged 1.0) were distant from 3.80A at 1.2286355632555e-311ps\n",
      "P (charged 1.1659000016463343) and Na+ (charged 1.0) were distant from 3.65A at 1.2286355632555e-311ps\n",
      "P (charged 1.1659000016463343) and Na+ (charged 1.0) were distant from 3.60A at 1.2286355632555e-311ps\n",
      "P (charged 1.1659000016463343) and Na+ (charged 1.0) were distant from 3.67A at 1.2286355632555e-311ps\n",
      "P (charged 1.1659000016463343) and Na+ (charged 1.0) were distant from 3.76A at 1.2286355632555e-311ps\n",
      "P (charged 1.1659000016463343) and Na+ (charged 1.0) were distant from 3.61A at 1.2286355632555e-311ps\n",
      "P (charged 1.1659000016463343) and Na+ (charged 1.0) were distant from 3.51A at 1.2286355632555e-311ps\n",
      "P (charged 1.1659000016463343) and Na+ (charged 1.0) were distant from 3.48A at 1.2286355632555e-311ps\n",
      "P (charged 1.1659000016463343) and Na+ (charged 1.0) were distant from 3.84A at 1.2286355632555e-311ps\n",
      "P (charged 1.1659000016463343) and Na+ (charged 1.0) were distant from 3.89A at 1.2286355632555e-311ps\n",
      "P (charged 1.1659000016463343) and Na+ (charged 1.0) were distant from 3.99A at 1.2286355632555e-311ps\n",
      "P (charged 1.1659000016463343) and Na+ (charged 1.0) were distant from 3.78A at 1.2286355632555e-311ps\n",
      "P (charged 1.1659000016463343) and Na+ (charged 1.0) were distant from 3.70A at 1.2286355632555e-311ps\n",
      "P (charged 1.1659000016463343) and Na+ (charged 1.0) were distant from 3.80A at 1.2286355632555e-311ps\n",
      "P (charged 1.1659000016463343) and Na+ (charged 1.0) were distant from 3.79A at 1.2286355632555e-311ps\n",
      "P (charged 1.1659000016463343) and Na+ (charged 1.0) were distant from 3.70A at 1.2286355632555e-311ps\n",
      "P (charged 1.1659000016463343) and Na+ (charged 1.0) were distant from 3.84A at 1.2286355632555e-311ps\n",
      "P (charged 1.1659000016463343) and Na+ (charged 1.0) were distant from 3.47A at 1.2286355632555e-311ps\n",
      "P (charged 1.1659000016463343) and Na+ (charged 1.0) were distant from 3.68A at 1.2286355632555e-311ps\n",
      "P (charged 1.1659000016463343) and Na+ (charged 1.0) were distant from 3.29A at 1.2286355632555e-311ps\n",
      "P (charged 1.1659000016463343) and Na+ (charged 1.0) were distant from 3.54A at 1.2286355632555e-311ps\n",
      "P (charged 1.1659000016463343) and Na+ (charged 1.0) were distant from 3.97A at 1.2286355632555e-311ps\n",
      "P (charged 1.1659000016463343) and Na+ (charged 1.0) were distant from 3.66A at 1.2286355632555e-311ps\n",
      "P (charged 1.1659000016463343) and Na+ (charged 1.0) were distant from 3.79A at 1.2286355632555e-311ps\n",
      "P (charged 1.1659000016463343) and Na+ (charged 1.0) were distant from 3.46A at 1.2286355632555e-311ps\n",
      "P (charged 1.1659000016463343) and Na+ (charged 1.0) were distant from 3.35A at 1.2286355632555e-311ps\n",
      "P (charged 1.1659000016463343) and Na+ (charged 1.0) were distant from 3.74A at 1.2286355632555e-311ps\n",
      "P (charged 1.1659000016463343) and Na+ (charged 1.0) were distant from 3.29A at 1.2286355632555e-311ps\n",
      "P (charged 1.1659000016463343) and Na+ (charged 1.0) were distant from 3.73A at 1.2286355632555e-311ps\n",
      "P (charged 1.1659000016463343) and Na+ (charged 1.0) were distant from 3.80A at 1.2286355632555e-311ps\n",
      "P (charged 1.1659000016463343) and Na+ (charged 1.0) were distant from 3.91A at 1.2286355632555e-311ps\n",
      "P (charged 1.1659000016463343) and Na+ (charged 1.0) were distant from 3.33A at 1.2286355632555e-311ps\n",
      "P (charged 1.1659000016463343) and Na+ (charged 1.0) were distant from 3.61A at 1.2286355632555e-311ps\n",
      "P (charged 1.1659000016463343) and Na+ (charged 1.0) were distant from 3.34A at 1.2286355632555e-311ps\n",
      "P (charged 1.1659000016463343) and Na+ (charged 1.0) were distant from 3.70A at 1.2286355632555e-311ps\n",
      "P (charged 1.1659000016463343) and Na+ (charged 1.0) were distant from 3.51A at 1.2286355632555e-311ps\n",
      "P (charged 1.1659000016463343) and Na+ (charged 1.0) were distant from 3.66A at 1.2286355632555e-311ps\n",
      "P (charged 1.1659000016463343) and Na+ (charged 1.0) were distant from 3.82A at 1.2286355632555e-311ps\n",
      "P (charged 1.1659000016463343) and Na+ (charged 1.0) were distant from 3.84A at 1.2286355632555e-311ps\n",
      "P (charged 1.1659000016463343) and Na+ (charged 1.0) were distant from 3.80A at 1.2286355632555e-311ps\n",
      "P (charged 1.1659000016463343) and Na+ (charged 1.0) were distant from 3.82A at 1.2286355632555e-311ps\n",
      "P (charged 1.1659000016463343) and Na+ (charged 1.0) were distant from 3.87A at 1.2286355632555e-311ps\n",
      "P (charged 1.1659000016463343) and Na+ (charged 1.0) were distant from 3.90A at 1.2286355632555e-311ps\n",
      "P (charged 1.1659000016463343) and Na+ (charged 1.0) were distant from 3.81A at 1.2286355632555e-311ps\n",
      "P (charged 1.1659000016463343) and Na+ (charged 1.0) were distant from 3.71A at 1.2286355632555e-311ps\n",
      "P (charged 1.1659000016463343) and Na+ (charged 1.0) were distant from 3.68A at 1.2286355632555e-311ps\n",
      "P (charged 1.1659000016463343) and Na+ (charged 1.0) were distant from 3.88A at 1.2286355632555e-311ps\n",
      "P (charged 1.1659000016463343) and Na+ (charged 1.0) were distant from 3.85A at 1.2286355632555e-311ps\n",
      "P (charged 1.1659000016463343) and Na+ (charged 1.0) were distant from 3.59A at 1.2286355632555e-311ps\n",
      "P (charged 1.1659000016463343) and Na+ (charged 1.0) were distant from 3.65A at 1.2286355632555e-311ps\n",
      "P (charged 1.1659000016463343) and Na+ (charged 1.0) were distant from 3.74A at 1.2286355632555e-311ps\n",
      "P (charged 1.1659000016463343) and Na+ (charged 1.0) were distant from 3.53A at 1.2286355632555e-311ps\n",
      "P (charged 1.1659000016463343) and Na+ (charged 1.0) were distant from 3.39A at 1.2286355632555e-311ps\n",
      "P (charged 1.1659000016463343) and Na+ (charged 1.0) were distant from 3.74A at 1.2286355632555e-311ps\n",
      "P (charged 1.1659000016463343) and Na+ (charged 1.0) were distant from 3.74A at 1.2286355632555e-311ps\n",
      "P (charged 1.1659000016463343) and Na+ (charged 1.0) were distant from 3.68A at 1.2286355632555e-311ps\n",
      "P (charged 1.1659000016463343) and Na+ (charged 1.0) were distant from 3.24A at 1.2286355632555e-311ps\n",
      "P (charged 1.1659000016463343) and Na+ (charged 1.0) were distant from 3.41A at 1.2286355632555e-311ps\n",
      "P (charged 1.1659000016463343) and Na+ (charged 1.0) were distant from 3.21A at 1.2286355632555e-311ps\n",
      "P (charged 1.1659000016463343) and Na+ (charged 1.0) were distant from 3.74A at 1.2286355632555e-311ps\n",
      "P (charged 1.1659000016463343) and Na+ (charged 1.0) were distant from 3.34A at 1.2286355632555e-311ps\n",
      "P (charged 1.1659000016463343) and Na+ (charged 1.0) were distant from 3.69A at 1.2286355632555e-311ps\n",
      "P (charged 1.1659000016463343) and Na+ (charged 1.0) were distant from 3.30A at 1.2286355632555e-311ps\n",
      "P (charged 1.1659000016463343) and Na+ (charged 1.0) were distant from 3.24A at 1.2286355632555e-311ps\n",
      "P (charged 1.1659000016463343) and Na+ (charged 1.0) were distant from 3.25A at 1.2286355632555e-311ps\n",
      "P (charged 1.1659000016463343) and Na+ (charged 1.0) were distant from 3.91A at 1.2286355632555e-311ps\n",
      "P (charged 1.1659000016463343) and Na+ (charged 1.0) were distant from 3.12A at 1.2286355632555e-311ps\n",
      "P (charged 1.1659000016463343) and Na+ (charged 1.0) were distant from 3.24A at 1.2286355632555e-311ps\n",
      "P (charged 1.1659000016463343) and Na+ (charged 1.0) were distant from 3.78A at 1.2286355632555e-311ps\n",
      "P (charged 1.1659000016463343) and Na+ (charged 1.0) were distant from 3.77A at 1.2286355632555e-311ps\n",
      "P (charged 1.1659000016463343) and Na+ (charged 1.0) were distant from 3.62A at 1.2286355632555e-311ps\n",
      "P (charged 1.1659000016463343) and Na+ (charged 1.0) were distant from 3.76A at 1.2286355632555e-311ps\n",
      "P (charged 1.1659000016463343) and Na+ (charged 1.0) were distant from 3.66A at 1.2286355632555e-311ps\n",
      "P (charged 1.1659000016463343) and Na+ (charged 1.0) were distant from 3.43A at 1.2286355632555e-311ps\n",
      "P (charged 1.1659000016463343) and Na+ (charged 1.0) were distant from 3.42A at 1.2286355632555e-311ps\n",
      "P (charged 1.1659000016463343) and Na+ (charged 1.0) were distant from 3.45A at 1.2286355632555e-311ps\n",
      "P (charged 1.1659000016463343) and Na+ (charged 1.0) were distant from 3.10A at 1.2286355632555e-311ps\n",
      "P (charged 1.1659000016463343) and Na+ (charged 1.0) were distant from 3.46A at 1.2286355632555e-311ps\n",
      "P (charged 1.1659000016463343) and Na+ (charged 1.0) were distant from 3.55A at 1.2286355632555e-311ps\n",
      "P (charged 1.1659000016463343) and Na+ (charged 1.0) were distant from 3.48A at 1.2286355632555e-311ps\n"
     ]
    },
    {
     "name": "stdout",
     "output_type": "stream",
     "text": [
      "P (charged 1.1659000016463343) and Na+ (charged 1.0) were distant from 3.88A at 1.2286355632555e-311ps\n",
      "P (charged 1.1659000016463343) and Na+ (charged 1.0) were distant from 3.92A at 1.2286355632555e-311ps\n",
      "P (charged 1.1659000016463343) and Na+ (charged 1.0) were distant from 3.98A at 1.2286355632555e-311ps\n",
      "P (charged 1.1659000016463343) and Na+ (charged 1.0) were distant from 3.96A at 1.2286355632555e-311ps\n",
      "P (charged 1.1659000016463343) and Na+ (charged 1.0) were distant from 3.89A at 1.2286355632555e-311ps\n",
      "P (charged 1.1659000016463343) and Na+ (charged 1.0) were distant from 3.92A at 1.2286355632555e-311ps\n",
      "P (charged 1.1659000016463343) and Na+ (charged 1.0) were distant from 3.98A at 1.2286355632555e-311ps\n",
      "P (charged 1.1659000016463343) and Na+ (charged 1.0) were distant from 3.90A at 1.2286355632555e-311ps\n",
      "P (charged 1.1659000016463343) and Na+ (charged 1.0) were distant from 3.97A at 1.2286355632555e-311ps\n",
      "P (charged 1.1659000016463343) and Na+ (charged 1.0) were distant from 3.96A at 1.2286355632555e-311ps\n",
      "P (charged 1.1659000016463343) and Na+ (charged 1.0) were distant from 3.73A at 1.2286355632555e-311ps\n",
      "P (charged 1.1659000016463343) and Na+ (charged 1.0) were distant from 3.85A at 1.2286355632555e-311ps\n",
      "P (charged 1.1659000016463343) and Na+ (charged 1.0) were distant from 3.85A at 1.2286355632555e-311ps\n",
      "P (charged 1.1659000016463343) and Na+ (charged 1.0) were distant from 3.91A at 1.2286355632555e-311ps\n",
      "P (charged 1.1659000016463343) and Na+ (charged 1.0) were distant from 3.99A at 1.2286355632555e-311ps\n",
      "P (charged 1.1659000016463343) and Na+ (charged 1.0) were distant from 3.98A at 1.2286355632555e-311ps\n",
      "P (charged 1.1659000016463343) and Na+ (charged 1.0) were distant from 3.98A at 1.2286355632555e-311ps\n",
      "P (charged 1.1659000016463343) and Na+ (charged 1.0) were distant from 3.88A at 4.66854965792987e-310ps\n",
      "P (charged 1.1659000016463343) and Na+ (charged 1.0) were distant from 3.65A at 4.66854965792987e-310ps\n",
      "P (charged 1.1659000016463343) and Na+ (charged 1.0) were distant from 3.60A at 4.66854965792987e-310ps\n",
      "P (charged 1.1659000016463343) and Na+ (charged 1.0) were distant from 3.87A at 4.66854965792987e-310ps\n",
      "P (charged 1.1659000016463343) and Na+ (charged 1.0) were distant from 3.94A at 4.66854965792987e-310ps\n",
      "P (charged 1.1659000016463343) and Na+ (charged 1.0) were distant from 3.99A at 4.66854965792987e-310ps\n",
      "P (charged 1.1659000016463343) and Na+ (charged 1.0) were distant from 3.78A at 4.66854965792987e-310ps\n",
      "P (charged 1.1659000016463343) and Na+ (charged 1.0) were distant from 3.89A at 4.66854965792987e-310ps\n",
      "P (charged 1.1659000016463343) and Na+ (charged 1.0) were distant from 3.66A at 4.66854965792987e-310ps\n",
      "P (charged 1.1659000016463343) and Na+ (charged 1.0) were distant from 3.41A at 4.66854965792987e-310ps\n",
      "P (charged 1.1659000016463343) and Na+ (charged 1.0) were distant from 3.66A at 4.66854965792987e-310ps\n",
      "P (charged 1.1659000016463343) and Na+ (charged 1.0) were distant from 3.57A at 4.66854965792987e-310ps\n",
      "P (charged 1.1659000016463343) and Na+ (charged 1.0) were distant from 3.85A at 4.66854965792987e-310ps\n",
      "P (charged 1.1659000016463343) and Na+ (charged 1.0) were distant from 3.70A at 4.66854965792987e-310ps\n",
      "P (charged 1.1659000016463343) and Na+ (charged 1.0) were distant from 3.50A at 4.66854965792987e-310ps\n",
      "P (charged 1.1659000016463343) and Na+ (charged 1.0) were distant from 3.55A at 4.66854965792987e-310ps\n",
      "P (charged 1.1659000016463343) and Na+ (charged 1.0) were distant from 3.62A at 4.66854965792987e-310ps\n",
      "P (charged 1.1659000016463343) and Na+ (charged 1.0) were distant from 3.08A at 4.66854965792987e-310ps\n",
      "P (charged 1.1659000016463343) and Na+ (charged 1.0) were distant from 3.01A at 4.66854965792987e-310ps\n",
      "P (charged 1.1659000016463343) and Na+ (charged 1.0) were distant from 3.02A at 4.66854965792987e-310ps\n",
      "P (charged 1.1659000016463343) and Na+ (charged 1.0) were distant from 3.37A at 4.66854965792987e-310ps\n",
      "P (charged 1.1659000016463343) and Na+ (charged 1.0) were distant from 3.67A at 4.66854965792987e-310ps\n",
      "P (charged 1.1659000016463343) and Na+ (charged 1.0) were distant from 3.73A at 4.66854965792987e-310ps\n",
      "P (charged 1.1659000016463343) and Na+ (charged 1.0) were distant from 3.63A at 4.66854965792987e-310ps\n",
      "P (charged 1.1659000016463343) and Na+ (charged 1.0) were distant from 3.39A at 4.66854965792987e-310ps\n",
      "P (charged 1.1659000016463343) and Na+ (charged 1.0) were distant from 3.12A at 4.66854965792987e-310ps\n",
      "P (charged 1.1659000016463343) and Na+ (charged 1.0) were distant from 3.29A at 4.66854965792987e-310ps\n",
      "P (charged 1.1659000016463343) and Na+ (charged 1.0) were distant from 3.15A at 4.66854965792987e-310ps\n",
      "P (charged 1.1659000016463343) and Na+ (charged 1.0) were distant from 3.07A at 4.66854965792987e-310ps\n",
      "P (charged 1.1659000016463343) and Na+ (charged 1.0) were distant from 3.34A at 4.66854965792987e-310ps\n",
      "P (charged 1.1659000016463343) and Na+ (charged 1.0) were distant from 3.03A at 4.66854965792987e-310ps\n",
      "P (charged 1.1659000016463343) and Na+ (charged 1.0) were distant from 2.86A at 4.66854965792987e-310ps\n",
      "P (charged 1.1659000016463343) and Na+ (charged 1.0) were distant from 3.12A at 4.66854965792987e-310ps\n",
      "P (charged 1.1659000016463343) and Na+ (charged 1.0) were distant from 2.69A at 4.66854965792987e-310ps\n",
      "P (charged 1.1659000016463343) and Na+ (charged 1.0) were distant from 2.67A at 4.66854965792987e-310ps\n",
      "P (charged 1.1659000016463343) and Na+ (charged 1.0) were distant from 2.75A at 4.66854965792987e-310ps\n",
      "P (charged 1.1659000016463343) and Na+ (charged 1.0) were distant from 2.69A at 4.66854965792987e-310ps\n",
      "P (charged 1.1659000016463343) and Na+ (charged 1.0) were distant from 2.49A at 4.66854965792987e-310ps\n",
      "P (charged 1.1659000016463343) and Na+ (charged 1.0) were distant from 3.10A at 4.66854965792987e-310ps\n",
      "P (charged 1.1659000016463343) and Na+ (charged 1.0) were distant from 2.51A at 4.66854965792987e-310ps\n",
      "P (charged 1.1659000016463343) and Na+ (charged 1.0) were distant from 2.79A at 4.66854965792987e-310ps\n",
      "P (charged 1.1659000016463343) and Na+ (charged 1.0) were distant from 3.13A at 4.66854965792987e-310ps\n",
      "P (charged 1.1659000016463343) and Na+ (charged 1.0) were distant from 2.91A at 4.66854965792987e-310ps\n",
      "P (charged 1.1659000016463343) and Na+ (charged 1.0) were distant from 2.56A at 4.66854965792987e-310ps\n",
      "P (charged 1.1659000016463343) and Na+ (charged 1.0) were distant from 2.72A at 4.66854965792987e-310ps\n",
      "P (charged 1.1659000016463343) and Na+ (charged 1.0) were distant from 2.87A at 4.66854965792987e-310ps\n",
      "P (charged 1.1659000016463343) and Na+ (charged 1.0) were distant from 2.75A at 4.66854965792987e-310ps\n",
      "P (charged 1.1659000016463343) and Na+ (charged 1.0) were distant from 2.89A at 4.66854965792987e-310ps\n",
      "P (charged 1.1659000016463343) and Na+ (charged 1.0) were distant from 2.67A at 4.66854965792987e-310ps\n",
      "P (charged 1.1659000016463343) and Na+ (charged 1.0) were distant from 2.69A at 4.66854965792987e-310ps\n",
      "P (charged 1.1659000016463343) and Na+ (charged 1.0) were distant from 2.63A at 4.66854965792987e-310ps\n",
      "P (charged 1.1659000016463343) and Na+ (charged 1.0) were distant from 2.88A at 4.66854965792987e-310ps\n",
      "P (charged 1.1659000016463343) and Na+ (charged 1.0) were distant from 2.79A at 4.66854965792987e-310ps\n",
      "P (charged 1.1659000016463343) and Na+ (charged 1.0) were distant from 2.91A at 4.66854965792987e-310ps\n",
      "P (charged 1.1659000016463343) and Na+ (charged 1.0) were distant from 2.72A at 4.66854965792987e-310ps\n",
      "P (charged 1.1659000016463343) and Na+ (charged 1.0) were distant from 2.77A at 4.66854965792987e-310ps\n",
      "P (charged 1.1659000016463343) and Na+ (charged 1.0) were distant from 2.64A at 4.66854965792987e-310ps\n",
      "P (charged 1.1659000016463343) and Na+ (charged 1.0) were distant from 2.66A at 4.66854965792987e-310ps\n",
      "P (charged 1.1659000016463343) and Na+ (charged 1.0) were distant from 2.91A at 4.66854965792987e-310ps\n",
      "P (charged 1.1659000016463343) and Na+ (charged 1.0) were distant from 2.77A at 4.66854965792987e-310ps\n",
      "P (charged 1.1659000016463343) and Na+ (charged 1.0) were distant from 2.93A at 4.66854965792987e-310ps\n",
      "P (charged 1.1659000016463343) and Na+ (charged 1.0) were distant from 2.76A at 4.66854965792987e-310ps\n",
      "P (charged 1.1659000016463343) and Na+ (charged 1.0) were distant from 2.91A at 4.66854965792987e-310ps\n",
      "P (charged 1.1659000016463343) and Na+ (charged 1.0) were distant from 2.69A at 4.66854965792987e-310ps\n",
      "P (charged 1.1659000016463343) and Na+ (charged 1.0) were distant from 2.67A at 4.66854965792987e-310ps\n",
      "P (charged 1.1659000016463343) and Na+ (charged 1.0) were distant from 3.28A at 4.66854965792987e-310ps\n",
      "P (charged 1.1659000016463343) and Na+ (charged 1.0) were distant from 3.16A at 4.66854965792987e-310ps\n",
      "P (charged 1.1659000016463343) and Na+ (charged 1.0) were distant from 3.34A at 4.66854965792987e-310ps\n",
      "P (charged 1.1659000016463343) and Na+ (charged 1.0) were distant from 3.22A at 4.66854965792987e-310ps\n",
      "P (charged 1.1659000016463343) and Na+ (charged 1.0) were distant from 3.33A at 4.66854965792987e-310ps\n",
      "P (charged 1.1659000016463343) and Na+ (charged 1.0) were distant from 3.43A at 4.66854965792987e-310ps\n",
      "P (charged 1.1659000016463343) and Na+ (charged 1.0) were distant from 2.91A at 4.66854965792987e-310ps\n",
      "P (charged 1.1659000016463343) and Na+ (charged 1.0) were distant from 2.72A at 4.66854965792987e-310ps\n",
      "P (charged 1.1659000016463343) and Na+ (charged 1.0) were distant from 2.52A at 4.66854965792987e-310ps\n",
      "P (charged 1.1659000016463343) and Na+ (charged 1.0) were distant from 2.38A at 4.66854965792987e-310ps\n",
      "P (charged 1.1659000016463343) and Na+ (charged 1.0) were distant from 2.30A at 4.66854965792987e-310ps\n",
      "P (charged 1.1659000016463343) and Na+ (charged 1.0) were distant from 2.72A at 4.66854965792987e-310ps\n",
      "P (charged 1.1659000016463343) and Na+ (charged 1.0) were distant from 2.57A at 4.66854965792987e-310ps\n",
      "P (charged 1.1659000016463343) and Na+ (charged 1.0) were distant from 2.71A at 4.66854965792987e-310ps\n",
      "P (charged 1.1659000016463343) and Na+ (charged 1.0) were distant from 2.70A at 4.66854965792987e-310ps\n",
      "P (charged 1.1659000016463343) and Na+ (charged 1.0) were distant from 2.59A at 4.66854965792987e-310ps\n",
      "P (charged 1.1659000016463343) and Na+ (charged 1.0) were distant from 2.46A at 4.66854965792987e-310ps\n",
      "P (charged 1.1659000016463343) and Na+ (charged 1.0) were distant from 2.33A at 4.66854965792987e-310ps\n",
      "P (charged 1.1659000016463343) and Na+ (charged 1.0) were distant from 2.54A at 4.66854965792987e-310ps\n",
      "P (charged 1.1659000016463343) and Na+ (charged 1.0) were distant from 2.96A at 4.66854965792987e-310ps\n",
      "P (charged 1.1659000016463343) and Na+ (charged 1.0) were distant from 3.29A at 4.66854965792987e-310ps\n",
      "P (charged 1.1659000016463343) and Na+ (charged 1.0) were distant from 3.04A at 4.66854965792987e-310ps\n",
      "P (charged 1.1659000016463343) and Na+ (charged 1.0) were distant from 2.46A at 4.66854965792987e-310ps\n",
      "P (charged 1.1659000016463343) and Na+ (charged 1.0) were distant from 2.78A at 4.66854965792987e-310ps\n",
      "P (charged 1.1659000016463343) and Na+ (charged 1.0) were distant from 2.63A at 4.66854965792987e-310ps\n",
      "P (charged 1.1659000016463343) and Na+ (charged 1.0) were distant from 2.56A at 4.66854965792987e-310ps\n",
      "P (charged 1.1659000016463343) and Na+ (charged 1.0) were distant from 2.43A at 4.66854965792987e-310ps\n",
      "P (charged 1.1659000016463343) and Na+ (charged 1.0) were distant from 2.55A at 4.66854965792987e-310ps\n",
      "P (charged 1.1659000016463343) and Na+ (charged 1.0) were distant from 2.60A at 4.66854965792987e-310ps\n",
      "P (charged 1.1659000016463343) and Na+ (charged 1.0) were distant from 2.54A at 4.66854965792987e-310ps\n",
      "P (charged 1.1659000016463343) and Na+ (charged 1.0) were distant from 2.46A at 4.66854965792987e-310ps\n",
      "P (charged 1.1659000016463343) and Na+ (charged 1.0) were distant from 2.54A at 4.66854965792987e-310ps\n",
      "P (charged 1.1659000016463343) and Na+ (charged 1.0) were distant from 2.52A at 4.66854965792987e-310ps\n"
     ]
    },
    {
     "name": "stdout",
     "output_type": "stream",
     "text": [
      "P (charged 1.1659000016463343) and Na+ (charged 1.0) were distant from 3.83A at 4.66854965792987e-310ps\n",
      "P (charged 1.1659000016463343) and Na+ (charged 1.0) were distant from 3.84A at 4.66854965792987e-310ps\n",
      "P (charged 1.1659000016463343) and Na+ (charged 1.0) were distant from 3.75A at 4.66854965792987e-310ps\n",
      "P (charged 1.1659000016463343) and Na+ (charged 1.0) were distant from 3.96A at 4.66854965792987e-310ps\n",
      "P (charged 1.1659000016463343) and Na+ (charged 1.0) were distant from 3.97A at 4.66854965792987e-310ps\n",
      "P (charged 1.1659000016463343) and Na+ (charged 1.0) were distant from 3.89A at 4.66854965792987e-310ps\n",
      "P (charged 1.1659000016463343) and Na+ (charged 1.0) were distant from 3.80A at 4.66854965792987e-310ps\n",
      "P (charged 1.1659000016463343) and Na+ (charged 1.0) were distant from 3.64A at 4.66854965792987e-310ps\n",
      "P (charged 1.1659000016463343) and Na+ (charged 1.0) were distant from 3.51A at 4.66854965792987e-310ps\n",
      "P (charged 1.1659000016463343) and Na+ (charged 1.0) were distant from 3.35A at 4.66854965792987e-310ps\n",
      "P (charged 1.1659000016463343) and Na+ (charged 1.0) were distant from 3.61A at 4.66854965792987e-310ps\n",
      "P (charged 1.1659000016463343) and Na+ (charged 1.0) were distant from 3.48A at 4.66854965792987e-310ps\n",
      "P (charged 1.1659000016463343) and Na+ (charged 1.0) were distant from 3.66A at 4.66854965792987e-310ps\n",
      "P (charged 1.1659000016463343) and Na+ (charged 1.0) were distant from 3.88A at 4.66854965792987e-310ps\n",
      "P (charged 1.1659000016463343) and Na+ (charged 1.0) were distant from 3.88A at 4.66854965792987e-310ps\n",
      "P (charged 1.1659000016463343) and Na+ (charged 1.0) were distant from 3.77A at 4.66854965792987e-310ps\n",
      "P (charged 1.1659000016463343) and Na+ (charged 1.0) were distant from 3.80A at 4.66854965792987e-310ps\n",
      "P (charged 1.1659000016463343) and Na+ (charged 1.0) were distant from 3.67A at 4.66854965792987e-310ps\n",
      "P (charged 1.1659000016463343) and Na+ (charged 1.0) were distant from 3.81A at 4.66854965792987e-310ps\n",
      "P (charged 1.1659000016463343) and Na+ (charged 1.0) were distant from 3.66A at 4.66854965792987e-310ps\n",
      "P (charged 1.1659000016463343) and Na+ (charged 1.0) were distant from 3.51A at 4.66854965792987e-310ps\n",
      "P (charged 1.1659000016463343) and Na+ (charged 1.0) were distant from 3.51A at 4.66854965792987e-310ps\n",
      "P (charged 1.1659000016463343) and Na+ (charged 1.0) were distant from 3.71A at 4.66854965792987e-310ps\n",
      "P (charged 1.1659000016463343) and Na+ (charged 1.0) were distant from 3.90A at 4.66854965792987e-310ps\n",
      "P (charged 1.1659000016463343) and Na+ (charged 1.0) were distant from 3.51A at 4.66854965792987e-310ps\n",
      "P (charged 1.1659000016463343) and Na+ (charged 1.0) were distant from 3.96A at 4.66854965792987e-310ps\n",
      "P (charged 1.1659000016463343) and Na+ (charged 1.0) were distant from 3.66A at 4.66854965792987e-310ps\n",
      "P (charged 1.1659000016463343) and Na+ (charged 1.0) were distant from 3.82A at 4.66854965792987e-310ps\n",
      "P (charged 1.1659000016463343) and Na+ (charged 1.0) were distant from 3.99A at 4.66854965792987e-310ps\n",
      "P (charged 1.1659000016463343) and Na+ (charged 1.0) were distant from 3.60A at 4.66854965792987e-310ps\n",
      "P (charged 1.1659000016463343) and Na+ (charged 1.0) were distant from 3.77A at 4.66854965792987e-310ps\n",
      "P (charged 1.1659000016463343) and Na+ (charged 1.0) were distant from 3.41A at 4.66854965792987e-310ps\n",
      "P (charged 1.1659000016463343) and Na+ (charged 1.0) were distant from 3.64A at 4.66854965792987e-310ps\n",
      "P (charged 1.1659000016463343) and Na+ (charged 1.0) were distant from 3.80A at 4.66854965792987e-310ps\n",
      "P (charged 1.1659000016463343) and Na+ (charged 1.0) were distant from 3.08A at 4.66854965792987e-310ps\n",
      "P (charged 1.1659000016463343) and Na+ (charged 1.0) were distant from 3.29A at 4.66854965792987e-310ps\n",
      "P (charged 1.1659000016463343) and Na+ (charged 1.0) were distant from 3.62A at 4.66854965792987e-310ps\n",
      "P (charged 1.1659000016463343) and Na+ (charged 1.0) were distant from 3.88A at 4.66854965792987e-310ps\n",
      "P (charged 1.1659000016463343) and Na+ (charged 1.0) were distant from 3.69A at 4.66854965792987e-310ps\n",
      "P (charged 1.1659000016463343) and Na+ (charged 1.0) were distant from 3.96A at 4.66854965792987e-310ps\n",
      "P (charged 1.1659000016463343) and Na+ (charged 1.0) were distant from 3.86A at 4.66854965792987e-310ps\n",
      "P (charged 1.1659000016463343) and Na+ (charged 1.0) were distant from 3.89A at 4.66854965792987e-310ps\n",
      "P (charged 1.1659000016463343) and Na+ (charged 1.0) were distant from 3.71A at 4.66854965792987e-310ps\n",
      "P (charged 1.1659000016463343) and Na+ (charged 1.0) were distant from 3.71A at 4.66854965792987e-310ps\n",
      "P (charged 1.1659000016463343) and Na+ (charged 1.0) were distant from 3.83A at 4.66854965792987e-310ps\n",
      "P (charged 1.1659000016463343) and Na+ (charged 1.0) were distant from 3.97A at 4.66854965792987e-310ps\n",
      "P (charged 1.1659000016463343) and Na+ (charged 1.0) were distant from 3.84A at 4.66854965792987e-310ps\n",
      "P (charged 1.1659000016463343) and Na+ (charged 1.0) were distant from 3.69A at 4.66854965792987e-310ps\n",
      "P (charged 1.1659000016463343) and Na+ (charged 1.0) were distant from 3.76A at 4.66854965792987e-310ps\n",
      "P (charged 1.1659000016463343) and Na+ (charged 1.0) were distant from 3.91A at 4.66854965792987e-310ps\n",
      "P (charged 1.1659000016463343) and Na+ (charged 1.0) were distant from 3.80A at 4.66854965792987e-310ps\n",
      "P (charged 1.1659000016463343) and Na+ (charged 1.0) were distant from 3.99A at 4.66854965792987e-310ps\n",
      "P (charged 1.1659000016463343) and Na+ (charged 1.0) were distant from 4.00A at 4.66854965792987e-310ps\n",
      "P (charged 1.1659000016463343) and Na+ (charged 1.0) were distant from 3.94A at 4.66854965792987e-310ps\n",
      "P (charged 1.1659000016463343) and Na+ (charged 1.0) were distant from 3.89A at 4.66854965792987e-310ps\n",
      "P (charged 1.1659000016463343) and Na+ (charged 1.0) were distant from 3.81A at 4.66854965792987e-310ps\n",
      "P (charged 1.1659000016463343) and Na+ (charged 1.0) were distant from 3.40A at 4.66854965792987e-310ps\n",
      "P (charged 1.1659000016463343) and Na+ (charged 1.0) were distant from 3.50A at 4.66854965792987e-310ps\n",
      "P (charged 1.1659000016463343) and Na+ (charged 1.0) were distant from 3.39A at 4.66854965792987e-310ps\n",
      "P (charged 1.1659000016463343) and Na+ (charged 1.0) were distant from 3.69A at 4.66854965792987e-310ps\n",
      "P (charged 1.1659000016463343) and Na+ (charged 1.0) were distant from 3.75A at 4.66854965792987e-310ps\n",
      "P (charged 1.1659000016463343) and Na+ (charged 1.0) were distant from 3.36A at 4.66854965792987e-310ps\n",
      "P (charged 1.1659000016463343) and Na+ (charged 1.0) were distant from 3.34A at 4.66854965792987e-310ps\n",
      "P (charged 1.1659000016463343) and Na+ (charged 1.0) were distant from 4.00A at 4.66854965792987e-310ps\n",
      "P (charged 1.1659000016463343) and Na+ (charged 1.0) were distant from 3.71A at 4.66854965792987e-310ps\n",
      "P (charged 1.1659000016463343) and Na+ (charged 1.0) were distant from 3.95A at 4.66854965792987e-310ps\n",
      "P (charged 1.1659000016463343) and Na+ (charged 1.0) were distant from 3.92A at 4.66854965792987e-310ps\n",
      "P (charged 1.1659000016463343) and Na+ (charged 1.0) were distant from 3.88A at 4.66854965792987e-310ps\n",
      "P (charged 1.1659000016463343) and Na+ (charged 1.0) were distant from 3.95A at 4.66854965792987e-310ps\n",
      "P (charged 1.1659000016463343) and Na+ (charged 1.0) were distant from 3.79A at 4.66854965792987e-310ps\n",
      "P (charged 1.1659000016463343) and Na+ (charged 1.0) were distant from 3.97A at 4.66854965792987e-310ps\n",
      "P (charged 1.1659000016463343) and Na+ (charged 1.0) were distant from 3.84A at 4.66854965792987e-310ps\n",
      "P (charged 1.1659000016463343) and Na+ (charged 1.0) were distant from 3.95A at 1.2286355632555e-311ps\n",
      "P (charged 1.1659000016463343) and Na+ (charged 1.0) were distant from 3.85A at 1.2286355632555e-311ps\n",
      "P (charged 1.1659000016463343) and Na+ (charged 1.0) were distant from 3.45A at 1.2286355632555e-311ps\n",
      "P (charged 1.1659000016463343) and Na+ (charged 1.0) were distant from 3.99A at 1.2286355632555e-311ps\n",
      "P (charged 1.1659000016463343) and Na+ (charged 1.0) were distant from 3.94A at 1.2286355632555e-311ps\n",
      "P (charged 1.1659000016463343) and Na+ (charged 1.0) were distant from 3.75A at 1.2286355632555e-311ps\n",
      "P (charged 1.1659000016463343) and Na+ (charged 1.0) were distant from 4.00A at 1.2286355632555e-311ps\n",
      "P (charged 1.1659000016463343) and Na+ (charged 1.0) were distant from 3.99A at 1.2286355632555e-311ps\n",
      "P (charged 1.1659000016463343) and Na+ (charged 1.0) were distant from 3.93A at 1.2286355632555e-311ps\n",
      "P (charged 1.1659000016463343) and Na+ (charged 1.0) were distant from 3.93A at 1.2286355632555e-311ps\n",
      "P (charged 1.1659000016463343) and Na+ (charged 1.0) were distant from 3.93A at 1.2286355632555e-311ps\n",
      "P (charged 1.1659000016463343) and Na+ (charged 1.0) were distant from 3.81A at 1.2286355632555e-311ps\n",
      "P (charged 1.1659000016463343) and Na+ (charged 1.0) were distant from 3.99A at 1.2286355632555e-311ps\n",
      "P (charged 1.1659000016463343) and Na+ (charged 1.0) were distant from 3.96A at 1.2286355632555e-311ps\n",
      "P (charged 1.1659000016463343) and Na+ (charged 1.0) were distant from 3.96A at 1.2286355632555e-311ps\n",
      "P (charged 1.1659000016463343) and Na+ (charged 1.0) were distant from 3.93A at 1.2286355632555e-311ps\n",
      "P (charged 1.1659000016463343) and Na+ (charged 1.0) were distant from 3.97A at 1.2286355632555e-311ps\n",
      "P (charged 1.1659000016463343) and Na+ (charged 1.0) were distant from 3.86A at 1.2286355632555e-311ps\n",
      "P (charged 1.1659000016463343) and Na+ (charged 1.0) were distant from 3.92A at 1.2286355632555e-311ps\n",
      "P (charged 1.1659000016463343) and Na+ (charged 1.0) were distant from 4.00A at 1.2286355632555e-311ps\n",
      "P (charged 1.1659000016463343) and Na+ (charged 1.0) were distant from 3.76A at 1.2286355632555e-311ps\n",
      "P (charged 1.1659000016463343) and Na+ (charged 1.0) were distant from 3.89A at 1.2286355632555e-311ps\n",
      "P (charged 1.1659000016463343) and Na+ (charged 1.0) were distant from 3.96A at 1.2286355632555e-311ps\n",
      "P (charged 1.1659000016463343) and Na+ (charged 1.0) were distant from 3.91A at 1.2286355632555e-311ps\n",
      "P (charged 1.1659000016463343) and Na+ (charged 1.0) were distant from 3.97A at 1.2286355632555e-311ps\n",
      "P (charged 1.1659000016463343) and Na+ (charged 1.0) were distant from 3.94A at 1.2286355632555e-311ps\n",
      "P (charged 1.1659000016463343) and Na+ (charged 1.0) were distant from 3.85A at 1.2286355632555e-311ps\n",
      "P (charged 1.1659000016463343) and Na+ (charged 1.0) were distant from 3.97A at 1.2286355632555e-311ps\n",
      "P (charged 1.1659000016463343) and Na+ (charged 1.0) were distant from 3.99A at 1.2286355632555e-311ps\n"
     ]
    },
    {
     "name": "stdout",
     "output_type": "stream",
     "text": [
      "Na+ (charged 1.0) and P (charged 1.1659000016463343) were distant from 3.91A at 1.2286355632555e-311ps\n",
      "Na+ (charged 1.0) and P (charged 1.1659000016463343) were distant from 3.80A at 1.2286355632555e-311ps\n",
      "Na+ (charged 1.0) and P (charged 1.1659000016463343) were distant from 3.99A at 1.2286355632555e-311ps\n",
      "Na+ (charged 1.0) and P (charged 1.1659000016463343) were distant from 4.00A at 1.2286355632555e-311ps\n",
      "Na+ (charged 1.0) and P (charged 1.1659000016463343) were distant from 3.94A at 1.2286355632555e-311ps\n",
      "Na+ (charged 1.0) and P (charged 1.1659000016463343) were distant from 3.89A at 1.2286355632555e-311ps\n",
      "Na+ (charged 1.0) and P (charged 1.1659000016463343) were distant from 3.81A at 1.2286355632555e-311ps\n",
      "Na+ (charged 1.0) and P (charged 1.1659000016463343) were distant from 3.40A at 1.2286355632555e-311ps\n",
      "Na+ (charged 1.0) and P (charged 1.1659000016463343) were distant from 3.50A at 1.2286355632555e-311ps\n",
      "Na+ (charged 1.0) and P (charged 1.1659000016463343) were distant from 3.39A at 1.2286355632555e-311ps\n",
      "Na+ (charged 1.0) and P (charged 1.1659000016463343) were distant from 3.69A at 1.2286355632555e-311ps\n",
      "Na+ (charged 1.0) and P (charged 1.1659000016463343) were distant from 3.75A at 1.2286355632555e-311ps\n",
      "Na+ (charged 1.0) and P (charged 1.1659000016463343) were distant from 3.36A at 1.2286355632555e-311ps\n",
      "Na+ (charged 1.0) and P (charged 1.1659000016463343) were distant from 3.34A at 1.2286355632555e-311ps\n",
      "Na+ (charged 1.0) and P (charged 1.1659000016463343) were distant from 4.00A at 1.2286355632555e-311ps\n",
      "Na+ (charged 1.0) and P (charged 1.1659000016463343) were distant from 3.71A at 1.2286355632555e-311ps\n",
      "Na+ (charged 1.0) and P (charged 1.1659000016463343) were distant from 3.95A at 1.2286355632555e-311ps\n",
      "Na+ (charged 1.0) and P (charged 1.1659000016463343) were distant from 3.92A at 1.2286355632555e-311ps\n",
      "Na+ (charged 1.0) and P (charged 1.1659000016463343) were distant from 3.88A at 1.2286355632555e-311ps\n",
      "Na+ (charged 1.0) and P (charged 1.1659000016463343) were distant from 3.95A at 1.2286355632555e-311ps\n",
      "Na+ (charged 1.0) and P (charged 1.1659000016463343) were distant from 3.79A at 1.2286355632555e-311ps\n",
      "Na+ (charged 1.0) and P (charged 1.1659000016463343) were distant from 3.97A at 1.2286355632555e-311ps\n",
      "Na+ (charged 1.0) and P (charged 1.1659000016463343) were distant from 3.84A at 1.2286355632555e-311ps\n",
      "Na+ (charged 1.0) and P (charged 1.1659000016463343) were distant from 3.07A at 1.2286355632555e-311ps\n",
      "Na+ (charged 1.0) and P (charged 1.1659000016463343) were distant from 2.70A at 1.2286355632555e-311ps\n",
      "Na+ (charged 1.0) and P (charged 1.1659000016463343) were distant from 2.76A at 1.2286355632555e-311ps\n",
      "Na+ (charged 1.0) and P (charged 1.1659000016463343) were distant from 2.58A at 1.2286355632555e-311ps\n",
      "Na+ (charged 1.0) and P (charged 1.1659000016463343) were distant from 2.54A at 1.2286355632555e-311ps\n",
      "Na+ (charged 1.0) and P (charged 1.1659000016463343) were distant from 2.72A at 1.2286355632555e-311ps\n",
      "Na+ (charged 1.0) and P (charged 1.1659000016463343) were distant from 2.52A at 1.2286355632555e-311ps\n",
      "Na+ (charged 1.0) and P (charged 1.1659000016463343) were distant from 2.81A at 1.2286355632555e-311ps\n",
      "Na+ (charged 1.0) and P (charged 1.1659000016463343) were distant from 2.40A at 1.2286355632555e-311ps\n",
      "Na+ (charged 1.0) and P (charged 1.1659000016463343) were distant from 2.52A at 1.2286355632555e-311ps\n",
      "Na+ (charged 1.0) and P (charged 1.1659000016463343) were distant from 2.77A at 1.2286355632555e-311ps\n",
      "Na+ (charged 1.0) and P (charged 1.1659000016463343) were distant from 2.71A at 1.2286355632555e-311ps\n",
      "Na+ (charged 1.0) and P (charged 1.1659000016463343) were distant from 2.52A at 1.2286355632555e-311ps\n",
      "Na+ (charged 1.0) and P (charged 1.1659000016463343) were distant from 2.65A at 1.2286355632555e-311ps\n",
      "Na+ (charged 1.0) and P (charged 1.1659000016463343) were distant from 3.08A at 1.2286355632555e-311ps\n",
      "Na+ (charged 1.0) and P (charged 1.1659000016463343) were distant from 3.15A at 1.2286355632555e-311ps\n",
      "Na+ (charged 1.0) and P (charged 1.1659000016463343) were distant from 3.61A at 1.2286355632555e-311ps\n",
      "Na+ (charged 1.0) and P (charged 1.1659000016463343) were distant from 3.66A at 1.2286355632555e-311ps\n",
      "Na+ (charged 1.0) and P (charged 1.1659000016463343) were distant from 3.23A at 1.2286355632555e-311ps\n",
      "Na+ (charged 1.0) and P (charged 1.1659000016463343) were distant from 2.86A at 1.2286355632555e-311ps\n",
      "Na+ (charged 1.0) and P (charged 1.1659000016463343) were distant from 2.88A at 1.2286355632555e-311ps\n",
      "Na+ (charged 1.0) and P (charged 1.1659000016463343) were distant from 3.06A at 1.2286355632555e-311ps\n",
      "Na+ (charged 1.0) and P (charged 1.1659000016463343) were distant from 3.02A at 1.2286355632555e-311ps\n",
      "Na+ (charged 1.0) and P (charged 1.1659000016463343) were distant from 2.93A at 1.2286355632555e-311ps\n",
      "Na+ (charged 1.0) and P (charged 1.1659000016463343) were distant from 2.98A at 1.2286355632555e-311ps\n",
      "Na+ (charged 1.0) and P (charged 1.1659000016463343) were distant from 2.65A at 1.2286355632555e-311ps\n",
      "Na+ (charged 1.0) and P (charged 1.1659000016463343) were distant from 3.09A at 1.2286355632555e-311ps\n",
      "Na+ (charged 1.0) and P (charged 1.1659000016463343) were distant from 3.28A at 1.2286355632555e-311ps\n",
      "Na+ (charged 1.0) and P (charged 1.1659000016463343) were distant from 3.22A at 1.2286355632555e-311ps\n",
      "Na+ (charged 1.0) and P (charged 1.1659000016463343) were distant from 3.06A at 1.2286355632555e-311ps\n",
      "Na+ (charged 1.0) and P (charged 1.1659000016463343) were distant from 3.36A at 1.2286355632555e-311ps\n",
      "Na+ (charged 1.0) and P (charged 1.1659000016463343) were distant from 3.37A at 1.2286355632555e-311ps\n",
      "Na+ (charged 1.0) and P (charged 1.1659000016463343) were distant from 3.06A at 1.2286355632555e-311ps\n",
      "Na+ (charged 1.0) and P (charged 1.1659000016463343) were distant from 2.66A at 1.2286355632555e-311ps\n",
      "Na+ (charged 1.0) and P (charged 1.1659000016463343) were distant from 2.93A at 1.2286355632555e-311ps\n",
      "Na+ (charged 1.0) and P (charged 1.1659000016463343) were distant from 2.36A at 1.2286355632555e-311ps\n",
      "Na+ (charged 1.0) and P (charged 1.1659000016463343) were distant from 2.64A at 1.2286355632555e-311ps\n",
      "Na+ (charged 1.0) and P (charged 1.1659000016463343) were distant from 3.02A at 1.2286355632555e-311ps\n",
      "Na+ (charged 1.0) and P (charged 1.1659000016463343) were distant from 2.89A at 1.2286355632555e-311ps\n",
      "Na+ (charged 1.0) and P (charged 1.1659000016463343) were distant from 2.93A at 1.2286355632555e-311ps\n",
      "Na+ (charged 1.0) and P (charged 1.1659000016463343) were distant from 2.95A at 1.2286355632555e-311ps\n",
      "Na+ (charged 1.0) and P (charged 1.1659000016463343) were distant from 2.59A at 1.2286355632555e-311ps\n",
      "Na+ (charged 1.0) and P (charged 1.1659000016463343) were distant from 2.59A at 1.2286355632555e-311ps\n",
      "Na+ (charged 1.0) and P (charged 1.1659000016463343) were distant from 2.63A at 1.2286355632555e-311ps\n",
      "Na+ (charged 1.0) and P (charged 1.1659000016463343) were distant from 2.35A at 1.2286355632555e-311ps\n",
      "Na+ (charged 1.0) and P (charged 1.1659000016463343) were distant from 2.55A at 1.2286355632555e-311ps\n",
      "Na+ (charged 1.0) and P (charged 1.1659000016463343) were distant from 2.75A at 1.2286355632555e-311ps\n",
      "Na+ (charged 1.0) and P (charged 1.1659000016463343) were distant from 2.90A at 1.2286355632555e-311ps\n",
      "Na+ (charged 1.0) and P (charged 1.1659000016463343) were distant from 2.64A at 1.2286355632555e-311ps\n",
      "Na+ (charged 1.0) and P (charged 1.1659000016463343) were distant from 2.46A at 1.2286355632555e-311ps\n",
      "Na+ (charged 1.0) and P (charged 1.1659000016463343) were distant from 2.55A at 1.2286355632555e-311ps\n",
      "Na+ (charged 1.0) and P (charged 1.1659000016463343) were distant from 2.55A at 1.2286355632555e-311ps\n",
      "Na+ (charged 1.0) and P (charged 1.1659000016463343) were distant from 2.53A at 1.2286355632555e-311ps\n",
      "Na+ (charged 1.0) and P (charged 1.1659000016463343) were distant from 2.50A at 1.2286355632555e-311ps\n",
      "Na+ (charged 1.0) and P (charged 1.1659000016463343) were distant from 2.65A at 1.2286355632555e-311ps\n",
      "Na+ (charged 1.0) and P (charged 1.1659000016463343) were distant from 2.64A at 1.2286355632555e-311ps\n",
      "Na+ (charged 1.0) and P (charged 1.1659000016463343) were distant from 2.72A at 1.2286355632555e-311ps\n",
      "Na+ (charged 1.0) and P (charged 1.1659000016463343) were distant from 2.56A at 1.2286355632555e-311ps\n",
      "Na+ (charged 1.0) and P (charged 1.1659000016463343) were distant from 2.97A at 1.2286355632555e-311ps\n",
      "Na+ (charged 1.0) and P (charged 1.1659000016463343) were distant from 2.75A at 1.2286355632555e-311ps\n",
      "Na+ (charged 1.0) and P (charged 1.1659000016463343) were distant from 2.49A at 1.2286355632555e-311ps\n",
      "Na+ (charged 1.0) and P (charged 1.1659000016463343) were distant from 2.43A at 1.2286355632555e-311ps\n",
      "Na+ (charged 1.0) and P (charged 1.1659000016463343) were distant from 2.69A at 1.2286355632555e-311ps\n",
      "Na+ (charged 1.0) and P (charged 1.1659000016463343) were distant from 2.67A at 1.2286355632555e-311ps\n",
      "Na+ (charged 1.0) and P (charged 1.1659000016463343) were distant from 2.57A at 1.2286355632555e-311ps\n",
      "Na+ (charged 1.0) and P (charged 1.1659000016463343) were distant from 2.47A at 1.2286355632555e-311ps\n",
      "Na+ (charged 1.0) and P (charged 1.1659000016463343) were distant from 2.32A at 1.2286355632555e-311ps\n",
      "Na+ (charged 1.0) and P (charged 1.1659000016463343) were distant from 2.64A at 1.2286355632555e-311ps\n",
      "Na+ (charged 1.0) and P (charged 1.1659000016463343) were distant from 2.39A at 1.2286355632555e-311ps\n",
      "Na+ (charged 1.0) and P (charged 1.1659000016463343) were distant from 2.35A at 1.2286355632555e-311ps\n",
      "Na+ (charged 1.0) and P (charged 1.1659000016463343) were distant from 2.48A at 1.2286355632555e-311ps\n",
      "Na+ (charged 1.0) and P (charged 1.1659000016463343) were distant from 2.29A at 1.2286355632555e-311ps\n",
      "Na+ (charged 1.0) and P (charged 1.1659000016463343) were distant from 2.66A at 1.2286355632555e-311ps\n",
      "Na+ (charged 1.0) and P (charged 1.1659000016463343) were distant from 2.84A at 1.2286355632555e-311ps\n",
      "Na+ (charged 1.0) and P (charged 1.1659000016463343) were distant from 2.54A at 1.2286355632555e-311ps\n",
      "Na+ (charged 1.0) and P (charged 1.1659000016463343) were distant from 2.56A at 1.2286355632555e-311ps\n",
      "Na+ (charged 1.0) and P (charged 1.1659000016463343) were distant from 2.48A at 1.2286355632555e-311ps\n",
      "Na+ (charged 1.0) and P (charged 1.1659000016463343) were distant from 2.71A at 1.2286355632555e-311ps\n",
      "Na+ (charged 1.0) and P (charged 1.1659000016463343) were distant from 2.67A at 1.2286355632555e-311ps\n",
      "Na+ (charged 1.0) and P (charged 1.1659000016463343) were distant from 2.65A at 1.2286355632555e-311ps\n",
      "Na+ (charged 1.0) and P (charged 1.1659000016463343) were distant from 2.43A at 1.2286355632555e-311ps\n",
      "Na+ (charged 1.0) and P (charged 1.1659000016463343) were distant from 2.23A at 1.2286355632555e-311ps\n",
      "Na+ (charged 1.0) and P (charged 1.1659000016463343) were distant from 2.43A at 1.2286355632555e-311ps\n",
      "Na+ (charged 1.0) and P (charged 1.1659000016463343) were distant from 2.84A at 1.2286355632555e-311ps\n",
      "Na+ (charged 1.0) and P (charged 1.1659000016463343) were distant from 2.80A at 1.2286355632555e-311ps\n",
      "Na+ (charged 1.0) and P (charged 1.1659000016463343) were distant from 2.85A at 1.2286355632555e-311ps\n",
      "Na+ (charged 1.0) and P (charged 1.1659000016463343) were distant from 2.59A at 1.2286355632555e-311ps\n",
      "Na+ (charged 1.0) and P (charged 1.1659000016463343) were distant from 2.40A at 1.2286355632555e-311ps\n",
      "Na+ (charged 1.0) and P (charged 1.1659000016463343) were distant from 3.11A at 1.2286355632555e-311ps\n",
      "Na+ (charged 1.0) and P (charged 1.1659000016463343) were distant from 2.92A at 1.2286355632555e-311ps\n",
      "Na+ (charged 1.0) and P (charged 1.1659000016463343) were distant from 2.90A at 1.2286355632555e-311ps\n",
      "Na+ (charged 1.0) and P (charged 1.1659000016463343) were distant from 2.59A at 1.2286355632555e-311ps\n",
      "Na+ (charged 1.0) and P (charged 1.1659000016463343) were distant from 2.52A at 1.2286355632555e-311ps\n",
      "Na+ (charged 1.0) and P (charged 1.1659000016463343) were distant from 2.86A at 1.2286355632555e-311ps\n",
      "Na+ (charged 1.0) and P (charged 1.1659000016463343) were distant from 2.68A at 1.2286355632555e-311ps\n",
      "Na+ (charged 1.0) and P (charged 1.1659000016463343) were distant from 2.58A at 1.2286355632555e-311ps\n",
      "Na+ (charged 1.0) and P (charged 1.1659000016463343) were distant from 2.68A at 1.2286355632555e-311ps\n",
      "Na+ (charged 1.0) and P (charged 1.1659000016463343) were distant from 2.56A at 1.2286355632555e-311ps\n",
      "Na+ (charged 1.0) and P (charged 1.1659000016463343) were distant from 2.86A at 1.2286355632555e-311ps\n",
      "Na+ (charged 1.0) and P (charged 1.1659000016463343) were distant from 2.65A at 1.2286355632555e-311ps\n",
      "Na+ (charged 1.0) and P (charged 1.1659000016463343) were distant from 2.73A at 1.2286355632555e-311ps\n",
      "Na+ (charged 1.0) and P (charged 1.1659000016463343) were distant from 2.48A at 1.2286355632555e-311ps\n",
      "Na+ (charged 1.0) and P (charged 1.1659000016463343) were distant from 2.47A at 1.2286355632555e-311ps\n",
      "Na+ (charged 1.0) and P (charged 1.1659000016463343) were distant from 2.72A at 1.2286355632555e-311ps\n",
      "Na+ (charged 1.0) and P (charged 1.1659000016463343) were distant from 2.38A at 1.2286355632555e-311ps\n",
      "Na+ (charged 1.0) and P (charged 1.1659000016463343) were distant from 2.48A at 1.2286355632555e-311ps\n",
      "Na+ (charged 1.0) and P (charged 1.1659000016463343) were distant from 2.81A at 1.2286355632555e-311ps\n",
      "Na+ (charged 1.0) and P (charged 1.1659000016463343) were distant from 2.84A at 1.2286355632555e-311ps\n",
      "Na+ (charged 1.0) and P (charged 1.1659000016463343) were distant from 2.78A at 1.2286355632555e-311ps\n",
      "Na+ (charged 1.0) and P (charged 1.1659000016463343) were distant from 2.52A at 1.2286355632555e-311ps\n",
      "Na+ (charged 1.0) and P (charged 1.1659000016463343) were distant from 3.11A at 1.2286355632555e-311ps\n",
      "Na+ (charged 1.0) and P (charged 1.1659000016463343) were distant from 2.90A at 1.2286355632555e-311ps\n",
      "Na+ (charged 1.0) and P (charged 1.1659000016463343) were distant from 2.49A at 1.2286355632555e-311ps\n",
      "Na+ (charged 1.0) and P (charged 1.1659000016463343) were distant from 2.65A at 1.2286355632555e-311ps\n",
      "Na+ (charged 1.0) and P (charged 1.1659000016463343) were distant from 2.71A at 1.2286355632555e-311ps\n",
      "Na+ (charged 1.0) and P (charged 1.1659000016463343) were distant from 2.80A at 1.2286355632555e-311ps\n",
      "Na+ (charged 1.0) and P (charged 1.1659000016463343) were distant from 3.04A at 1.2286355632555e-311ps\n",
      "Na+ (charged 1.0) and P (charged 1.1659000016463343) were distant from 2.84A at 1.2286355632555e-311ps\n",
      "Na+ (charged 1.0) and P (charged 1.1659000016463343) were distant from 3.30A at 1.2286355632555e-311ps\n",
      "Na+ (charged 1.0) and P (charged 1.1659000016463343) were distant from 2.87A at 1.2286355632555e-311ps\n",
      "Na+ (charged 1.0) and P (charged 1.1659000016463343) were distant from 2.66A at 1.2286355632555e-311ps\n",
      "Na+ (charged 1.0) and P (charged 1.1659000016463343) were distant from 2.92A at 1.2286355632555e-311ps\n",
      "Na+ (charged 1.0) and P (charged 1.1659000016463343) were distant from 2.67A at 1.2286355632555e-311ps\n",
      "Na+ (charged 1.0) and P (charged 1.1659000016463343) were distant from 2.42A at 1.2286355632555e-311ps\n",
      "Na+ (charged 1.0) and P (charged 1.1659000016463343) were distant from 2.51A at 1.2286355632555e-311ps\n",
      "Na+ (charged 1.0) and P (charged 1.1659000016463343) were distant from 2.50A at 1.2286355632555e-311ps\n",
      "Na+ (charged 1.0) and P (charged 1.1659000016463343) were distant from 2.64A at 1.2286355632555e-311ps\n",
      "Na+ (charged 1.0) and P (charged 1.1659000016463343) were distant from 2.38A at 1.2286355632555e-311ps\n",
      "Na+ (charged 1.0) and P (charged 1.1659000016463343) were distant from 2.76A at 1.2286355632555e-311ps\n",
      "Na+ (charged 1.0) and P (charged 1.1659000016463343) were distant from 2.52A at 1.2286355632555e-311ps\n",
      "Na+ (charged 1.0) and P (charged 1.1659000016463343) were distant from 2.77A at 1.2286355632555e-311ps\n",
      "Na+ (charged 1.0) and P (charged 1.1659000016463343) were distant from 2.94A at 1.2286355632555e-311ps\n",
      "Na+ (charged 1.0) and P (charged 1.1659000016463343) were distant from 2.82A at 1.2286355632555e-311ps\n",
      "Na+ (charged 1.0) and P (charged 1.1659000016463343) were distant from 3.11A at 1.2286355632555e-311ps\n",
      "Na+ (charged 1.0) and P (charged 1.1659000016463343) were distant from 3.11A at 1.2286355632555e-311ps\n",
      "Na+ (charged 1.0) and P (charged 1.1659000016463343) were distant from 2.81A at 1.2286355632555e-311ps\n",
      "Na+ (charged 1.0) and P (charged 1.1659000016463343) were distant from 2.49A at 1.2286355632555e-311ps\n",
      "Na+ (charged 1.0) and P (charged 1.1659000016463343) were distant from 2.58A at 1.2286355632555e-311ps\n",
      "Na+ (charged 1.0) and P (charged 1.1659000016463343) were distant from 2.94A at 1.2286355632555e-311ps\n",
      "Na+ (charged 1.0) and P (charged 1.1659000016463343) were distant from 2.62A at 1.2286355632555e-311ps\n",
      "Na+ (charged 1.0) and P (charged 1.1659000016463343) were distant from 2.28A at 1.2286355632555e-311ps\n",
      "Na+ (charged 1.0) and P (charged 1.1659000016463343) were distant from 2.90A at 1.2286355632555e-311ps\n",
      "Na+ (charged 1.0) and P (charged 1.1659000016463343) were distant from 2.43A at 1.2286355632555e-311ps\n",
      "Na+ (charged 1.0) and P (charged 1.1659000016463343) were distant from 2.70A at 1.2286355632555e-311ps\n",
      "Na+ (charged 1.0) and P (charged 1.1659000016463343) were distant from 2.60A at 1.2286355632555e-311ps\n",
      "Na+ (charged 1.0) and P (charged 1.1659000016463343) were distant from 2.92A at 1.2286355632555e-311ps\n",
      "Na+ (charged 1.0) and P (charged 1.1659000016463343) were distant from 2.63A at 1.2286355632555e-311ps\n",
      "Na+ (charged 1.0) and P (charged 1.1659000016463343) were distant from 2.64A at 1.2286355632555e-311ps\n",
      "Na+ (charged 1.0) and P (charged 1.1659000016463343) were distant from 2.44A at 1.2286355632555e-311ps\n",
      "Na+ (charged 1.0) and P (charged 1.1659000016463343) were distant from 2.36A at 1.2286355632555e-311ps\n",
      "Na+ (charged 1.0) and P (charged 1.1659000016463343) were distant from 2.27A at 1.2286355632555e-311ps\n",
      "Na+ (charged 1.0) and P (charged 1.1659000016463343) were distant from 2.28A at 1.2286355632555e-311ps\n",
      "Na+ (charged 1.0) and P (charged 1.1659000016463343) were distant from 2.35A at 1.2286355632555e-311ps\n",
      "Na+ (charged 1.0) and P (charged 1.1659000016463343) were distant from 2.48A at 1.2286355632555e-311ps\n",
      "Na+ (charged 1.0) and P (charged 1.1659000016463343) were distant from 2.83A at 1.2286355632555e-311ps\n",
      "Na+ (charged 1.0) and P (charged 1.1659000016463343) were distant from 2.54A at 1.2286355632555e-311ps\n",
      "Na+ (charged 1.0) and P (charged 1.1659000016463343) were distant from 2.75A at 1.2286355632555e-311ps\n",
      "Na+ (charged 1.0) and P (charged 1.1659000016463343) were distant from 2.42A at 1.2286355632555e-311ps\n",
      "Na+ (charged 1.0) and P (charged 1.1659000016463343) were distant from 2.59A at 1.2286355632555e-311ps\n",
      "Na+ (charged 1.0) and P (charged 1.1659000016463343) were distant from 2.37A at 1.2286355632555e-311ps\n",
      "Na+ (charged 1.0) and P (charged 1.1659000016463343) were distant from 2.46A at 1.2286355632555e-311ps\n",
      "Na+ (charged 1.0) and P (charged 1.1659000016463343) were distant from 2.67A at 1.2286355632555e-311ps\n",
      "Na+ (charged 1.0) and P (charged 1.1659000016463343) were distant from 2.80A at 1.2286355632555e-311ps\n",
      "Na+ (charged 1.0) and P (charged 1.1659000016463343) were distant from 2.76A at 1.2286355632555e-311ps\n",
      "Na+ (charged 1.0) and P (charged 1.1659000016463343) were distant from 2.94A at 1.2286355632555e-311ps\n",
      "Na+ (charged 1.0) and P (charged 1.1659000016463343) were distant from 2.46A at 1.2286355632555e-311ps\n",
      "Na+ (charged 1.0) and P (charged 1.1659000016463343) were distant from 2.35A at 1.2286355632555e-311ps\n",
      "Na+ (charged 1.0) and P (charged 1.1659000016463343) were distant from 2.49A at 1.2286355632555e-311ps\n",
      "Na+ (charged 1.0) and P (charged 1.1659000016463343) were distant from 2.52A at 1.2286355632555e-311ps\n",
      "Na+ (charged 1.0) and P (charged 1.1659000016463343) were distant from 2.54A at 1.2286355632555e-311ps\n",
      "Na+ (charged 1.0) and P (charged 1.1659000016463343) were distant from 2.80A at 1.2286355632555e-311ps\n",
      "Na+ (charged 1.0) and P (charged 1.1659000016463343) were distant from 2.79A at 1.2286355632555e-311ps\n",
      "Na+ (charged 1.0) and P (charged 1.1659000016463343) were distant from 3.13A at 1.2286355632555e-311ps\n",
      "Na+ (charged 1.0) and P (charged 1.1659000016463343) were distant from 3.30A at 1.2286355632555e-311ps\n",
      "Na+ (charged 1.0) and P (charged 1.1659000016463343) were distant from 3.66A at 1.2286355632555e-311ps\n",
      "Na+ (charged 1.0) and P (charged 1.1659000016463343) were distant from 3.27A at 1.2286355632555e-311ps\n",
      "Na+ (charged 1.0) and P (charged 1.1659000016463343) were distant from 3.15A at 1.2286355632555e-311ps\n",
      "Na+ (charged 1.0) and P (charged 1.1659000016463343) were distant from 2.93A at 1.2286355632555e-311ps\n",
      "Na+ (charged 1.0) and P (charged 1.1659000016463343) were distant from 3.15A at 1.2286355632555e-311ps\n",
      "Na+ (charged 1.0) and P (charged 1.1659000016463343) were distant from 3.54A at 1.2286355632555e-311ps\n",
      "Na+ (charged 1.0) and P (charged 1.1659000016463343) were distant from 2.89A at 1.2286355632555e-311ps\n",
      "Na+ (charged 1.0) and P (charged 1.1659000016463343) were distant from 2.90A at 1.2286355632555e-311ps\n",
      "Na+ (charged 1.0) and P (charged 1.1659000016463343) were distant from 2.67A at 1.2286355632555e-311ps\n",
      "Na+ (charged 1.0) and P (charged 1.1659000016463343) were distant from 2.57A at 1.2286355632555e-311ps\n",
      "Na+ (charged 1.0) and P (charged 1.1659000016463343) were distant from 2.44A at 1.2286355632555e-311ps\n",
      "Na+ (charged 1.0) and P (charged 1.1659000016463343) were distant from 2.77A at 1.2286355632555e-311ps\n",
      "Na+ (charged 1.0) and P (charged 1.1659000016463343) were distant from 2.73A at 1.2286355632555e-311ps\n",
      "Na+ (charged 1.0) and P (charged 1.1659000016463343) were distant from 3.33A at 1.2286355632555e-311ps\n",
      "Na+ (charged 1.0) and P (charged 1.1659000016463343) were distant from 3.30A at 1.2286355632555e-311ps\n",
      "Na+ (charged 1.0) and P (charged 1.1659000016463343) were distant from 2.99A at 1.2286355632555e-311ps\n",
      "Na+ (charged 1.0) and P (charged 1.1659000016463343) were distant from 3.16A at 1.2286355632555e-311ps\n",
      "Na+ (charged 1.0) and P (charged 1.1659000016463343) were distant from 3.24A at 1.2286355632555e-311ps\n",
      "Na+ (charged 1.0) and P (charged 1.1659000016463343) were distant from 2.85A at 1.2286355632555e-311ps\n",
      "Na+ (charged 1.0) and P (charged 1.1659000016463343) were distant from 3.32A at 1.2286355632555e-311ps\n",
      "Na+ (charged 1.0) and P (charged 1.1659000016463343) were distant from 3.52A at 1.2286355632555e-311ps\n",
      "Na+ (charged 1.0) and P (charged 1.1659000016463343) were distant from 3.73A at 1.2286355632555e-311ps\n",
      "Na+ (charged 1.0) and P (charged 1.1659000016463343) were distant from 3.68A at 1.2286355632555e-311ps\n",
      "Na+ (charged 1.0) and P (charged 1.1659000016463343) were distant from 3.17A at 1.2286355632555e-311ps\n",
      "Na+ (charged 1.0) and P (charged 1.1659000016463343) were distant from 2.59A at 1.2286355632555e-311ps\n",
      "Na+ (charged 1.0) and P (charged 1.1659000016463343) were distant from 2.68A at 1.2286355632555e-311ps\n"
     ]
    },
    {
     "name": "stdout",
     "output_type": "stream",
     "text": [
      "Na+ (charged 1.0) and P (charged 1.1659000016463343) were distant from 3.83A at 1.2286355632555e-311ps\n",
      "Na+ (charged 1.0) and P (charged 1.1659000016463343) were distant from 3.84A at 1.2286355632555e-311ps\n",
      "Na+ (charged 1.0) and P (charged 1.1659000016463343) were distant from 3.75A at 1.2286355632555e-311ps\n",
      "Na+ (charged 1.0) and P (charged 1.1659000016463343) were distant from 3.96A at 1.2286355632555e-311ps\n",
      "Na+ (charged 1.0) and P (charged 1.1659000016463343) were distant from 3.97A at 1.2286355632555e-311ps\n",
      "Na+ (charged 1.0) and P (charged 1.1659000016463343) were distant from 3.89A at 1.2286355632555e-311ps\n",
      "Na+ (charged 1.0) and P (charged 1.1659000016463343) were distant from 3.80A at 1.2286355632555e-311ps\n",
      "Na+ (charged 1.0) and P (charged 1.1659000016463343) were distant from 3.64A at 1.2286355632555e-311ps\n",
      "Na+ (charged 1.0) and P (charged 1.1659000016463343) were distant from 3.51A at 1.2286355632555e-311ps\n",
      "Na+ (charged 1.0) and P (charged 1.1659000016463343) were distant from 3.35A at 1.2286355632555e-311ps\n",
      "Na+ (charged 1.0) and P (charged 1.1659000016463343) were distant from 3.61A at 1.2286355632555e-311ps\n",
      "Na+ (charged 1.0) and P (charged 1.1659000016463343) were distant from 3.48A at 1.2286355632555e-311ps\n",
      "Na+ (charged 1.0) and P (charged 1.1659000016463343) were distant from 3.66A at 1.2286355632555e-311ps\n",
      "Na+ (charged 1.0) and P (charged 1.1659000016463343) were distant from 3.88A at 1.2286355632555e-311ps\n",
      "Na+ (charged 1.0) and P (charged 1.1659000016463343) were distant from 3.88A at 1.2286355632555e-311ps\n",
      "Na+ (charged 1.0) and P (charged 1.1659000016463343) were distant from 3.77A at 1.2286355632555e-311ps\n",
      "Na+ (charged 1.0) and P (charged 1.1659000016463343) were distant from 3.80A at 1.2286355632555e-311ps\n",
      "Na+ (charged 1.0) and P (charged 1.1659000016463343) were distant from 3.67A at 1.2286355632555e-311ps\n",
      "Na+ (charged 1.0) and P (charged 1.1659000016463343) were distant from 3.81A at 1.2286355632555e-311ps\n",
      "Na+ (charged 1.0) and P (charged 1.1659000016463343) were distant from 3.66A at 1.2286355632555e-311ps\n",
      "Na+ (charged 1.0) and P (charged 1.1659000016463343) were distant from 3.51A at 1.2286355632555e-311ps\n",
      "Na+ (charged 1.0) and P (charged 1.1659000016463343) were distant from 3.51A at 1.2286355632555e-311ps\n",
      "Na+ (charged 1.0) and P (charged 1.1659000016463343) were distant from 3.71A at 1.2286355632555e-311ps\n",
      "Na+ (charged 1.0) and P (charged 1.1659000016463343) were distant from 3.90A at 1.2286355632555e-311ps\n",
      "Na+ (charged 1.0) and P (charged 1.1659000016463343) were distant from 3.51A at 1.2286355632555e-311ps\n",
      "Na+ (charged 1.0) and P (charged 1.1659000016463343) were distant from 3.96A at 1.2286355632555e-311ps\n",
      "Na+ (charged 1.0) and P (charged 1.1659000016463343) were distant from 3.66A at 1.2286355632555e-311ps\n",
      "Na+ (charged 1.0) and P (charged 1.1659000016463343) were distant from 3.82A at 1.2286355632555e-311ps\n",
      "Na+ (charged 1.0) and P (charged 1.1659000016463343) were distant from 3.99A at 1.2286355632555e-311ps\n",
      "Na+ (charged 1.0) and P (charged 1.1659000016463343) were distant from 3.60A at 1.2286355632555e-311ps\n",
      "Na+ (charged 1.0) and P (charged 1.1659000016463343) were distant from 3.77A at 1.2286355632555e-311ps\n",
      "Na+ (charged 1.0) and P (charged 1.1659000016463343) were distant from 3.41A at 1.2286355632555e-311ps\n",
      "Na+ (charged 1.0) and P (charged 1.1659000016463343) were distant from 3.64A at 1.2286355632555e-311ps\n",
      "Na+ (charged 1.0) and P (charged 1.1659000016463343) were distant from 3.80A at 1.2286355632555e-311ps\n",
      "Na+ (charged 1.0) and P (charged 1.1659000016463343) were distant from 3.08A at 1.2286355632555e-311ps\n",
      "Na+ (charged 1.0) and P (charged 1.1659000016463343) were distant from 3.29A at 1.2286355632555e-311ps\n",
      "Na+ (charged 1.0) and P (charged 1.1659000016463343) were distant from 3.62A at 1.2286355632555e-311ps\n",
      "Na+ (charged 1.0) and P (charged 1.1659000016463343) were distant from 3.88A at 1.2286355632555e-311ps\n",
      "Na+ (charged 1.0) and P (charged 1.1659000016463343) were distant from 3.69A at 1.2286355632555e-311ps\n",
      "Na+ (charged 1.0) and P (charged 1.1659000016463343) were distant from 3.96A at 1.2286355632555e-311ps\n",
      "Na+ (charged 1.0) and P (charged 1.1659000016463343) were distant from 3.86A at 1.2286355632555e-311ps\n",
      "Na+ (charged 1.0) and P (charged 1.1659000016463343) were distant from 3.89A at 1.2286355632555e-311ps\n",
      "Na+ (charged 1.0) and P (charged 1.1659000016463343) were distant from 3.71A at 1.2286355632555e-311ps\n",
      "Na+ (charged 1.0) and P (charged 1.1659000016463343) were distant from 3.71A at 1.2286355632555e-311ps\n",
      "Na+ (charged 1.0) and P (charged 1.1659000016463343) were distant from 3.83A at 1.2286355632555e-311ps\n",
      "Na+ (charged 1.0) and P (charged 1.1659000016463343) were distant from 3.97A at 1.2286355632555e-311ps\n",
      "Na+ (charged 1.0) and P (charged 1.1659000016463343) were distant from 3.84A at 1.2286355632555e-311ps\n",
      "Na+ (charged 1.0) and P (charged 1.1659000016463343) were distant from 3.69A at 1.2286355632555e-311ps\n",
      "Na+ (charged 1.0) and P (charged 1.1659000016463343) were distant from 3.76A at 1.2286355632555e-311ps\n",
      "Na+ (charged 1.0) and P (charged 1.1659000016463343) were distant from 3.86A at 4.66854965792987e-310ps\n",
      "Na+ (charged 1.0) and P (charged 1.1659000016463343) were distant from 3.97A at 4.66854965792987e-310ps\n",
      "Na+ (charged 1.0) and P (charged 1.1659000016463343) were distant from 3.80A at 4.66854965792987e-310ps\n",
      "Na+ (charged 1.0) and P (charged 1.1659000016463343) were distant from 3.99A at 4.66854965792987e-310ps\n",
      "Na+ (charged 1.0) and P (charged 1.1659000016463343) were distant from 3.85A at 4.66854965792987e-310ps\n",
      "Na+ (charged 1.0) and P (charged 1.1659000016463343) were distant from 3.94A at 4.66854965792987e-310ps\n",
      "Na+ (charged 1.0) and P (charged 1.1659000016463343) were distant from 3.79A at 4.66854965792987e-310ps\n",
      "Na+ (charged 1.0) and P (charged 1.1659000016463343) were distant from 3.80A at 4.66854965792987e-310ps\n",
      "Na+ (charged 1.0) and P (charged 1.1659000016463343) were distant from 3.80A at 4.66854965792987e-310ps\n",
      "Na+ (charged 1.0) and P (charged 1.1659000016463343) were distant from 3.65A at 4.66854965792987e-310ps\n",
      "Na+ (charged 1.0) and P (charged 1.1659000016463343) were distant from 3.60A at 4.66854965792987e-310ps\n",
      "Na+ (charged 1.0) and P (charged 1.1659000016463343) were distant from 3.67A at 4.66854965792987e-310ps\n",
      "Na+ (charged 1.0) and P (charged 1.1659000016463343) were distant from 3.76A at 4.66854965792987e-310ps\n",
      "Na+ (charged 1.0) and P (charged 1.1659000016463343) were distant from 3.61A at 4.66854965792987e-310ps\n",
      "Na+ (charged 1.0) and P (charged 1.1659000016463343) were distant from 3.51A at 4.66854965792987e-310ps\n",
      "Na+ (charged 1.0) and P (charged 1.1659000016463343) were distant from 3.48A at 4.66854965792987e-310ps\n",
      "Na+ (charged 1.0) and P (charged 1.1659000016463343) were distant from 3.84A at 4.66854965792987e-310ps\n",
      "Na+ (charged 1.0) and P (charged 1.1659000016463343) were distant from 3.89A at 4.66854965792987e-310ps\n",
      "Na+ (charged 1.0) and P (charged 1.1659000016463343) were distant from 3.99A at 4.66854965792987e-310ps\n",
      "Na+ (charged 1.0) and P (charged 1.1659000016463343) were distant from 3.78A at 4.66854965792987e-310ps\n",
      "Na+ (charged 1.0) and P (charged 1.1659000016463343) were distant from 3.70A at 4.66854965792987e-310ps\n",
      "Na+ (charged 1.0) and P (charged 1.1659000016463343) were distant from 3.80A at 4.66854965792987e-310ps\n",
      "Na+ (charged 1.0) and P (charged 1.1659000016463343) were distant from 3.79A at 4.66854965792987e-310ps\n",
      "Na+ (charged 1.0) and P (charged 1.1659000016463343) were distant from 3.70A at 4.66854965792987e-310ps\n",
      "Na+ (charged 1.0) and P (charged 1.1659000016463343) were distant from 3.84A at 4.66854965792987e-310ps\n",
      "Na+ (charged 1.0) and P (charged 1.1659000016463343) were distant from 3.47A at 4.66854965792987e-310ps\n",
      "Na+ (charged 1.0) and P (charged 1.1659000016463343) were distant from 3.68A at 4.66854965792987e-310ps\n",
      "Na+ (charged 1.0) and P (charged 1.1659000016463343) were distant from 3.29A at 4.66854965792987e-310ps\n",
      "Na+ (charged 1.0) and P (charged 1.1659000016463343) were distant from 3.54A at 4.66854965792987e-310ps\n",
      "Na+ (charged 1.0) and P (charged 1.1659000016463343) were distant from 3.97A at 4.66854965792987e-310ps\n",
      "Na+ (charged 1.0) and P (charged 1.1659000016463343) were distant from 3.66A at 4.66854965792987e-310ps\n",
      "Na+ (charged 1.0) and P (charged 1.1659000016463343) were distant from 3.79A at 4.66854965792987e-310ps\n",
      "Na+ (charged 1.0) and P (charged 1.1659000016463343) were distant from 3.46A at 4.66854965792987e-310ps\n",
      "Na+ (charged 1.0) and P (charged 1.1659000016463343) were distant from 3.35A at 4.66854965792987e-310ps\n",
      "Na+ (charged 1.0) and P (charged 1.1659000016463343) were distant from 3.74A at 4.66854965792987e-310ps\n",
      "Na+ (charged 1.0) and P (charged 1.1659000016463343) were distant from 3.29A at 4.66854965792987e-310ps\n",
      "Na+ (charged 1.0) and P (charged 1.1659000016463343) were distant from 3.73A at 4.66854965792987e-310ps\n",
      "Na+ (charged 1.0) and P (charged 1.1659000016463343) were distant from 3.80A at 4.66854965792987e-310ps\n",
      "Na+ (charged 1.0) and P (charged 1.1659000016463343) were distant from 3.91A at 4.66854965792987e-310ps\n",
      "Na+ (charged 1.0) and P (charged 1.1659000016463343) were distant from 3.33A at 4.66854965792987e-310ps\n",
      "Na+ (charged 1.0) and P (charged 1.1659000016463343) were distant from 3.61A at 4.66854965792987e-310ps\n",
      "Na+ (charged 1.0) and P (charged 1.1659000016463343) were distant from 3.34A at 4.66854965792987e-310ps\n",
      "Na+ (charged 1.0) and P (charged 1.1659000016463343) were distant from 3.70A at 4.66854965792987e-310ps\n",
      "Na+ (charged 1.0) and P (charged 1.1659000016463343) were distant from 3.51A at 4.66854965792987e-310ps\n",
      "Na+ (charged 1.0) and P (charged 1.1659000016463343) were distant from 3.66A at 4.66854965792987e-310ps\n",
      "Na+ (charged 1.0) and P (charged 1.1659000016463343) were distant from 3.82A at 4.66854965792987e-310ps\n",
      "Na+ (charged 1.0) and P (charged 1.1659000016463343) were distant from 3.84A at 4.66854965792987e-310ps\n",
      "Na+ (charged 1.0) and P (charged 1.1659000016463343) were distant from 3.80A at 4.66854965792987e-310ps\n",
      "Na+ (charged 1.0) and P (charged 1.1659000016463343) were distant from 3.82A at 4.66854965792987e-310ps\n",
      "Na+ (charged 1.0) and P (charged 1.1659000016463343) were distant from 3.87A at 4.66854965792987e-310ps\n",
      "Na+ (charged 1.0) and P (charged 1.1659000016463343) were distant from 3.90A at 4.66854965792987e-310ps\n",
      "Na+ (charged 1.0) and P (charged 1.1659000016463343) were distant from 3.81A at 4.66854965792987e-310ps\n",
      "Na+ (charged 1.0) and P (charged 1.1659000016463343) were distant from 3.71A at 4.66854965792987e-310ps\n",
      "Na+ (charged 1.0) and P (charged 1.1659000016463343) were distant from 3.68A at 4.66854965792987e-310ps\n",
      "Na+ (charged 1.0) and P (charged 1.1659000016463343) were distant from 3.88A at 4.66854965792987e-310ps\n",
      "Na+ (charged 1.0) and P (charged 1.1659000016463343) were distant from 3.85A at 4.66854965792987e-310ps\n",
      "Na+ (charged 1.0) and P (charged 1.1659000016463343) were distant from 3.59A at 4.66854965792987e-310ps\n",
      "Na+ (charged 1.0) and P (charged 1.1659000016463343) were distant from 3.65A at 4.66854965792987e-310ps\n",
      "Na+ (charged 1.0) and P (charged 1.1659000016463343) were distant from 3.74A at 4.66854965792987e-310ps\n",
      "Na+ (charged 1.0) and P (charged 1.1659000016463343) were distant from 3.53A at 4.66854965792987e-310ps\n",
      "Na+ (charged 1.0) and P (charged 1.1659000016463343) were distant from 3.39A at 4.66854965792987e-310ps\n",
      "Na+ (charged 1.0) and P (charged 1.1659000016463343) were distant from 3.74A at 4.66854965792987e-310ps\n",
      "Na+ (charged 1.0) and P (charged 1.1659000016463343) were distant from 3.74A at 4.66854965792987e-310ps\n",
      "Na+ (charged 1.0) and P (charged 1.1659000016463343) were distant from 3.68A at 4.66854965792987e-310ps\n",
      "Na+ (charged 1.0) and P (charged 1.1659000016463343) were distant from 3.24A at 4.66854965792987e-310ps\n",
      "Na+ (charged 1.0) and P (charged 1.1659000016463343) were distant from 3.41A at 4.66854965792987e-310ps\n",
      "Na+ (charged 1.0) and P (charged 1.1659000016463343) were distant from 3.21A at 4.66854965792987e-310ps\n",
      "Na+ (charged 1.0) and P (charged 1.1659000016463343) were distant from 3.74A at 4.66854965792987e-310ps\n",
      "Na+ (charged 1.0) and P (charged 1.1659000016463343) were distant from 3.34A at 4.66854965792987e-310ps\n",
      "Na+ (charged 1.0) and P (charged 1.1659000016463343) were distant from 3.69A at 4.66854965792987e-310ps\n",
      "Na+ (charged 1.0) and P (charged 1.1659000016463343) were distant from 3.30A at 4.66854965792987e-310ps\n",
      "Na+ (charged 1.0) and P (charged 1.1659000016463343) were distant from 3.24A at 4.66854965792987e-310ps\n",
      "Na+ (charged 1.0) and P (charged 1.1659000016463343) were distant from 3.25A at 4.66854965792987e-310ps\n",
      "Na+ (charged 1.0) and P (charged 1.1659000016463343) were distant from 3.91A at 4.66854965792987e-310ps\n",
      "Na+ (charged 1.0) and P (charged 1.1659000016463343) were distant from 3.12A at 4.66854965792987e-310ps\n",
      "Na+ (charged 1.0) and P (charged 1.1659000016463343) were distant from 3.24A at 4.66854965792987e-310ps\n",
      "Na+ (charged 1.0) and P (charged 1.1659000016463343) were distant from 3.78A at 4.66854965792987e-310ps\n",
      "Na+ (charged 1.0) and P (charged 1.1659000016463343) were distant from 3.77A at 4.66854965792987e-310ps\n",
      "Na+ (charged 1.0) and P (charged 1.1659000016463343) were distant from 3.62A at 4.66854965792987e-310ps\n",
      "Na+ (charged 1.0) and P (charged 1.1659000016463343) were distant from 3.76A at 4.66854965792987e-310ps\n",
      "Na+ (charged 1.0) and P (charged 1.1659000016463343) were distant from 3.66A at 4.66854965792987e-310ps\n",
      "Na+ (charged 1.0) and P (charged 1.1659000016463343) were distant from 3.43A at 4.66854965792987e-310ps\n",
      "Na+ (charged 1.0) and P (charged 1.1659000016463343) were distant from 3.42A at 4.66854965792987e-310ps\n",
      "Na+ (charged 1.0) and P (charged 1.1659000016463343) were distant from 3.45A at 4.66854965792987e-310ps\n",
      "Na+ (charged 1.0) and P (charged 1.1659000016463343) were distant from 3.10A at 4.66854965792987e-310ps\n",
      "Na+ (charged 1.0) and P (charged 1.1659000016463343) were distant from 3.46A at 4.66854965792987e-310ps\n",
      "Na+ (charged 1.0) and P (charged 1.1659000016463343) were distant from 3.55A at 4.66854965792987e-310ps\n",
      "Na+ (charged 1.0) and P (charged 1.1659000016463343) were distant from 3.48A at 4.66854965792987e-310ps\n"
     ]
    },
    {
     "name": "stdout",
     "output_type": "stream",
     "text": [
      "Na+ (charged 1.0) and P (charged 1.1659000016463343) were distant from 3.88A at 4.66854965792987e-310ps\n",
      "Na+ (charged 1.0) and P (charged 1.1659000016463343) were distant from 3.92A at 4.66854965792987e-310ps\n",
      "Na+ (charged 1.0) and P (charged 1.1659000016463343) were distant from 3.98A at 4.66854965792987e-310ps\n",
      "Na+ (charged 1.0) and P (charged 1.1659000016463343) were distant from 3.96A at 4.66854965792987e-310ps\n",
      "Na+ (charged 1.0) and P (charged 1.1659000016463343) were distant from 3.89A at 4.66854965792987e-310ps\n",
      "Na+ (charged 1.0) and P (charged 1.1659000016463343) were distant from 3.92A at 4.66854965792987e-310ps\n",
      "Na+ (charged 1.0) and P (charged 1.1659000016463343) were distant from 3.98A at 4.66854965792987e-310ps\n",
      "Na+ (charged 1.0) and P (charged 1.1659000016463343) were distant from 3.90A at 4.66854965792987e-310ps\n",
      "Na+ (charged 1.0) and P (charged 1.1659000016463343) were distant from 3.97A at 4.66854965792987e-310ps\n",
      "Na+ (charged 1.0) and P (charged 1.1659000016463343) were distant from 3.96A at 4.66854965792987e-310ps\n",
      "Na+ (charged 1.0) and P (charged 1.1659000016463343) were distant from 3.73A at 4.66854965792987e-310ps\n",
      "Na+ (charged 1.0) and P (charged 1.1659000016463343) were distant from 3.85A at 4.66854965792987e-310ps\n",
      "Na+ (charged 1.0) and P (charged 1.1659000016463343) were distant from 3.85A at 4.66854965792987e-310ps\n",
      "Na+ (charged 1.0) and P (charged 1.1659000016463343) were distant from 3.91A at 4.66854965792987e-310ps\n",
      "Na+ (charged 1.0) and P (charged 1.1659000016463343) were distant from 3.99A at 4.66854965792987e-310ps\n",
      "Na+ (charged 1.0) and P (charged 1.1659000016463343) were distant from 3.98A at 4.66854965792987e-310ps\n",
      "Na+ (charged 1.0) and P (charged 1.1659000016463343) were distant from 3.98A at 4.66854965792987e-310ps\n",
      "Na+ (charged 1.0) and Na+ (charged 1.0) were distant from 3.90A at 1.2286355632555e-311ps\n",
      "Na+ (charged 1.0) and Na+ (charged 1.0) were distant from 3.82A at 1.2286355632555e-311ps\n",
      "Na+ (charged 1.0) and Na+ (charged 1.0) were distant from 3.82A at 1.2286355632555e-311ps\n",
      "Na+ (charged 1.0) and Na+ (charged 1.0) were distant from 3.68A at 1.2286355632555e-311ps\n",
      "Na+ (charged 1.0) and Na+ (charged 1.0) were distant from 3.55A at 1.2286355632555e-311ps\n",
      "Na+ (charged 1.0) and Na+ (charged 1.0) were distant from 3.60A at 1.2286355632555e-311ps\n",
      "Na+ (charged 1.0) and Na+ (charged 1.0) were distant from 3.69A at 1.2286355632555e-311ps\n",
      "Na+ (charged 1.0) and Na+ (charged 1.0) were distant from 3.78A at 1.2286355632555e-311ps\n",
      "Na+ (charged 1.0) and Na+ (charged 1.0) were distant from 3.73A at 1.2286355632555e-311ps\n",
      "Na+ (charged 1.0) and Na+ (charged 1.0) were distant from 3.47A at 1.2286355632555e-311ps\n",
      "Na+ (charged 1.0) and Na+ (charged 1.0) were distant from 3.69A at 1.2286355632555e-311ps\n",
      "Na+ (charged 1.0) and Na+ (charged 1.0) were distant from 3.65A at 1.2286355632555e-311ps\n",
      "Na+ (charged 1.0) and Na+ (charged 1.0) were distant from 3.95A at 1.2286355632555e-311ps\n",
      "Na+ (charged 1.0) and Na+ (charged 1.0) were distant from 3.70A at 1.2286355632555e-311ps\n",
      "Na+ (charged 1.0) and Na+ (charged 1.0) were distant from 3.91A at 1.2286355632555e-311ps\n",
      "Na+ (charged 1.0) and Na+ (charged 1.0) were distant from 3.91A at 1.2286355632555e-311ps\n",
      "Na+ (charged 1.0) and Na+ (charged 1.0) were distant from 3.95A at 1.2286355632555e-311ps\n",
      "Na+ (charged 1.0) and Na+ (charged 1.0) were distant from 3.99A at 1.2286355632555e-311ps\n",
      "Na+ (charged 1.0) and Na+ (charged 1.0) were distant from 3.42A at 1.2286355632555e-311ps\n",
      "Na+ (charged 1.0) and P (charged 1.1659000016463343) were distant from 2.80A at 1.2286355632555e-311ps\n",
      "Na+ (charged 1.0) and P (charged 1.1659000016463343) were distant from 2.58A at 1.2286355632555e-311ps\n",
      "Na+ (charged 1.0) and P (charged 1.1659000016463343) were distant from 2.61A at 1.2286355632555e-311ps\n",
      "Na+ (charged 1.0) and P (charged 1.1659000016463343) were distant from 2.95A at 1.2286355632555e-311ps\n",
      "Na+ (charged 1.0) and P (charged 1.1659000016463343) were distant from 2.96A at 1.2286355632555e-311ps\n",
      "Na+ (charged 1.0) and P (charged 1.1659000016463343) were distant from 2.87A at 1.2286355632555e-311ps\n",
      "Na+ (charged 1.0) and P (charged 1.1659000016463343) were distant from 2.62A at 1.2286355632555e-311ps\n",
      "Na+ (charged 1.0) and P (charged 1.1659000016463343) were distant from 2.49A at 1.2286355632555e-311ps\n",
      "Na+ (charged 1.0) and P (charged 1.1659000016463343) were distant from 2.36A at 1.2286355632555e-311ps\n",
      "Na+ (charged 1.0) and P (charged 1.1659000016463343) were distant from 2.65A at 1.2286355632555e-311ps\n",
      "Na+ (charged 1.0) and P (charged 1.1659000016463343) were distant from 2.89A at 1.2286355632555e-311ps\n",
      "Na+ (charged 1.0) and P (charged 1.1659000016463343) were distant from 2.47A at 1.2286355632555e-311ps\n",
      "Na+ (charged 1.0) and P (charged 1.1659000016463343) were distant from 2.63A at 1.2286355632555e-311ps\n",
      "Na+ (charged 1.0) and P (charged 1.1659000016463343) were distant from 2.94A at 1.2286355632555e-311ps\n",
      "Na+ (charged 1.0) and P (charged 1.1659000016463343) were distant from 3.15A at 1.2286355632555e-311ps\n",
      "Na+ (charged 1.0) and P (charged 1.1659000016463343) were distant from 3.28A at 1.2286355632555e-311ps\n",
      "Na+ (charged 1.0) and P (charged 1.1659000016463343) were distant from 3.35A at 1.2286355632555e-311ps\n",
      "Na+ (charged 1.0) and P (charged 1.1659000016463343) were distant from 3.70A at 1.2286355632555e-311ps\n",
      "Na+ (charged 1.0) and P (charged 1.1659000016463343) were distant from 3.80A at 1.2286355632555e-311ps\n",
      "Na+ (charged 1.0) and P (charged 1.1659000016463343) were distant from 3.76A at 1.2286355632555e-311ps\n",
      "Na+ (charged 1.0) and P (charged 1.1659000016463343) were distant from 3.81A at 1.2286355632555e-311ps\n",
      "Na+ (charged 1.0) and P (charged 1.1659000016463343) were distant from 3.55A at 1.2286355632555e-311ps\n",
      "Na+ (charged 1.0) and P (charged 1.1659000016463343) were distant from 3.50A at 1.2286355632555e-311ps\n",
      "Na+ (charged 1.0) and P (charged 1.1659000016463343) were distant from 3.57A at 1.2286355632555e-311ps\n",
      "Na+ (charged 1.0) and P (charged 1.1659000016463343) were distant from 3.26A at 1.2286355632555e-311ps\n",
      "Na+ (charged 1.0) and P (charged 1.1659000016463343) were distant from 2.94A at 1.2286355632555e-311ps\n",
      "Na+ (charged 1.0) and P (charged 1.1659000016463343) were distant from 2.67A at 1.2286355632555e-311ps\n",
      "Na+ (charged 1.0) and P (charged 1.1659000016463343) were distant from 2.62A at 1.2286355632555e-311ps\n",
      "Na+ (charged 1.0) and P (charged 1.1659000016463343) were distant from 3.03A at 1.2286355632555e-311ps\n",
      "Na+ (charged 1.0) and P (charged 1.1659000016463343) were distant from 2.87A at 1.2286355632555e-311ps\n",
      "Na+ (charged 1.0) and P (charged 1.1659000016463343) were distant from 2.59A at 1.2286355632555e-311ps\n",
      "Na+ (charged 1.0) and P (charged 1.1659000016463343) were distant from 2.87A at 1.2286355632555e-311ps\n",
      "Na+ (charged 1.0) and P (charged 1.1659000016463343) were distant from 2.39A at 1.2286355632555e-311ps\n",
      "Na+ (charged 1.0) and P (charged 1.1659000016463343) were distant from 2.66A at 1.2286355632555e-311ps\n",
      "Na+ (charged 1.0) and P (charged 1.1659000016463343) were distant from 2.89A at 1.2286355632555e-311ps\n",
      "Na+ (charged 1.0) and P (charged 1.1659000016463343) were distant from 2.64A at 1.2286355632555e-311ps\n",
      "Na+ (charged 1.0) and P (charged 1.1659000016463343) were distant from 2.51A at 1.2286355632555e-311ps\n",
      "Na+ (charged 1.0) and P (charged 1.1659000016463343) were distant from 2.60A at 1.2286355632555e-311ps\n",
      "Na+ (charged 1.0) and P (charged 1.1659000016463343) were distant from 2.46A at 1.2286355632555e-311ps\n",
      "Na+ (charged 1.0) and P (charged 1.1659000016463343) were distant from 2.67A at 1.2286355632555e-311ps\n",
      "Na+ (charged 1.0) and P (charged 1.1659000016463343) were distant from 2.76A at 1.2286355632555e-311ps\n",
      "Na+ (charged 1.0) and P (charged 1.1659000016463343) were distant from 2.64A at 1.2286355632555e-311ps\n",
      "Na+ (charged 1.0) and P (charged 1.1659000016463343) were distant from 2.87A at 1.2286355632555e-311ps\n",
      "Na+ (charged 1.0) and P (charged 1.1659000016463343) were distant from 2.82A at 1.2286355632555e-311ps\n",
      "Na+ (charged 1.0) and P (charged 1.1659000016463343) were distant from 3.00A at 1.2286355632555e-311ps\n",
      "Na+ (charged 1.0) and P (charged 1.1659000016463343) were distant from 2.73A at 1.2286355632555e-311ps\n",
      "Na+ (charged 1.0) and P (charged 1.1659000016463343) were distant from 2.60A at 1.2286355632555e-311ps\n",
      "Na+ (charged 1.0) and P (charged 1.1659000016463343) were distant from 2.77A at 1.2286355632555e-311ps\n",
      "Na+ (charged 1.0) and P (charged 1.1659000016463343) were distant from 2.96A at 1.2286355632555e-311ps\n",
      "Na+ (charged 1.0) and P (charged 1.1659000016463343) were distant from 3.13A at 1.2286355632555e-311ps\n",
      "Na+ (charged 1.0) and P (charged 1.1659000016463343) were distant from 3.02A at 1.2286355632555e-311ps\n",
      "Na+ (charged 1.0) and P (charged 1.1659000016463343) were distant from 2.60A at 1.2286355632555e-311ps\n",
      "Na+ (charged 1.0) and P (charged 1.1659000016463343) were distant from 2.99A at 1.2286355632555e-311ps\n",
      "Na+ (charged 1.0) and P (charged 1.1659000016463343) were distant from 2.72A at 1.2286355632555e-311ps\n",
      "Na+ (charged 1.0) and P (charged 1.1659000016463343) were distant from 3.05A at 1.2286355632555e-311ps\n",
      "Na+ (charged 1.0) and P (charged 1.1659000016463343) were distant from 2.74A at 1.2286355632555e-311ps\n",
      "Na+ (charged 1.0) and P (charged 1.1659000016463343) were distant from 2.66A at 1.2286355632555e-311ps\n",
      "Na+ (charged 1.0) and P (charged 1.1659000016463343) were distant from 2.84A at 1.2286355632555e-311ps\n",
      "Na+ (charged 1.0) and P (charged 1.1659000016463343) were distant from 2.44A at 1.2286355632555e-311ps\n",
      "Na+ (charged 1.0) and P (charged 1.1659000016463343) were distant from 2.76A at 1.2286355632555e-311ps\n",
      "Na+ (charged 1.0) and P (charged 1.1659000016463343) were distant from 2.35A at 1.2286355632555e-311ps\n",
      "Na+ (charged 1.0) and P (charged 1.1659000016463343) were distant from 2.68A at 1.2286355632555e-311ps\n",
      "Na+ (charged 1.0) and P (charged 1.1659000016463343) were distant from 2.44A at 1.2286355632555e-311ps\n",
      "Na+ (charged 1.0) and P (charged 1.1659000016463343) were distant from 3.06A at 1.2286355632555e-311ps\n",
      "Na+ (charged 1.0) and P (charged 1.1659000016463343) were distant from 2.70A at 1.2286355632555e-311ps\n",
      "Na+ (charged 1.0) and P (charged 1.1659000016463343) were distant from 2.94A at 1.2286355632555e-311ps\n",
      "Na+ (charged 1.0) and P (charged 1.1659000016463343) were distant from 2.52A at 1.2286355632555e-311ps\n",
      "Na+ (charged 1.0) and P (charged 1.1659000016463343) were distant from 2.59A at 1.2286355632555e-311ps\n",
      "Na+ (charged 1.0) and P (charged 1.1659000016463343) were distant from 2.39A at 1.2286355632555e-311ps\n",
      "Na+ (charged 1.0) and P (charged 1.1659000016463343) were distant from 2.45A at 1.2286355632555e-311ps\n",
      "Na+ (charged 1.0) and P (charged 1.1659000016463343) were distant from 2.58A at 1.2286355632555e-311ps\n",
      "Na+ (charged 1.0) and P (charged 1.1659000016463343) were distant from 2.97A at 1.2286355632555e-311ps\n",
      "Na+ (charged 1.0) and P (charged 1.1659000016463343) were distant from 2.74A at 1.2286355632555e-311ps\n",
      "Na+ (charged 1.0) and P (charged 1.1659000016463343) were distant from 2.50A at 1.2286355632555e-311ps\n",
      "Na+ (charged 1.0) and P (charged 1.1659000016463343) were distant from 2.78A at 1.2286355632555e-311ps\n",
      "Na+ (charged 1.0) and P (charged 1.1659000016463343) were distant from 2.81A at 1.2286355632555e-311ps\n",
      "Na+ (charged 1.0) and P (charged 1.1659000016463343) were distant from 2.72A at 1.2286355632555e-311ps\n",
      "Na+ (charged 1.0) and P (charged 1.1659000016463343) were distant from 2.51A at 1.2286355632555e-311ps\n",
      "Na+ (charged 1.0) and P (charged 1.1659000016463343) were distant from 2.37A at 1.2286355632555e-311ps\n",
      "Na+ (charged 1.0) and P (charged 1.1659000016463343) were distant from 2.58A at 1.2286355632555e-311ps\n",
      "Na+ (charged 1.0) and P (charged 1.1659000016463343) were distant from 2.50A at 1.2286355632555e-311ps\n",
      "Na+ (charged 1.0) and P (charged 1.1659000016463343) were distant from 2.52A at 1.2286355632555e-311ps\n",
      "Na+ (charged 1.0) and P (charged 1.1659000016463343) were distant from 2.52A at 1.2286355632555e-311ps\n",
      "Na+ (charged 1.0) and P (charged 1.1659000016463343) were distant from 2.64A at 1.2286355632555e-311ps\n",
      "Na+ (charged 1.0) and P (charged 1.1659000016463343) were distant from 2.51A at 1.2286355632555e-311ps\n",
      "Na+ (charged 1.0) and P (charged 1.1659000016463343) were distant from 2.55A at 1.2286355632555e-311ps\n",
      "Na+ (charged 1.0) and P (charged 1.1659000016463343) were distant from 2.66A at 1.2286355632555e-311ps\n",
      "Na+ (charged 1.0) and P (charged 1.1659000016463343) were distant from 2.48A at 1.2286355632555e-311ps\n",
      "Na+ (charged 1.0) and P (charged 1.1659000016463343) were distant from 2.26A at 1.2286355632555e-311ps\n",
      "Na+ (charged 1.0) and P (charged 1.1659000016463343) were distant from 2.52A at 1.2286355632555e-311ps\n",
      "Na+ (charged 1.0) and P (charged 1.1659000016463343) were distant from 2.87A at 1.2286355632555e-311ps\n",
      "Na+ (charged 1.0) and P (charged 1.1659000016463343) were distant from 2.44A at 1.2286355632555e-311ps\n",
      "Na+ (charged 1.0) and P (charged 1.1659000016463343) were distant from 2.43A at 1.2286355632555e-311ps\n",
      "Na+ (charged 1.0) and P (charged 1.1659000016463343) were distant from 2.62A at 1.2286355632555e-311ps\n",
      "Na+ (charged 1.0) and P (charged 1.1659000016463343) were distant from 2.55A at 1.2286355632555e-311ps\n",
      "Na+ (charged 1.0) and P (charged 1.1659000016463343) were distant from 2.53A at 1.2286355632555e-311ps\n",
      "Na+ (charged 1.0) and P (charged 1.1659000016463343) were distant from 2.49A at 1.2286355632555e-311ps\n",
      "Na+ (charged 1.0) and P (charged 1.1659000016463343) were distant from 2.76A at 1.2286355632555e-311ps\n",
      "Na+ (charged 1.0) and P (charged 1.1659000016463343) were distant from 2.53A at 1.2286355632555e-311ps\n",
      "Na+ (charged 1.0) and P (charged 1.1659000016463343) were distant from 2.48A at 1.2286355632555e-311ps\n"
     ]
    },
    {
     "name": "stdout",
     "output_type": "stream",
     "text": [
      "Na+ (charged 1.0) and P (charged 1.1659000016463343) were distant from 3.95A at 4.66854965792987e-310ps\n",
      "Na+ (charged 1.0) and P (charged 1.1659000016463343) were distant from 3.85A at 4.66854965792987e-310ps\n",
      "Na+ (charged 1.0) and P (charged 1.1659000016463343) were distant from 3.45A at 4.66854965792987e-310ps\n",
      "Na+ (charged 1.0) and P (charged 1.1659000016463343) were distant from 3.99A at 4.66854965792987e-310ps\n",
      "Na+ (charged 1.0) and P (charged 1.1659000016463343) were distant from 3.94A at 4.66854965792987e-310ps\n",
      "Na+ (charged 1.0) and P (charged 1.1659000016463343) were distant from 3.75A at 4.66854965792987e-310ps\n",
      "Na+ (charged 1.0) and P (charged 1.1659000016463343) were distant from 4.00A at 4.66854965792987e-310ps\n",
      "Na+ (charged 1.0) and P (charged 1.1659000016463343) were distant from 3.99A at 4.66854965792987e-310ps\n",
      "Na+ (charged 1.0) and P (charged 1.1659000016463343) were distant from 3.93A at 4.66854965792987e-310ps\n",
      "Na+ (charged 1.0) and P (charged 1.1659000016463343) were distant from 3.93A at 4.66854965792987e-310ps\n",
      "Na+ (charged 1.0) and P (charged 1.1659000016463343) were distant from 3.93A at 4.66854965792987e-310ps\n",
      "Na+ (charged 1.0) and P (charged 1.1659000016463343) were distant from 3.81A at 4.66854965792987e-310ps\n",
      "Na+ (charged 1.0) and P (charged 1.1659000016463343) were distant from 3.99A at 4.66854965792987e-310ps\n",
      "Na+ (charged 1.0) and P (charged 1.1659000016463343) were distant from 3.96A at 4.66854965792987e-310ps\n",
      "Na+ (charged 1.0) and P (charged 1.1659000016463343) were distant from 3.96A at 4.66854965792987e-310ps\n",
      "Na+ (charged 1.0) and P (charged 1.1659000016463343) were distant from 3.93A at 4.66854965792987e-310ps\n",
      "Na+ (charged 1.0) and P (charged 1.1659000016463343) were distant from 3.97A at 4.66854965792987e-310ps\n",
      "Na+ (charged 1.0) and P (charged 1.1659000016463343) were distant from 3.86A at 4.66854965792987e-310ps\n",
      "Na+ (charged 1.0) and P (charged 1.1659000016463343) were distant from 3.92A at 4.66854965792987e-310ps\n",
      "Na+ (charged 1.0) and P (charged 1.1659000016463343) were distant from 4.00A at 4.66854965792987e-310ps\n",
      "Na+ (charged 1.0) and P (charged 1.1659000016463343) were distant from 3.76A at 4.66854965792987e-310ps\n",
      "Na+ (charged 1.0) and P (charged 1.1659000016463343) were distant from 3.89A at 4.66854965792987e-310ps\n",
      "Na+ (charged 1.0) and P (charged 1.1659000016463343) were distant from 3.96A at 4.66854965792987e-310ps\n",
      "Na+ (charged 1.0) and P (charged 1.1659000016463343) were distant from 3.91A at 4.66854965792987e-310ps\n",
      "Na+ (charged 1.0) and P (charged 1.1659000016463343) were distant from 3.97A at 4.66854965792987e-310ps\n",
      "Na+ (charged 1.0) and P (charged 1.1659000016463343) were distant from 3.94A at 4.66854965792987e-310ps\n",
      "Na+ (charged 1.0) and P (charged 1.1659000016463343) were distant from 3.85A at 4.66854965792987e-310ps\n",
      "Na+ (charged 1.0) and P (charged 1.1659000016463343) were distant from 3.97A at 4.66854965792987e-310ps\n",
      "Na+ (charged 1.0) and P (charged 1.1659000016463343) were distant from 3.99A at 4.66854965792987e-310ps\n",
      "Na+ (charged 1.0) and P (charged 1.1659000016463343) were distant from 3.98A at 4.66854965792987e-310ps\n",
      "Na+ (charged 1.0) and P (charged 1.1659000016463343) were distant from 3.85A at 4.66854965792987e-310ps\n",
      "Na+ (charged 1.0) and P (charged 1.1659000016463343) were distant from 3.88A at 4.66854965792987e-310ps\n",
      "Na+ (charged 1.0) and P (charged 1.1659000016463343) were distant from 3.91A at 4.66854965792987e-310ps\n",
      "Na+ (charged 1.0) and P (charged 1.1659000016463343) were distant from 3.91A at 4.66854965792987e-310ps\n",
      "Na+ (charged 1.0) and P (charged 1.1659000016463343) were distant from 3.99A at 4.66854965792987e-310ps\n",
      "Na+ (charged 1.0) and P (charged 1.1659000016463343) were distant from 3.55A at 4.66854965792987e-310ps\n",
      "Na+ (charged 1.0) and P (charged 1.1659000016463343) were distant from 3.80A at 4.66854965792987e-310ps\n",
      "Na+ (charged 1.0) and P (charged 1.1659000016463343) were distant from 3.82A at 4.66854965792987e-310ps\n",
      "Na+ (charged 1.0) and P (charged 1.1659000016463343) were distant from 3.93A at 4.66854965792987e-310ps\n",
      "Na+ (charged 1.0) and P (charged 1.1659000016463343) were distant from 3.52A at 4.66854965792987e-310ps\n",
      "Na+ (charged 1.0) and P (charged 1.1659000016463343) were distant from 3.76A at 4.66854965792987e-310ps\n",
      "Na+ (charged 1.0) and P (charged 1.1659000016463343) were distant from 3.85A at 4.66854965792987e-310ps\n",
      "Na+ (charged 1.0) and P (charged 1.1659000016463343) were distant from 3.90A at 4.66854965792987e-310ps\n",
      "Na+ (charged 1.0) and P (charged 1.1659000016463343) were distant from 3.82A at 4.66854965792987e-310ps\n",
      "Na+ (charged 1.0) and P (charged 1.1659000016463343) were distant from 3.56A at 4.66854965792987e-310ps\n",
      "Na+ (charged 1.0) and P (charged 1.1659000016463343) were distant from 3.79A at 4.66854965792987e-310ps\n",
      "Na+ (charged 1.0) and P (charged 1.1659000016463343) were distant from 3.88A at 1.2286355632555e-311ps\n",
      "Na+ (charged 1.0) and P (charged 1.1659000016463343) were distant from 3.65A at 1.2286355632555e-311ps\n",
      "Na+ (charged 1.0) and P (charged 1.1659000016463343) were distant from 3.60A at 1.2286355632555e-311ps\n",
      "Na+ (charged 1.0) and P (charged 1.1659000016463343) were distant from 3.87A at 1.2286355632555e-311ps\n",
      "Na+ (charged 1.0) and P (charged 1.1659000016463343) were distant from 3.94A at 1.2286355632555e-311ps\n",
      "Na+ (charged 1.0) and P (charged 1.1659000016463343) were distant from 3.99A at 1.2286355632555e-311ps\n",
      "Na+ (charged 1.0) and P (charged 1.1659000016463343) were distant from 3.78A at 1.2286355632555e-311ps\n",
      "Na+ (charged 1.0) and P (charged 1.1659000016463343) were distant from 3.89A at 1.2286355632555e-311ps\n",
      "Na+ (charged 1.0) and P (charged 1.1659000016463343) were distant from 3.66A at 1.2286355632555e-311ps\n",
      "Na+ (charged 1.0) and P (charged 1.1659000016463343) were distant from 3.41A at 1.2286355632555e-311ps\n",
      "Na+ (charged 1.0) and P (charged 1.1659000016463343) were distant from 3.66A at 1.2286355632555e-311ps\n",
      "Na+ (charged 1.0) and P (charged 1.1659000016463343) were distant from 3.57A at 1.2286355632555e-311ps\n",
      "Na+ (charged 1.0) and P (charged 1.1659000016463343) were distant from 3.85A at 1.2286355632555e-311ps\n",
      "Na+ (charged 1.0) and P (charged 1.1659000016463343) were distant from 3.70A at 1.2286355632555e-311ps\n",
      "Na+ (charged 1.0) and P (charged 1.1659000016463343) were distant from 3.50A at 1.2286355632555e-311ps\n",
      "Na+ (charged 1.0) and P (charged 1.1659000016463343) were distant from 3.55A at 1.2286355632555e-311ps\n",
      "Na+ (charged 1.0) and P (charged 1.1659000016463343) were distant from 3.62A at 1.2286355632555e-311ps\n",
      "Na+ (charged 1.0) and P (charged 1.1659000016463343) were distant from 3.08A at 1.2286355632555e-311ps\n",
      "Na+ (charged 1.0) and P (charged 1.1659000016463343) were distant from 3.01A at 1.2286355632555e-311ps\n",
      "Na+ (charged 1.0) and P (charged 1.1659000016463343) were distant from 3.02A at 1.2286355632555e-311ps\n",
      "Na+ (charged 1.0) and P (charged 1.1659000016463343) were distant from 3.37A at 1.2286355632555e-311ps\n",
      "Na+ (charged 1.0) and P (charged 1.1659000016463343) were distant from 3.67A at 1.2286355632555e-311ps\n",
      "Na+ (charged 1.0) and P (charged 1.1659000016463343) were distant from 3.73A at 1.2286355632555e-311ps\n",
      "Na+ (charged 1.0) and P (charged 1.1659000016463343) were distant from 3.63A at 1.2286355632555e-311ps\n",
      "Na+ (charged 1.0) and P (charged 1.1659000016463343) were distant from 3.39A at 1.2286355632555e-311ps\n",
      "Na+ (charged 1.0) and P (charged 1.1659000016463343) were distant from 3.12A at 1.2286355632555e-311ps\n",
      "Na+ (charged 1.0) and P (charged 1.1659000016463343) were distant from 3.29A at 1.2286355632555e-311ps\n",
      "Na+ (charged 1.0) and P (charged 1.1659000016463343) were distant from 3.15A at 1.2286355632555e-311ps\n",
      "Na+ (charged 1.0) and P (charged 1.1659000016463343) were distant from 3.07A at 1.2286355632555e-311ps\n",
      "Na+ (charged 1.0) and P (charged 1.1659000016463343) were distant from 3.34A at 1.2286355632555e-311ps\n",
      "Na+ (charged 1.0) and P (charged 1.1659000016463343) were distant from 3.03A at 1.2286355632555e-311ps\n",
      "Na+ (charged 1.0) and P (charged 1.1659000016463343) were distant from 2.86A at 1.2286355632555e-311ps\n",
      "Na+ (charged 1.0) and P (charged 1.1659000016463343) were distant from 3.12A at 1.2286355632555e-311ps\n",
      "Na+ (charged 1.0) and P (charged 1.1659000016463343) were distant from 2.69A at 1.2286355632555e-311ps\n",
      "Na+ (charged 1.0) and P (charged 1.1659000016463343) were distant from 2.67A at 1.2286355632555e-311ps\n",
      "Na+ (charged 1.0) and P (charged 1.1659000016463343) were distant from 2.75A at 1.2286355632555e-311ps\n",
      "Na+ (charged 1.0) and P (charged 1.1659000016463343) were distant from 2.69A at 1.2286355632555e-311ps\n",
      "Na+ (charged 1.0) and P (charged 1.1659000016463343) were distant from 2.49A at 1.2286355632555e-311ps\n",
      "Na+ (charged 1.0) and P (charged 1.1659000016463343) were distant from 3.10A at 1.2286355632555e-311ps\n",
      "Na+ (charged 1.0) and P (charged 1.1659000016463343) were distant from 2.51A at 1.2286355632555e-311ps\n",
      "Na+ (charged 1.0) and P (charged 1.1659000016463343) were distant from 2.79A at 1.2286355632555e-311ps\n",
      "Na+ (charged 1.0) and P (charged 1.1659000016463343) were distant from 3.13A at 1.2286355632555e-311ps\n",
      "Na+ (charged 1.0) and P (charged 1.1659000016463343) were distant from 2.91A at 1.2286355632555e-311ps\n",
      "Na+ (charged 1.0) and P (charged 1.1659000016463343) were distant from 2.56A at 1.2286355632555e-311ps\n",
      "Na+ (charged 1.0) and P (charged 1.1659000016463343) were distant from 2.72A at 1.2286355632555e-311ps\n",
      "Na+ (charged 1.0) and P (charged 1.1659000016463343) were distant from 2.87A at 1.2286355632555e-311ps\n",
      "Na+ (charged 1.0) and P (charged 1.1659000016463343) were distant from 2.75A at 1.2286355632555e-311ps\n",
      "Na+ (charged 1.0) and P (charged 1.1659000016463343) were distant from 2.89A at 1.2286355632555e-311ps\n",
      "Na+ (charged 1.0) and P (charged 1.1659000016463343) were distant from 2.67A at 1.2286355632555e-311ps\n",
      "Na+ (charged 1.0) and P (charged 1.1659000016463343) were distant from 2.69A at 1.2286355632555e-311ps\n",
      "Na+ (charged 1.0) and P (charged 1.1659000016463343) were distant from 2.63A at 1.2286355632555e-311ps\n",
      "Na+ (charged 1.0) and P (charged 1.1659000016463343) were distant from 2.88A at 1.2286355632555e-311ps\n",
      "Na+ (charged 1.0) and P (charged 1.1659000016463343) were distant from 2.79A at 1.2286355632555e-311ps\n",
      "Na+ (charged 1.0) and P (charged 1.1659000016463343) were distant from 2.91A at 1.2286355632555e-311ps\n",
      "Na+ (charged 1.0) and P (charged 1.1659000016463343) were distant from 2.72A at 1.2286355632555e-311ps\n",
      "Na+ (charged 1.0) and P (charged 1.1659000016463343) were distant from 2.77A at 1.2286355632555e-311ps\n",
      "Na+ (charged 1.0) and P (charged 1.1659000016463343) were distant from 2.64A at 1.2286355632555e-311ps\n",
      "Na+ (charged 1.0) and P (charged 1.1659000016463343) were distant from 2.66A at 1.2286355632555e-311ps\n",
      "Na+ (charged 1.0) and P (charged 1.1659000016463343) were distant from 2.91A at 1.2286355632555e-311ps\n",
      "Na+ (charged 1.0) and P (charged 1.1659000016463343) were distant from 2.77A at 1.2286355632555e-311ps\n",
      "Na+ (charged 1.0) and P (charged 1.1659000016463343) were distant from 2.93A at 1.2286355632555e-311ps\n",
      "Na+ (charged 1.0) and P (charged 1.1659000016463343) were distant from 2.76A at 1.2286355632555e-311ps\n",
      "Na+ (charged 1.0) and P (charged 1.1659000016463343) were distant from 2.91A at 1.2286355632555e-311ps\n",
      "Na+ (charged 1.0) and P (charged 1.1659000016463343) were distant from 2.69A at 1.2286355632555e-311ps\n",
      "Na+ (charged 1.0) and P (charged 1.1659000016463343) were distant from 2.67A at 1.2286355632555e-311ps\n",
      "Na+ (charged 1.0) and P (charged 1.1659000016463343) were distant from 3.28A at 1.2286355632555e-311ps\n",
      "Na+ (charged 1.0) and P (charged 1.1659000016463343) were distant from 3.16A at 1.2286355632555e-311ps\n",
      "Na+ (charged 1.0) and P (charged 1.1659000016463343) were distant from 3.34A at 1.2286355632555e-311ps\n",
      "Na+ (charged 1.0) and P (charged 1.1659000016463343) were distant from 3.22A at 1.2286355632555e-311ps\n",
      "Na+ (charged 1.0) and P (charged 1.1659000016463343) were distant from 3.33A at 1.2286355632555e-311ps\n",
      "Na+ (charged 1.0) and P (charged 1.1659000016463343) were distant from 3.43A at 1.2286355632555e-311ps\n",
      "Na+ (charged 1.0) and P (charged 1.1659000016463343) were distant from 2.91A at 1.2286355632555e-311ps\n",
      "Na+ (charged 1.0) and P (charged 1.1659000016463343) were distant from 2.72A at 1.2286355632555e-311ps\n",
      "Na+ (charged 1.0) and P (charged 1.1659000016463343) were distant from 2.52A at 1.2286355632555e-311ps\n",
      "Na+ (charged 1.0) and P (charged 1.1659000016463343) were distant from 2.38A at 1.2286355632555e-311ps\n",
      "Na+ (charged 1.0) and P (charged 1.1659000016463343) were distant from 2.30A at 1.2286355632555e-311ps\n",
      "Na+ (charged 1.0) and P (charged 1.1659000016463343) were distant from 2.72A at 1.2286355632555e-311ps\n",
      "Na+ (charged 1.0) and P (charged 1.1659000016463343) were distant from 2.57A at 1.2286355632555e-311ps\n",
      "Na+ (charged 1.0) and P (charged 1.1659000016463343) were distant from 2.71A at 1.2286355632555e-311ps\n",
      "Na+ (charged 1.0) and P (charged 1.1659000016463343) were distant from 2.70A at 1.2286355632555e-311ps\n",
      "Na+ (charged 1.0) and P (charged 1.1659000016463343) were distant from 2.59A at 1.2286355632555e-311ps\n",
      "Na+ (charged 1.0) and P (charged 1.1659000016463343) were distant from 2.46A at 1.2286355632555e-311ps\n",
      "Na+ (charged 1.0) and P (charged 1.1659000016463343) were distant from 2.33A at 1.2286355632555e-311ps\n",
      "Na+ (charged 1.0) and P (charged 1.1659000016463343) were distant from 2.54A at 1.2286355632555e-311ps\n",
      "Na+ (charged 1.0) and P (charged 1.1659000016463343) were distant from 2.96A at 1.2286355632555e-311ps\n",
      "Na+ (charged 1.0) and P (charged 1.1659000016463343) were distant from 3.29A at 1.2286355632555e-311ps\n",
      "Na+ (charged 1.0) and P (charged 1.1659000016463343) were distant from 3.04A at 1.2286355632555e-311ps\n",
      "Na+ (charged 1.0) and P (charged 1.1659000016463343) were distant from 2.46A at 1.2286355632555e-311ps\n",
      "Na+ (charged 1.0) and P (charged 1.1659000016463343) were distant from 2.78A at 1.2286355632555e-311ps\n",
      "Na+ (charged 1.0) and P (charged 1.1659000016463343) were distant from 2.63A at 1.2286355632555e-311ps\n",
      "Na+ (charged 1.0) and P (charged 1.1659000016463343) were distant from 2.56A at 1.2286355632555e-311ps\n",
      "Na+ (charged 1.0) and P (charged 1.1659000016463343) were distant from 2.43A at 1.2286355632555e-311ps\n",
      "Na+ (charged 1.0) and P (charged 1.1659000016463343) were distant from 2.55A at 1.2286355632555e-311ps\n",
      "Na+ (charged 1.0) and P (charged 1.1659000016463343) were distant from 2.60A at 1.2286355632555e-311ps\n",
      "Na+ (charged 1.0) and P (charged 1.1659000016463343) were distant from 2.54A at 1.2286355632555e-311ps\n",
      "Na+ (charged 1.0) and P (charged 1.1659000016463343) were distant from 2.46A at 1.2286355632555e-311ps\n",
      "Na+ (charged 1.0) and P (charged 1.1659000016463343) were distant from 2.54A at 1.2286355632555e-311ps\n",
      "Na+ (charged 1.0) and P (charged 1.1659000016463343) were distant from 2.52A at 1.2286355632555e-311ps\n",
      "Na+ (charged 1.0) and Na+ (charged 1.0) were distant from 3.90A at 4.66854965792987e-310ps\n",
      "Na+ (charged 1.0) and Na+ (charged 1.0) were distant from 3.82A at 4.66854965792987e-310ps\n",
      "Na+ (charged 1.0) and Na+ (charged 1.0) were distant from 3.82A at 4.66854965792987e-310ps\n",
      "Na+ (charged 1.0) and Na+ (charged 1.0) were distant from 3.68A at 4.66854965792987e-310ps\n",
      "Na+ (charged 1.0) and Na+ (charged 1.0) were distant from 3.55A at 4.66854965792987e-310ps\n",
      "Na+ (charged 1.0) and Na+ (charged 1.0) were distant from 3.60A at 4.66854965792987e-310ps\n",
      "Na+ (charged 1.0) and Na+ (charged 1.0) were distant from 3.69A at 4.66854965792987e-310ps\n",
      "Na+ (charged 1.0) and Na+ (charged 1.0) were distant from 3.78A at 4.66854965792987e-310ps\n",
      "Na+ (charged 1.0) and Na+ (charged 1.0) were distant from 3.73A at 4.66854965792987e-310ps\n",
      "Na+ (charged 1.0) and Na+ (charged 1.0) were distant from 3.47A at 4.66854965792987e-310ps\n",
      "Na+ (charged 1.0) and Na+ (charged 1.0) were distant from 3.69A at 4.66854965792987e-310ps\n",
      "Na+ (charged 1.0) and Na+ (charged 1.0) were distant from 3.65A at 4.66854965792987e-310ps\n",
      "Na+ (charged 1.0) and Na+ (charged 1.0) were distant from 3.95A at 4.66854965792987e-310ps\n",
      "Na+ (charged 1.0) and Na+ (charged 1.0) were distant from 3.70A at 4.66854965792987e-310ps\n",
      "Na+ (charged 1.0) and Na+ (charged 1.0) were distant from 3.91A at 4.66854965792987e-310ps\n",
      "Na+ (charged 1.0) and Na+ (charged 1.0) were distant from 3.91A at 4.66854965792987e-310ps\n",
      "Na+ (charged 1.0) and Na+ (charged 1.0) were distant from 3.95A at 4.66854965792987e-310ps\n",
      "Na+ (charged 1.0) and Na+ (charged 1.0) were distant from 3.99A at 4.66854965792987e-310ps\n",
      "Na+ (charged 1.0) and Na+ (charged 1.0) were distant from 3.42A at 4.66854965792987e-310ps\n"
     ]
    }
   ],
   "source": [
    "for a1 in tr.topology.atoms:\n",
    "    for a2 in tr.topology.atoms:\n",
    "        if (a1.charge >= 1) and (a2.charge >= 1):\n",
    "            i1, i2 = a1.index, a2.index\n",
    "            if i1 == i2: continue\n",
    "            for frame in tr[f'@{i1},{i2}']:\n",
    "                distance = np.sqrt(np.sum([(x-y)**2 for x,y in zip(*frame.coordinates)]))\n",
    "                if distance <= 4.0:\n",
    "                    print(f\"{a1.name} (charged {a1.charge}) and {a2.name} (charged {a2.charge}) were distant from {distance:.2f}A at {frame.time}ps\")"
   ]
  },
  {
   "cell_type": "markdown",
   "metadata": {},
   "source": [
    "Most interactions are trivial to detect, except HBond donor (detect when O or N are bonded with a H) but should be easy, and aromatic interactions (the atom type highly depends on the force-field). It would be easier to convert every ligand or residue to an RDKit molecule and keep the current implementation (SMART queries)."
   ]
  },
  {
   "cell_type": "markdown",
   "metadata": {},
   "source": [
    "# converting pytraj frame to RDKit mol"
   ]
  },
  {
   "cell_type": "code",
   "execution_count": 241,
   "metadata": {
    "ExecuteTime": {
     "end_time": "2020-01-13T15:36:27.159615Z",
     "start_time": "2020-01-13T15:36:27.131679Z"
    }
   },
   "outputs": [],
   "source": [
    "from rdkit import Chem\n",
    "from rdkit.Chem import AllChem\n",
    "from rdkit.Chem.Draw import IPythonConsole\n",
    "ptable = Chem.GetPeriodicTable()"
   ]
  },
  {
   "cell_type": "code",
   "execution_count": 4,
   "metadata": {
    "ExecuteTime": {
     "end_time": "2020-01-08T14:34:41.845242Z",
     "start_time": "2020-01-08T14:34:41.804604Z"
    }
   },
   "outputs": [
    {
     "data": {
      "text/plain": [
       "pytraj.Trajectory, 9 frames: \n",
       "Size: 0.000010 (GB)\n",
       "<Topology: 50 atoms, 1 residues, 1 mols, non-PBC>\n",
       "           "
      ]
     },
     "execution_count": 4,
     "metadata": {},
     "output_type": "execute_result"
    }
   ],
   "source": [
    "with NamedTemporaryFile(mode='w', encoding='utf-8') as f:\n",
    "    mol2_block = pdbqt_to_mol2(\"/data/backup/cicada/cbouysset/workspace/bitter/t2r16/docking/output/5JQH/T2R16_HUMAN.B99990041/ligand_001/docking_poses.pdbqt\")\n",
    "    f.write(mol2_block)\n",
    "    traj = pt.load(f.name)\n",
    "\n",
    "traj"
   ]
  },
  {
   "cell_type": "code",
   "execution_count": 5,
   "metadata": {
    "ExecuteTime": {
     "end_time": "2020-01-08T14:34:42.310385Z",
     "start_time": "2020-01-08T14:34:42.304920Z"
    }
   },
   "outputs": [],
   "source": [
    "for frame in traj:\n",
    "    pass"
   ]
  },
  {
   "cell_type": "code",
   "execution_count": 6,
   "metadata": {
    "ExecuteTime": {
     "end_time": "2020-01-08T14:34:43.470668Z",
     "start_time": "2020-01-08T14:34:43.425480Z"
    }
   },
   "outputs": [
    {
     "data": {
      "image/png": "[encoded data removed]",
      "text/plain": [
       "<rdkit.Chem.rdchem.RWMol at 0x7f3a95f0d3e8>"
      ]
     },
     "execution_count": 6,
     "metadata": {},
     "output_type": "execute_result"
    }
   ],
   "source": [
    "# for a ligand\n",
    "\n",
    "mol = Chem.RWMol()\n",
    "conf = Chem.Conformer(traj.topology.n_atoms)\n",
    "for atom in traj.topology.atoms:\n",
    "    # create atom\n",
    "    a = Chem.Atom(atom.atomic_number)\n",
    "    # add atom name\n",
    "    a.SetProp(\"_name\", atom.name)\n",
    "    # add residue name\n",
    "    a.SetMonomerInfo(Chem.AtomPDBResidueInfo(atom.resname))\n",
    "    # set charge\n",
    "    a.SetFormalCharge(int(atom.charge))\n",
    "    a.SetDoubleProp(\"_charge\", atom.charge)\n",
    "    # add atom to molecule\n",
    "    a.SetNoImplicit(True)\n",
    "    i = mol.AddAtom(a)\n",
    "    # add coordinates\n",
    "    xyz = Chem.rdGeometry.Point3D(*frame.xyz[i])\n",
    "    conf.SetAtomPosition(i, xyz)\n",
    "mol.AddConformer(conf)\n",
    "mol.UpdatePropertyCache()\n",
    "\n",
    "for bond in traj.topology.bonds:\n",
    "    # get atom indices for the bond\n",
    "    i1, i2 = [int(i) for i in bond.indices]\n",
    "    # add bond (no need for bond type)\n",
    "    mol.AddBond(i1, i2, Chem.BondType.UNSPECIFIED)\n",
    "mol.UpdatePropertyCache()\n",
    "Chem.SanitizeMol(mol)\n",
    "\n",
    "mol"
   ]
  },
  {
   "cell_type": "code",
   "execution_count": 18,
   "metadata": {
    "ExecuteTime": {
     "end_time": "2020-01-08T14:42:33.198991Z",
     "start_time": "2020-01-08T14:42:33.189650Z"
    }
   },
   "outputs": [
    {
     "data": {
      "text/plain": [
       "2"
      ]
     },
     "execution_count": 18,
     "metadata": {},
     "output_type": "execute_result"
    }
   ],
   "source": [
    "mol.AddConformer(conf, assignId=True)"
   ]
  },
  {
   "cell_type": "code",
   "execution_count": 21,
   "metadata": {
    "ExecuteTime": {
     "end_time": "2020-01-08T14:42:44.348894Z",
     "start_time": "2020-01-08T14:42:44.340245Z"
    }
   },
   "outputs": [
    {
     "data": {
      "text/plain": [
       "<rdkit.Chem.rdchem.Conformer at 0x7f3a95f0c990>"
      ]
     },
     "execution_count": 21,
     "metadata": {},
     "output_type": "execute_result"
    }
   ],
   "source": [
    "mol.GetConformer(1)"
   ]
  },
  {
   "cell_type": "code",
   "execution_count": 22,
   "metadata": {
    "ExecuteTime": {
     "end_time": "2020-01-08T15:29:54.778697Z",
     "start_time": "2020-01-08T15:29:54.773017Z"
    }
   },
   "outputs": [],
   "source": [
    "mol.RemoveConformer(1)"
   ]
  },
  {
   "cell_type": "code",
   "execution_count": 23,
   "metadata": {
    "ExecuteTime": {
     "end_time": "2020-01-08T15:30:53.891243Z",
     "start_time": "2020-01-08T15:30:53.883490Z"
    }
   },
   "outputs": [
    {
     "data": {
      "text/plain": [
       "<FrameIterator with start=0, stop=9, step=1, n_frames=9, \n",
       "frame_indices=None, \n",
       "mask=None, autoimage=False, rmsfit=None, copy=False> "
      ]
     },
     "execution_count": 23,
     "metadata": {},
     "output_type": "execute_result"
    }
   ],
   "source": [
    "traj.iterframe()"
   ]
  },
  {
   "cell_type": "markdown",
   "metadata": {
    "ExecuteTime": {
     "end_time": "2020-01-09T10:22:31.588324Z",
     "start_time": "2020-01-09T10:22:31.582412Z"
    }
   },
   "source": [
    "# code"
   ]
  },
  {
   "cell_type": "code",
   "execution_count": 1,
   "metadata": {
    "ExecuteTime": {
     "end_time": "2020-02-12T18:06:30.875660Z",
     "start_time": "2020-02-12T18:06:30.847819Z"
    }
   },
   "outputs": [],
   "source": [
    "%load_ext autoreload\n",
    "%autoreload 2"
   ]
  },
  {
   "cell_type": "code",
   "execution_count": 2,
   "metadata": {
    "ExecuteTime": {
     "end_time": "2020-02-12T18:06:31.594105Z",
     "start_time": "2020-02-12T18:06:31.067201Z"
    }
   },
   "outputs": [],
   "source": [
    "import prolif\n",
    "from rdkit import Chem\n",
    "from rdkit.Chem.Draw import IPythonConsole\n",
    "import pytraj as pt\n",
    "import mdtraj as md\n",
    "import numpy as np\n",
    "import math\n",
    "import copy\n",
    "from openbabel import pybel\n",
    "from tempfile import NamedTemporaryFile\n",
    "from IPython.display import display, display_png\n",
    "PERIODIC_TABLE = Chem.GetPeriodicTable()\n",
    "import logging\n",
    "pil_logger = logging.getLogger('PIL')\n",
    "pil_logger.setLevel(logging.INFO)"
   ]
  },
  {
   "cell_type": "code",
   "execution_count": 3,
   "metadata": {
    "ExecuteTime": {
     "end_time": "2020-02-10T18:54:37.323931Z",
     "start_time": "2020-02-10T18:54:37.294541Z"
    }
   },
   "outputs": [],
   "source": [
    "trajfile = \"/nfs/jeroboam/cedric/bitter/MD/T2R46/run1/cpx_05_heat.nc\"; kwargs = {\"top\":\"/nfs/jeroboam/cedric/bitter/MD/T2R46/run1/cpx.parm7\"}\n",
    "#trajfile = \"/home/cbouy/Downloads/SMM2_CK571_MD.mol2\"; kwargs={}"
   ]
  },
  {
   "cell_type": "code",
   "execution_count": 5,
   "metadata": {
    "ExecuteTime": {
     "end_time": "2020-02-06T10:30:14.331986Z",
     "start_time": "2020-02-06T10:30:09.557853Z"
    },
    "deletable": false,
    "editable": false,
    "run_control": {
     "frozen": true
    }
   },
   "outputs": [
    {
     "data": {
      "text/plain": [
       "((20, 82415, 3),\n",
       " <mdtraj.Trajectory with 20 frames, 82415 atoms, 16353 residues, and unitcells at 0x7f23d6306278>)"
      ]
     },
     "execution_count": 5,
     "metadata": {},
     "output_type": "execute_result"
    }
   ],
   "source": [
    "trajm = md.load(trajfile, **kwargs)\n",
    "trajm.xyz.shape, trajm"
   ]
  },
  {
   "cell_type": "code",
   "execution_count": null,
   "metadata": {
    "ExecuteTime": {
     "end_time": "2020-02-06T10:31:34.956379Z",
     "start_time": "2020-02-06T10:30:46.773463Z"
    },
    "deletable": false,
    "editable": false,
    "run_control": {
     "frozen": true
    }
   },
   "outputs": [],
   "source": [
    "molm = prolif.Trajectory.from_mdtraj(trajm[:2])\n",
    "for mm in molm: pass\n",
    "Chem.Draw.MolToImage(molm, size=(600,600))"
   ]
  },
  {
   "cell_type": "code",
   "execution_count": 4,
   "metadata": {
    "ExecuteTime": {
     "end_time": "2020-02-06T18:01:17.486140Z",
     "start_time": "2020-02-06T18:01:17.018273Z"
    }
   },
   "outputs": [
    {
     "data": {
      "text/plain": [
       "((20, 82415, 3), pytraj.Trajectory, 20 frames: \n",
       " Size: 0.036842 (GB)\n",
       " <Topology: 82415 atoms, 16353 residues, 15590 mols, PBC with box type = ortho>\n",
       "            )"
      ]
     },
     "execution_count": 4,
     "metadata": {},
     "output_type": "execute_result"
    }
   ],
   "source": [
    "traj = pt.load(trajfile, **kwargs)\n",
    "traj.xyz.shape, traj"
   ]
  },
  {
   "cell_type": "code",
   "execution_count": 5,
   "metadata": {
    "ExecuteTime": {
     "end_time": "2020-02-06T18:01:17.757460Z",
     "start_time": "2020-02-06T18:01:17.707993Z"
    }
   },
   "outputs": [
    {
     "data": {
      "image/png": "[encoded data removed]",
      "text/plain": [
       "<prolif.ligand.Ligand: 20 frame(s), 38 atoms, 37 bonds, 0 rings at 0x7fc3b83ff2d0>"
      ]
     },
     "execution_count": 5,
     "metadata": {},
     "output_type": "execute_result"
    }
   ],
   "source": [
    "lig = prolif.Ligand.from_pytraj(traj[\":294\"])\n",
    "lig"
   ]
  },
  {
   "cell_type": "code",
   "execution_count": 6,
   "metadata": {
    "ExecuteTime": {
     "end_time": "2020-02-06T18:01:18.477421Z",
     "start_time": "2020-02-06T18:01:18.443549Z"
    }
   },
   "outputs": [
    {
     "data": {
      "image/png": "[encoded data removed]",
      "text/plain": [
       "<prolif.frame.Frame: frame #0 with centroid [84.88216247558594, 35.167925643920896, 26.561857318878175] at 0x7fc3b83ff378>"
      ]
     },
     "execution_count": 6,
     "metadata": {},
     "output_type": "execute_result"
    }
   ],
   "source": [
    "frame = next(iter(lig))\n",
    "frame"
   ]
  },
  {
   "cell_type": "code",
   "execution_count": 7,
   "metadata": {
    "ExecuteTime": {
     "end_time": "2020-02-06T18:01:19.126280Z",
     "start_time": "2020-02-06T18:01:19.092555Z"
    }
   },
   "outputs": [
    {
     "data": {
      "image/png": "[encoded data removed]",
      "text/plain": [
       "<prolif.residue.ResidueFrame: PC0 with centroid [84.88216247558594, 35.167925643920896, 26.561857318878175] at 0x7fc3b83ff618>"
      ]
     },
     "execution_count": 7,
     "metadata": {},
     "output_type": "execute_result"
    }
   ],
   "source": [
    "r = next(iter(frame))\n",
    "r"
   ]
  },
  {
   "cell_type": "code",
   "execution_count": 34,
   "metadata": {
    "ExecuteTime": {
     "end_time": "2020-02-07T10:41:48.889465Z",
     "start_time": "2020-02-07T10:41:47.561652Z"
    }
   },
   "outputs": [
    {
     "name": "stderr",
     "output_type": "stream",
     "text": [
      "Detecting residues within 25 Å of the reference molecule in frame 0\n",
      "centroid (ctd) = [84.88216247558594, 35.167925643920896, 26.561857318878175]\n",
      "closest to ctd (cst) = [85.85326385498047, 34.7745361328125, 26.749479293823242]\n",
      "farthest from cst (fct) = [81.73482513427734, 34.275516510009766, 20.86566162109375]\n",
      "farthest from fct (ftf) = [85.48957824707031, 36.25408172607422, 31.494956970214844]\n",
      "Detected 5 residues inside the binding pocket\n"
     ]
    }
   ],
   "source": [
    "prot = prolif.Protein.from_pytraj(traj[\"!(:WAT,PA,PC,OL,K\\+,Cl\\-)\"], reference=lig, cutoff=25)"
   ]
  },
  {
   "cell_type": "code",
   "execution_count": 32,
   "metadata": {
    "ExecuteTime": {
     "end_time": "2020-02-06T18:26:34.574697Z",
     "start_time": "2020-02-06T18:26:34.549180Z"
    }
   },
   "outputs": [
    {
     "data": {
      "text/plain": [
       "'<prolif.protein.Protein: 20 frame(s), 5 residues, 4866 atoms, 4929 bonds, 64 rings at 0x7fc3a800cf48>'"
      ]
     },
     "execution_count": 32,
     "metadata": {},
     "output_type": "execute_result"
    }
   ],
   "source": [
    "prot.__repr__()"
   ]
  },
  {
   "cell_type": "markdown",
   "metadata": {},
   "source": [
    "# Topology tests"
   ]
  },
  {
   "cell_type": "code",
   "execution_count": 100,
   "metadata": {
    "ExecuteTime": {
     "end_time": "2020-02-06T11:50:27.883171Z",
     "start_time": "2020-02-06T11:50:27.743726Z"
    }
   },
   "outputs": [
    {
     "data": {
      "image/png": "[encoded data removed]",
      "text/plain": [
       "<rdkit.Chem.rdchem.RWMol at 0x7f23939bddf8>"
      ]
     },
     "metadata": {},
     "output_type": "display_data"
    },
    {
     "data": {
      "image/png": "[encoded data removed]",
      "text/plain": [
       "<rdkit.Chem.rdchem.RWMol at 0x7f23939bddf8>"
      ]
     },
     "metadata": {},
     "output_type": "display_data"
    },
    {
     "data": {
      "image/png": "[encoded data removed]",
      "text/plain": [
       "<rdkit.Chem.rdchem.RWMol at 0x7f23939bd650>"
      ]
     },
     "metadata": {},
     "output_type": "display_data"
    },
    {
     "data": {
      "image/png": "[encoded data removed]",
      "text/plain": [
       "<rdkit.Chem.rdchem.RWMol at 0x7f23939bd650>"
      ]
     },
     "metadata": {},
     "output_type": "display_data"
    },
    {
     "data": {
      "image/png": "[encoded data removed]",
      "text/plain": [
       "<rdkit.Chem.rdchem.RWMol at 0x7f23bf2e7298>"
      ]
     },
     "metadata": {},
     "output_type": "display_data"
    },
    {
     "data": {
      "image/png": "[encoded data removed]",
      "text/plain": [
       "<rdkit.Chem.rdchem.RWMol at 0x7f23bf2e7298>"
      ]
     },
     "metadata": {},
     "output_type": "display_data"
    },
    {
     "data": {
      "image/png": "[encoded data removed]",
      "text/plain": [
       "<rdkit.Chem.rdchem.RWMol at 0x7f23bf6b7260>"
      ]
     },
     "metadata": {},
     "output_type": "display_data"
    },
    {
     "data": {
      "image/png": "[encoded data removed]",
      "text/plain": [
       "<rdkit.Chem.rdchem.RWMol at 0x7f23bf6b7260>"
      ]
     },
     "metadata": {},
     "output_type": "display_data"
    },
    {
     "data": {
      "image/png": "[encoded data removed]",
      "text/plain": [
       "<rdkit.Chem.rdchem.RWMol at 0x7f23939bddf8>"
      ]
     },
     "metadata": {},
     "output_type": "display_data"
    },
    {
     "data": {
      "image/png": "[encoded data removed]",
      "text/plain": [
       "<rdkit.Chem.rdchem.RWMol at 0x7f23939bddf8>"
      ]
     },
     "metadata": {},
     "output_type": "display_data"
    },
    {
     "data": {
      "image/png": "[encoded data removed]",
      "text/plain": [
       "<rdkit.Chem.rdchem.RWMol at 0x7f23939bd650>"
      ]
     },
     "metadata": {},
     "output_type": "display_data"
    },
    {
     "data": {
      "image/png": "[encoded data removed]",
      "text/plain": [
       "<rdkit.Chem.rdchem.RWMol at 0x7f23939bd650>"
      ]
     },
     "metadata": {},
     "output_type": "display_data"
    },
    {
     "data": {
      "image/png": "[encoded data removed]",
      "text/plain": [
       "<rdkit.Chem.rdchem.RWMol at 0x7f23bf2e7298>"
      ]
     },
     "metadata": {},
     "output_type": "display_data"
    },
    {
     "data": {
      "image/png": "[encoded data removed]",
      "text/plain": [
       "<rdkit.Chem.rdchem.RWMol at 0x7f23bf2e7298>"
      ]
     },
     "metadata": {},
     "output_type": "display_data"
    },
    {
     "name": "stderr",
     "output_type": "stream",
     "text": [
      "RDKit ERROR: getExplicitValence() called without call to calcExplicitValence()\n",
      "RDKit ERROR: Violation occurred on line 161 in file /opt/conda/conda-bld/rdkit_1561471048963/work/Code/GraphMol/Atom.cpp\n",
      "RDKit ERROR: Failed Expression: d_explicitValence > -1\n",
      "RDKit ERROR: ****\n",
      "RDKit ERROR: \n",
      "RDKit ERROR: [12:50:22] \n",
      "RDKit ERROR: \n",
      "RDKit ERROR: ****\n",
      "RDKit ERROR: Pre-condition Violation\n",
      "RDKit ERROR: getExplicitValence() called without call to calcExplicitValence()\n",
      "RDKit ERROR: Violation occurred on line 161 in file /opt/conda/conda-bld/rdkit_1561471048963/work/Code/GraphMol/Atom.cpp\n",
      "RDKit ERROR: Failed Expression: d_explicitValence > -1\n",
      "RDKit ERROR: ****\n",
      "RDKit ERROR: \n",
      "RDKit ERROR: [12:50:22] \n",
      "RDKit ERROR: \n",
      "RDKit ERROR: ****\n",
      "RDKit ERROR: Pre-condition Violation\n",
      "RDKit ERROR: getExplicitValence() called without call to calcExplicitValence()\n",
      "RDKit ERROR: Violation occurred on line 161 in file /opt/conda/conda-bld/rdkit_1561471048963/work/Code/GraphMol/Atom.cpp\n",
      "RDKit ERROR: Failed Expression: d_explicitValence > -1\n",
      "RDKit ERROR: ****\n",
      "RDKit ERROR: \n",
      "RDKit ERROR: [12:50:22] \n",
      "RDKit ERROR: \n",
      "RDKit ERROR: ****\n",
      "RDKit ERROR: Pre-condition Violation\n",
      "RDKit ERROR: getExplicitValence() called without call to calcExplicitValence()\n",
      "RDKit ERROR: Violation occurred on line 161 in file /opt/conda/conda-bld/rdkit_1561471048963/work/Code/GraphMol/Atom.cpp\n",
      "RDKit ERROR: Failed Expression: d_explicitValence > -1\n",
      "RDKit ERROR: ****\n",
      "RDKit ERROR: \n",
      "RDKit ERROR: [12:50:22] \n",
      "RDKit ERROR: \n",
      "RDKit ERROR: ****\n",
      "RDKit ERROR: Pre-condition Violation\n",
      "RDKit ERROR: getExplicitValence() called without call to calcExplicitValence()\n",
      "RDKit ERROR: Violation occurred on line 161 in file /opt/conda/conda-bld/rdkit_1561471048963/work/Code/GraphMol/Atom.cpp\n",
      "RDKit ERROR: Failed Expression: d_explicitValence > -1\n",
      "RDKit ERROR: ****\n",
      "RDKit ERROR: \n",
      "RDKit ERROR: [12:50:23] \n",
      "RDKit ERROR: \n",
      "RDKit ERROR: ****\n",
      "RDKit ERROR: Pre-condition Violation\n",
      "RDKit ERROR: getExplicitValence() called without call to calcExplicitValence()\n",
      "RDKit ERROR: Violation occurred on line 161 in file /opt/conda/conda-bld/rdkit_1561471048963/work/Code/GraphMol/Atom.cpp\n",
      "RDKit ERROR: Failed Expression: d_explicitValence > -1\n",
      "RDKit ERROR: ****\n",
      "RDKit ERROR: \n",
      "RDKit ERROR: [12:50:23] \n",
      "RDKit ERROR: \n",
      "RDKit ERROR: ****\n",
      "RDKit ERROR: Pre-condition Violation\n",
      "RDKit ERROR: getExplicitValence() called without call to calcExplicitValence()\n",
      "RDKit ERROR: Violation occurred on line 161 in file /opt/conda/conda-bld/rdkit_1561471048963/work/Code/GraphMol/Atom.cpp\n",
      "RDKit ERROR: Failed Expression: d_explicitValence > -1\n",
      "RDKit ERROR: ****\n",
      "RDKit ERROR: \n",
      "RDKit ERROR: [12:50:23] \n",
      "RDKit ERROR: \n",
      "RDKit ERROR: ****\n",
      "RDKit ERROR: Pre-condition Violation\n",
      "RDKit ERROR: getExplicitValence() called without call to calcExplicitValence()\n",
      "RDKit ERROR: Violation occurred on line 161 in file /opt/conda/conda-bld/rdkit_1561471048963/work/Code/GraphMol/Atom.cpp\n",
      "RDKit ERROR: Failed Expression: d_explicitValence > -1\n",
      "RDKit ERROR: ****\n",
      "RDKit ERROR: \n",
      "RDKit ERROR: [12:50:27] \n",
      "RDKit ERROR: \n",
      "RDKit ERROR: ****\n",
      "RDKit ERROR: Pre-condition Violation\n",
      "RDKit ERROR: getExplicitValence() called without call to calcExplicitValence()\n",
      "RDKit ERROR: Violation occurred on line 161 in file /opt/conda/conda-bld/rdkit_1561471048963/work/Code/GraphMol/Atom.cpp\n",
      "RDKit ERROR: Failed Expression: d_explicitValence > -1\n",
      "RDKit ERROR: ****\n",
      "RDKit ERROR: \n",
      "RDKit ERROR: [12:50:27] \n",
      "RDKit ERROR: \n",
      "RDKit ERROR: ****\n",
      "RDKit ERROR: Pre-condition Violation\n",
      "RDKit ERROR: getExplicitValence() called without call to calcExplicitValence()\n",
      "RDKit ERROR: Violation occurred on line 161 in file /opt/conda/conda-bld/rdkit_1561471048963/work/Code/GraphMol/Atom.cpp\n",
      "RDKit ERROR: Failed Expression: d_explicitValence > -1\n",
      "RDKit ERROR: ****\n",
      "RDKit ERROR: \n",
      "RDKit ERROR: [12:50:27] \n",
      "RDKit ERROR: \n",
      "RDKit ERROR: ****\n",
      "RDKit ERROR: Pre-condition Violation\n",
      "RDKit ERROR: getExplicitValence() called without call to calcExplicitValence()\n",
      "RDKit ERROR: Violation occurred on line 161 in file /opt/conda/conda-bld/rdkit_1561471048963/work/Code/GraphMol/Atom.cpp\n",
      "RDKit ERROR: Failed Expression: d_explicitValence > -1\n",
      "RDKit ERROR: ****\n",
      "RDKit ERROR: \n",
      "RDKit ERROR: [12:50:27] \n",
      "RDKit ERROR: \n",
      "RDKit ERROR: ****\n",
      "RDKit ERROR: Pre-condition Violation\n",
      "RDKit ERROR: getExplicitValence() called without call to calcExplicitValence()\n",
      "RDKit ERROR: Violation occurred on line 161 in file /opt/conda/conda-bld/rdkit_1561471048963/work/Code/GraphMol/Atom.cpp\n",
      "RDKit ERROR: Failed Expression: d_explicitValence > -1\n",
      "RDKit ERROR: ****\n",
      "RDKit ERROR: \n",
      "RDKit ERROR: [12:50:27] \n",
      "RDKit ERROR: \n",
      "RDKit ERROR: ****\n",
      "RDKit ERROR: Pre-condition Violation\n",
      "RDKit ERROR: getExplicitValence() called without call to calcExplicitValence()\n",
      "RDKit ERROR: Violation occurred on line 161 in file /opt/conda/conda-bld/rdkit_1561471048963/work/Code/GraphMol/Atom.cpp\n",
      "RDKit ERROR: Failed Expression: d_explicitValence > -1\n",
      "RDKit ERROR: ****\n",
      "RDKit ERROR: \n",
      "RDKit ERROR: [12:50:27] \n",
      "RDKit ERROR: \n",
      "RDKit ERROR: ****\n",
      "RDKit ERROR: Pre-condition Violation\n",
      "RDKit ERROR: getExplicitValence() called without call to calcExplicitValence()\n",
      "RDKit ERROR: Violation occurred on line 161 in file /opt/conda/conda-bld/rdkit_1561471048963/work/Code/GraphMol/Atom.cpp\n",
      "RDKit ERROR: Failed Expression: d_explicitValence > -1\n",
      "RDKit ERROR: ****\n",
      "RDKit ERROR: \n",
      "RDKit ERROR: [12:50:27] \n",
      "RDKit ERROR: \n",
      "RDKit ERROR: ****\n",
      "RDKit ERROR: Pre-condition Violation\n",
      "RDKit ERROR: getExplicitValence() called without call to calcExplicitValence()\n",
      "RDKit ERROR: Violation occurred on line 161 in file /opt/conda/conda-bld/rdkit_1561471048963/work/Code/GraphMol/Atom.cpp\n",
      "RDKit ERROR: Failed Expression: d_explicitValence > -1\n",
      "RDKit ERROR: ****\n",
      "RDKit ERROR: \n",
      "RDKit ERROR: [12:50:27] \n",
      "RDKit ERROR: \n",
      "RDKit ERROR: ****\n",
      "RDKit ERROR: Pre-condition Violation\n",
      "RDKit ERROR: getExplicitValence() called without call to calcExplicitValence()\n",
      "RDKit ERROR: Violation occurred on line 161 in file /opt/conda/conda-bld/rdkit_1561471048963/work/Code/GraphMol/Atom.cpp\n"
     ]
    },
    {
     "data": {
      "image/png": "[encoded data removed]",
      "text/plain": [
       "<rdkit.Chem.rdchem.RWMol at 0x7f23bf6b7260>"
      ]
     },
     "metadata": {},
     "output_type": "display_data"
    },
    {
     "data": {
      "image/png": "[encoded data removed]",
      "text/plain": [
       "<rdkit.Chem.rdchem.RWMol at 0x7f23bf6b7260>"
      ]
     },
     "metadata": {},
     "output_type": "display_data"
    },
    {
     "data": {
      "image/png": "[encoded data removed]",
      "text/plain": [
       "<rdkit.Chem.rdchem.RWMol at 0x7f23bf6b7ed8>"
      ]
     },
     "metadata": {},
     "output_type": "display_data"
    },
    {
     "data": {
      "image/png": "[encoded data removed]",
      "text/plain": [
       "<rdkit.Chem.rdchem.RWMol at 0x7f23bf6b7ed8>"
      ]
     },
     "metadata": {},
     "output_type": "display_data"
    }
   ],
   "source": [
    "tests = [\n",
    "    \"[C](-[H])(-[H])(-[H])-[H]\",\n",
    "    \"[C]1(-[H])-[C](-[H])-[C](-[H])-[C](-[H])-[C](-[H])-[C]1(-[H])\",\n",
    "    \"[N](-[H])(-[H])(-[H])-[H]\",\n",
    "    \"[Cl]-[C](-[H])-[O]\",\n",
    "    \"[H]-[C](-[O])-[N](-[H])-[H]\",\n",
    "    \"[H]-[C](-[H])-[C](-[O][H])-[O]\",\n",
    "    \"[H]-[C](-[H])-[C](-[O])-[O]\",\n",
    "    \"[O]-[N](-[O])-[H]\",\n",
    "    \"[O]-[S](-[O])(-[O])-[O]-[H]\"\n",
    "]\n",
    "for s in tests:\n",
    "    mol = Chem.RWMol(Chem.MolFromSmiles(s, sanitize=False))\n",
    "    display(mol)\n",
    "    prolif.utils.update_bonds_and_charges(mol)\n",
    "    display(mol)"
   ]
  }
 ],
 "metadata": {
  "hide_input": false,
  "kernelspec": {
   "display_name": "Python 3",
   "language": "python",
   "name": "python3"
  },
  "language_info": {
   "codemirror_mode": {
    "name": "ipython",
    "version": 3
   },
   "file_extension": ".py",
   "mimetype": "text/x-python",
   "name": "python",
   "nbconvert_exporter": "python",
   "pygments_lexer": "ipython3",
   "version": "3.7.3"
  },
  "toc": {
   "base_numbering": 1,
   "nav_menu": {},
   "number_sections": true,
   "sideBar": true,
   "skip_h1_title": false,
   "title_cell": "Table of Contents",
   "title_sidebar": "Contents",
   "toc_cell": false,
   "toc_position": {
    "height": "calc(100% - 180px)",
    "left": "10px",
    "top": "150px",
    "width": "275px"
   },
   "toc_section_display": true,
   "toc_window_display": true
  }
 },
 "nbformat": 4,
 "nbformat_minor": 2
}
