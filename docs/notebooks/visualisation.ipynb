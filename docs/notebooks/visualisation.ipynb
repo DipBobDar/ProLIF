{
 "metadata": {
  "language_info": {
   "codemirror_mode": {
    "name": "ipython",
    "version": 3
   },
   "file_extension": ".py",
   "mimetype": "text/x-python",
   "name": "python",
   "nbconvert_exporter": "python",
   "pygments_lexer": "ipython3",
   "version": 3
  },
  "orig_nbformat": 2
 },
 "nbformat": 4,
 "nbformat_minor": 2,
 "cells": [
  {
   "cell_type": "code",
   "execution_count": null,
   "metadata": {},
   "outputs": [],
   "source": [
    "# colors = {\n",
    "#     \"HBAcceptor\": \"red\",\n",
    "#     \"FaceToFace\": \"blue\",\n",
    "#     \"EdgeToFace\": \"orange\",\n",
    "# }\n",
    "# s = PyMol.MolViewer()\n",
    "# s.DeleteAll()\n",
    "# s.ShowMol(lig_mol[0], name=\"ligand\", showOnly=False, showSticks=True)\n",
    "# s.server.do(\"color cyan, ligand and elem C\")\n",
    "# for res in ifp.keys():\n",
    "#     ids = [t for t in atoms[res] if t[0] is not None][0]\n",
    "#     for a1 in lig_mol[0].GetAtoms():\n",
    "#         if a1.GetUnsignedProp(\"mapindex\") == ids[0]:\n",
    "#             break\n",
    "    \n",
    "#     for a2 in prot_mol[res].GetAtoms():\n",
    "#         if a2.GetUnsignedProp(\"mapindex\") == ids[1]:\n",
    "#             break\n",
    "#     resname = f\"res{str(res)[:-2]}\"\n",
    "#     s.ShowMol(prot_mol[res], name=resname, showOnly=False)\n",
    "#     s.server.do(f\"color green, {resname} and elem C\")\n",
    "#     s.server.do(f\"distance lig-{resname}, ligand and id {a1.GetIdx()+1}, {resname} and id {a2.GetIdx()+1}\")\n",
    "#     s.server.do(f\"hide label, lig-{resname}\")\n",
    "#     itype = list(fp.interactions.keys())[np.where(ifp[res] == True)[0][0]]\n",
    "#     color = colors[itype]\n",
    "#     s.server.do(f\"color {color}, lig-{resname}\")"
   ]
  }
 ]
}